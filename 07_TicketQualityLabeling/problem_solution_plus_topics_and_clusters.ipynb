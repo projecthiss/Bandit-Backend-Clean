{
  "cells": [
    {
      "cell_type": "code",
      "execution_count": 27,
      "metadata": {
        "colab": {
          "base_uri": "https://localhost:8080/"
        },
        "id": "hsK8zujOTPe9",
        "outputId": "0b436e17-1aee-47f2-de8f-f50a55bee802"
      },
      "outputs": [
        {
          "name": "stdout",
          "output_type": "stream",
          "text": [
            "Drive already mounted at /content/gdrive; to attempt to forcibly remount, call drive.mount(\"/content/gdrive\", force_remount=True).\n"
          ]
        }
      ],
      "source": [
        "from google.colab import drive\n",
        "drive.mount('/content/gdrive')"
      ]
    },
    {
      "cell_type": "code",
      "execution_count": 28,
      "metadata": {
        "id": "kwVLUe0YUGCa"
      },
      "outputs": [],
      "source": [
        "import pandas as pd"
      ]
    },
    {
      "cell_type": "code",
      "execution_count": 29,
      "metadata": {
        "id": "0OzYuESdTh_h"
      },
      "outputs": [],
      "source": [
        "df_clusters = pd.read_excel(\"/content/gdrive/My Drive/Colab Notebooks/Pipeline_Extended/topic_clusters_labeled.xlsx\", sheet_name=0, na_values=\"NaN\")\n",
        "df_topics = pd.read_excel(\"/content/gdrive/My Drive/Colab Notebooks/Pipeline_Extended/output_bert_topics_df_withStopwords_v2.xlsx\", sheet_name=0, na_values=\"NaN\")\n",
        "df_problem_solution = pd.read_excel(\"/content/gdrive/My Drive/Colab Notebooks/Pipeline_Extended/output_user_agent_no_names_plus_topics.xlsx\", sheet_name=0, na_values=\"NaN\")"
      ]
    },
    {
      "cell_type": "code",
      "execution_count": 1,
      "metadata": {
        "colab": {
          "base_uri": "https://localhost:8080/",
          "height": 716
        },
        "id": "JHE6heFbVZSL",
        "outputId": "763ed4b1-386a-4406-fddf-93f65cb8d4c6"
      },
      "outputs": [
        {
          "ename": "NameError",
          "evalue": "name 'pd' is not defined",
          "output_type": "error",
          "traceback": [
            "\u001b[1;31m---------------------------------------------------------------------------\u001b[0m",
            "\u001b[1;31mNameError\u001b[0m                                 Traceback (most recent call last)",
            "\u001b[1;32me:\\Uni Kassel\\Backup_07092023\\Pipeline_Extended Clean\\07_TicketQualityLabeling\\problem_solution_plus_topics_and_clusters.ipynb Cell 4\u001b[0m line \u001b[0;36m2\n\u001b[0;32m      <a href='vscode-notebook-cell:/e%3A/Uni%20Kassel/Backup_07092023/Pipeline_Extended%20Clean/07_TicketQualityLabeling/problem_solution_plus_topics_and_clusters.ipynb#W3sZmlsZQ%3D%3D?line=0'>1</a>\u001b[0m \u001b[39m#Merge Problem-Solution Excel with Topics excel\u001b[39;00m\n\u001b[1;32m----> <a href='vscode-notebook-cell:/e%3A/Uni%20Kassel/Backup_07092023/Pipeline_Extended%20Clean/07_TicketQualityLabeling/problem_solution_plus_topics_and_clusters.ipynb#W3sZmlsZQ%3D%3D?line=1'>2</a>\u001b[0m df \u001b[39m=\u001b[39m pd\u001b[39m.\u001b[39mmerge(df_problem_solution,df_topics[[\u001b[39m'\u001b[39m\u001b[39mnumber\u001b[39m\u001b[39m'\u001b[39m,\u001b[39m'\u001b[39m\u001b[39mtopic\u001b[39m\u001b[39m'\u001b[39m]],on\u001b[39m=\u001b[39m\u001b[39m'\u001b[39m\u001b[39mnumber\u001b[39m\u001b[39m'\u001b[39m, how\u001b[39m=\u001b[39m\u001b[39m'\u001b[39m\u001b[39mleft\u001b[39m\u001b[39m'\u001b[39m)\n",
            "\u001b[1;31mNameError\u001b[0m: name 'pd' is not defined"
          ]
        }
      ],
      "source": [
        "#Merge Problem-Solution Excel with Topics excel\n",
        "df = pd.merge(df_problem_solution,df_topics[['number','topic']],on='number', how='left')"
      ]
    },
    {
      "cell_type": "code",
      "execution_count": 2,
      "metadata": {
        "colab": {
          "base_uri": "https://localhost:8080/",
          "height": 716
        },
        "id": "ZfhQq2UJZW0t",
        "outputId": "a84ac719-e9da-46bf-fedd-384d0b30ba7f"
      },
      "outputs": [
        {
          "ename": "NameError",
          "evalue": "name 'pd' is not defined",
          "output_type": "error",
          "traceback": [
            "\u001b[1;31m---------------------------------------------------------------------------\u001b[0m",
            "\u001b[1;31mNameError\u001b[0m                                 Traceback (most recent call last)",
            "\u001b[1;32me:\\Uni Kassel\\Backup_07092023\\Pipeline_Extended Clean\\07_TicketQualityLabeling\\problem_solution_plus_topics_and_clusters.ipynb Cell 5\u001b[0m line \u001b[0;36m2\n\u001b[0;32m      <a href='vscode-notebook-cell:/e%3A/Uni%20Kassel/Backup_07092023/Pipeline_Extended%20Clean/07_TicketQualityLabeling/problem_solution_plus_topics_and_clusters.ipynb#W4sZmlsZQ%3D%3D?line=0'>1</a>\u001b[0m \u001b[39m#Then merge with clusters\u001b[39;00m\n\u001b[1;32m----> <a href='vscode-notebook-cell:/e%3A/Uni%20Kassel/Backup_07092023/Pipeline_Extended%20Clean/07_TicketQualityLabeling/problem_solution_plus_topics_and_clusters.ipynb#W4sZmlsZQ%3D%3D?line=1'>2</a>\u001b[0m df \u001b[39m=\u001b[39m pd\u001b[39m.\u001b[39mmerge(df,df_clusters[[\u001b[39m'\u001b[39m\u001b[39mtopic\u001b[39m\u001b[39m'\u001b[39m,\u001b[39m'\u001b[39m\u001b[39mmerged_clusters\u001b[39m\u001b[39m'\u001b[39m,\u001b[39m'\u001b[39m\u001b[39mFilter\u001b[39m\u001b[39m'\u001b[39m]],on\u001b[39m=\u001b[39m\u001b[39m'\u001b[39m\u001b[39mtopic\u001b[39m\u001b[39m'\u001b[39m, how\u001b[39m=\u001b[39m\u001b[39m'\u001b[39m\u001b[39mleft\u001b[39m\u001b[39m'\u001b[39m)\n",
            "\u001b[1;31mNameError\u001b[0m: name 'pd' is not defined"
          ]
        }
      ],
      "source": [
        "#Then merge with clusters\n",
        "df = pd.merge(df,df_clusters[['topic','merged_clusters','Filter']],on='topic', how='left')"
      ]
    },
    {
      "cell_type": "code",
      "execution_count": 3,
      "metadata": {
        "colab": {
          "base_uri": "https://localhost:8080/",
          "height": 716
        },
        "id": "QmCY_-pB57P8",
        "outputId": "666ce49e-6d29-4281-c0c4-1fc80685698a"
      },
      "outputs": [
        {
          "ename": "NameError",
          "evalue": "name 'df' is not defined",
          "output_type": "error",
          "traceback": [
            "\u001b[1;31m---------------------------------------------------------------------------\u001b[0m",
            "\u001b[1;31mNameError\u001b[0m                                 Traceback (most recent call last)",
            "\u001b[1;32me:\\Uni Kassel\\Backup_07092023\\Pipeline_Extended Clean\\07_TicketQualityLabeling\\problem_solution_plus_topics_and_clusters.ipynb Cell 6\u001b[0m line \u001b[0;36m2\n\u001b[0;32m      <a href='vscode-notebook-cell:/e%3A/Uni%20Kassel/Backup_07092023/Pipeline_Extended%20Clean/07_TicketQualityLabeling/problem_solution_plus_topics_and_clusters.ipynb#W5sZmlsZQ%3D%3D?line=0'>1</a>\u001b[0m new_column \u001b[39m=\u001b[39m []\n\u001b[1;32m----> <a href='vscode-notebook-cell:/e%3A/Uni%20Kassel/Backup_07092023/Pipeline_Extended%20Clean/07_TicketQualityLabeling/problem_solution_plus_topics_and_clusters.ipynb#W5sZmlsZQ%3D%3D?line=1'>2</a>\u001b[0m \u001b[39mfor\u001b[39;00m values \u001b[39min\u001b[39;00m df[\u001b[39m'\u001b[39m\u001b[39mproblem\u001b[39m\u001b[39m'\u001b[39m]:\n\u001b[0;32m      <a href='vscode-notebook-cell:/e%3A/Uni%20Kassel/Backup_07092023/Pipeline_Extended%20Clean/07_TicketQualityLabeling/problem_solution_plus_topics_and_clusters.ipynb#W5sZmlsZQ%3D%3D?line=2'>3</a>\u001b[0m     clean_value \u001b[39m=\u001b[39m re\u001b[39m.\u001b[39msub(\u001b[39mr\u001b[39m\u001b[39m\"\u001b[39m\u001b[39m[^a-zA-Z0-9 ]\u001b[39m\u001b[39m\"\u001b[39m,\u001b[39m\"\u001b[39m\u001b[39m\"\u001b[39m, values)\n\u001b[0;32m      <a href='vscode-notebook-cell:/e%3A/Uni%20Kassel/Backup_07092023/Pipeline_Extended%20Clean/07_TicketQualityLabeling/problem_solution_plus_topics_and_clusters.ipynb#W5sZmlsZQ%3D%3D?line=3'>4</a>\u001b[0m     clean_value \u001b[39m=\u001b[39m clean_value\u001b[39m.\u001b[39mreplace(\u001b[39m'\u001b[39m\u001b[39mAdditional Location\u001b[39m\u001b[39m'\u001b[39m, \u001b[39m'\u001b[39m\u001b[39m'\u001b[39m) \n",
            "\u001b[1;31mNameError\u001b[0m: name 'df' is not defined"
          ]
        }
      ],
      "source": [
        "new_column = []\n",
        "for values in df['problem']:\n",
        "    clean_value = re.sub(r\"[^a-zA-Z0-9 ]\",\"\", values)\n",
        "    clean_value = clean_value.replace('Additional Location', '') \n",
        "    clean_value = clean_value.replace('Additional comments Information', '')\n",
        "    clean_value = clean_value.replace('Affected Device', '')\n",
        "    clean_value = clean_value.replace('Issue Description', '')\n",
        "    clean_value = clean_value.replace('Issue Description', '')\n",
        "    clean_value = re.sub(r\"name[0-9]+\", \"\", values)\n",
        "    clean_value_split = \" \".join(clean_value.split())\n",
        "    new_column.append(len(clean_value_split.split()))\n",
        "\n",
        "df['problem_word_count'] = new_column\n",
        "\n",
        "new_column = []\n",
        "for values in df['solution']:\n",
        "    clean_value = re.sub(r\"[^a-zA-Z0-9 ]\",\"\", values)\n",
        "    clean_value = clean_value.replace('Additional Location', '') \n",
        "    clean_value = clean_value.replace('Additional comments Information', '')\n",
        "    clean_value = clean_value.replace('Affected Device', '')\n",
        "    clean_value = clean_value.replace('Issue Description', '')\n",
        "    clean_value = clean_value.replace('Issue Description', '')\n",
        "    clean_value = re.sub(r\"name[0-9]+\", \"\", values)\n",
        "    clean_value_split = \" \".join(clean_value.split())\n",
        "    new_column.append(len(clean_value_split.split()))\n",
        "    \n",
        "df['solution_word_count'] = new_column"
      ]
    },
    {
      "cell_type": "code",
      "execution_count": 49,
      "metadata": {
        "colab": {
          "base_uri": "https://localhost:8080/"
        },
        "id": "_M36f7QK_WM4",
        "outputId": "b4fe5198-9243-4561-b578-0611ff583d67"
      },
      "outputs": [
        {
          "name": "stdout",
          "output_type": "stream",
          "text": [
            "22.48552202587426\n",
            "72.45230828780277\n"
          ]
        }
      ],
      "source": [
        "df2 = df[\"problem_word_count\"].mean()\n",
        "print(df2)\n",
        "df3 = df[\"solution_word_count\"].mean()\n",
        "print(df3)"
      ]
    },
    {
      "cell_type": "code",
      "execution_count": 50,
      "metadata": {
        "colab": {
          "base_uri": "https://localhost:8080/"
        },
        "id": "oWztlCC7CmwM",
        "outputId": "38dab5b9-7d63-44b3-b925-418e0fdd56b0"
      },
      "outputs": [
        {
          "data": {
            "text/plain": [
              "67171"
            ]
          },
          "execution_count": 50,
          "metadata": {},
          "output_type": "execute_result"
        }
      ],
      "source": [
        "df.head()\n",
        "df.shape[0]"
      ]
    },
    {
      "cell_type": "code",
      "execution_count": 22,
      "metadata": {
        "id": "2VDZMpVRBW38"
      },
      "outputs": [],
      "source": [
        "#df.to_excel(\"/content/gdrive/My Drive/Colab Notebooks/Pipeline_Extended/output_user_agent_no_names_plus_topics_clusters.xlsx\")"
      ]
    },
    {
      "cell_type": "code",
      "execution_count": 77,
      "metadata": {
        "id": "L77MspjUCW3K"
      },
      "outputs": [],
      "source": [
        "df_filtered = df[(df.problem_word_count >5) & (df.solution_word_count >35)]"
      ]
    },
    {
      "cell_type": "code",
      "execution_count": 60,
      "metadata": {
        "id": "CKvyUHx3cx3o"
      },
      "outputs": [],
      "source": [
        "df_filtered.to_excel(\"/content/gdrive/My Drive/Colab Notebooks/Pipeline_Extended/output_user_agent_no_names_plus_topics_clusters_filtered_on_word_count_v2.xlsx\")"
      ]
    },
    {
      "cell_type": "code",
      "execution_count": 79,
      "metadata": {
        "colab": {
          "base_uri": "https://localhost:8080/"
        },
        "id": "3o26GlogDg_m",
        "outputId": "74383435-a0f5-4335-8f8a-3ead27fdd63d"
      },
      "outputs": [
        {
          "data": {
            "text/plain": [
              "26865"
            ]
          },
          "execution_count": 79,
          "metadata": {},
          "output_type": "execute_result"
        }
      ],
      "source": [
        "df_filtered.shape[0]"
      ]
    },
    {
      "cell_type": "code",
      "execution_count": 80,
      "metadata": {
        "id": "Fe8p8IwpfVYw"
      },
      "outputs": [],
      "source": [
        "#Filter on true\n",
        "df_filtered = df_filtered.loc[df['Filter']==True]"
      ]
    },
    {
      "cell_type": "code",
      "execution_count": 81,
      "metadata": {
        "colab": {
          "base_uri": "https://localhost:8080/"
        },
        "id": "XwJRScGAgHBp",
        "outputId": "920e3e71-4f2b-49ab-e401-bf520d0a3811"
      },
      "outputs": [
        {
          "name": "stdout",
          "output_type": "stream",
          "text": [
            "Filtered on cluster quality:\n"
          ]
        },
        {
          "data": {
            "text/plain": [
              "8187"
            ]
          },
          "execution_count": 81,
          "metadata": {},
          "output_type": "execute_result"
        }
      ],
      "source": [
        "print(\"Filtered on cluster quality:\")\n",
        "df_filtered.shape[0]"
      ]
    },
    {
      "cell_type": "code",
      "execution_count": 82,
      "metadata": {
        "colab": {
          "base_uri": "https://localhost:8080/"
        },
        "id": "kDkaD9lRh7ZA",
        "outputId": "fe2bb648-c5b4-4ce9-93f8-005333d9775e"
      },
      "outputs": [
        {
          "data": {
            "text/plain": [
              "207"
            ]
          },
          "execution_count": 82,
          "metadata": {},
          "output_type": "execute_result"
        }
      ],
      "source": [
        "df_filtered = df_filtered.groupby('merged_clusters').apply(lambda x: x.sample(1)).reset_index(drop=True)\n",
        "df_filtered.shape[0]"
      ]
    },
    {
      "cell_type": "code",
      "execution_count": 84,
      "metadata": {
        "id": "xtI7ySj_jarx"
      },
      "outputs": [],
      "source": [
        "df_filtered.to_excel(\"/content/gdrive/My Drive/Colab Notebooks/Pipeline_Extended/input_ticket_labeling_V2.xlsx\")"
      ]
    }
  ],
  "metadata": {
    "colab": {
      "provenance": []
    },
    "kernelspec": {
      "display_name": "Python 3",
      "name": "python3"
    },
    "language_info": {
      "codemirror_mode": {
        "name": "ipython",
        "version": 3
      },
      "file_extension": ".py",
      "mimetype": "text/x-python",
      "name": "python",
      "nbconvert_exporter": "python",
      "pygments_lexer": "ipython3",
      "version": "3.10.11"
    }
  },
  "nbformat": 4,
  "nbformat_minor": 0
}
