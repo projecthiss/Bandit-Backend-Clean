{
  "nbformat": 4,
  "nbformat_minor": 0,
  "metadata": {
    "colab": {
      "provenance": []
    },
    "kernelspec": {
      "name": "python3",
      "display_name": "Python 3"
    },
    "language_info": {
      "name": "python"
    }
  },
  "cells": [
    {
      "cell_type": "code",
      "execution_count": 1,
      "metadata": {
        "colab": {
          "base_uri": "https://localhost:8080/"
        },
        "id": "-u0RIhqPrRDF",
        "outputId": "f94fe267-829a-4dd2-d155-104b322804e9"
      },
      "outputs": [
        {
          "output_type": "stream",
          "name": "stdout",
          "text": [
            "Mounted at /content/drive\n"
          ]
        }
      ],
      "source": [
        "from google.colab import drive\n",
        "drive.mount('/content/drive')"
      ]
    },
    {
      "cell_type": "code",
      "source": [
        "import pandas as pd\n",
        "import re\n",
        "import datetime\n",
        "from collections import OrderedDict"
      ],
      "metadata": {
        "id": "8vuMF2AWtEGQ"
      },
      "execution_count": 2,
      "outputs": []
    },
    {
      "cell_type": "code",
      "source": [
        "df = pd.read_excel(\"/content/drive/MyDrive/output_anonomization_no_names_only_english_version2.xlsx\")"
      ],
      "metadata": {
        "id": "uUrRrLcArcwL"
      },
      "execution_count": 3,
      "outputs": []
    },
    {
      "cell_type": "code",
      "source": [
        "df.shape"
      ],
      "metadata": {
        "colab": {
          "base_uri": "https://localhost:8080/"
        },
        "id": "8IGo3JtItWST",
        "outputId": "f165d3a1-08de-4589-da22-7d1b7995b277"
      },
      "execution_count": null,
      "outputs": [
        {
          "output_type": "execute_result",
          "data": {
            "text/plain": [
              "(167972, 36)"
            ]
          },
          "metadata": {},
          "execution_count": 4
        }
      ]
    },
    {
      "cell_type": "code",
      "source": [
        "df.columns"
      ],
      "metadata": {
        "colab": {
          "base_uri": "https://localhost:8080/"
        },
        "id": "sPA8-yFYr9mi",
        "outputId": "366cdc51-e3a5-4e3d-b20a-bcffbaeb8fbd"
      },
      "execution_count": 4,
      "outputs": [
        {
          "output_type": "execute_result",
          "data": {
            "text/plain": [
              "Index(['Unnamed: 0', 'number', 'opened_by', 'short_description', 'priority',\n",
              "       'assignment_group', 'assigned_to', 'u_main_category_reporting',\n",
              "       'u_subcategory_1_reporting', 'u_subcategory_2_reporting',\n",
              "       'u_subcategory_3_reporting', 'u_resolver_group', 'u_resolver',\n",
              "       'u_first_assignment_group', 'u_country', 'sys_updated_on',\n",
              "       'sys_updated_by', 'sys_mod_count', 'u_vip', 'u_type', 'u_region',\n",
              "       'contact_type', 'location', 'u_resolved', 'closed_at',\n",
              "       'u_assignment_group_history', 'work_notes', 'comments', 'close_notes',\n",
              "       'u_assignee_history', 'merged', 'merged_string', 'business_duration',\n",
              "       'u_reassignment_count_assigne', 'reassignment_count', 'cleaned_string',\n",
              "       'isEnglish'],\n",
              "      dtype='object')"
            ]
          },
          "metadata": {},
          "execution_count": 4
        }
      ]
    },
    {
      "cell_type": "code",
      "source": [
        "filt = df['isEnglish'] == 1"
      ],
      "metadata": {
        "id": "mg8VMWVrtC7J"
      },
      "execution_count": null,
      "outputs": []
    },
    {
      "cell_type": "code",
      "source": [
        "df_filt = df.loc[filt]"
      ],
      "metadata": {
        "id": "1usTUUS8rdG-"
      },
      "execution_count": null,
      "outputs": []
    },
    {
      "cell_type": "code",
      "source": [
        "df_filt.shape"
      ],
      "metadata": {
        "colab": {
          "base_uri": "https://localhost:8080/"
        },
        "id": "dVpwlvDKtbVH",
        "outputId": "b7b9fffb-ce83-47cd-df6f-2d7615f91de5"
      },
      "execution_count": null,
      "outputs": [
        {
          "output_type": "execute_result",
          "data": {
            "text/plain": [
              "(67171, 36)"
            ]
          },
          "metadata": {},
          "execution_count": 7
        }
      ]
    },
    {
      "cell_type": "code",
      "source": [
        "user_comment_column = []\n",
        "agent_comment_column = []\n",
        "problem_column = []\n",
        "solution_column = []"
      ],
      "metadata": {
        "id": "qIoL5XjwutAL"
      },
      "execution_count": 5,
      "outputs": []
    },
    {
      "cell_type": "code",
      "source": [
        "for index, row in df.iterrows():\n",
        "    text = str(row['comments']) + '\\n' + str(row['work_notes'])\n",
        "    history = str(row['u_assignee_history'])\n",
        "    agents = history.split(',')\n",
        "    split_list = text.split('\\n')\n",
        "    users_comments = []\n",
        "    agents_comments = []\n",
        "    comment = \"\"\n",
        "    comments = []\n",
        "\n",
        "    check = False\n",
        "    for t in split_list:\n",
        "        if (\"Additional comments\" in t or \"Work notes\" in t) and not check:\n",
        "            check = True\n",
        "        elif (\"Additional comments\" in t or \"Work notes\" in t) and check:\n",
        "            comments.append(comment)\n",
        "            comment = \"\"\n",
        "        if check:\n",
        "            comment += t + '\\n'\n",
        "    comments.append(comment)\n",
        "\n",
        "    \n",
        "\n",
        "    for c in comments:\n",
        "        agent_check = False\n",
        "        for agent in agents:\n",
        "            if (\"Additional comments\" in c and agent in c[:c.find(\"Additional comments\")]) or (\"Work notes\" in c and agent in c[:c.find(\"Work notes\")]):\n",
        "                x = \"Issue description\"\n",
        "                y = \"Issue(s)\"\n",
        "                z = \"Short Description\"\n",
        "                if x in c or y in c or z in c:\n",
        "                    if \"My action taken\" in c:\n",
        "                        agents_comments.append(c)\n",
        "                        agent_check = True\n",
        "                        if x in c:\n",
        "                            if x not in str(row[\"short_description\"]):\n",
        "                                users_comments.append(c[c.find(x):].split('\\n')[0])\n",
        "\n",
        "                        if y in c:\n",
        "                            if y not in str(row[\"short_description\"]):\n",
        "                                users_comments.append(c[c.find(y):].split('\\n')[0])\n",
        "\n",
        "                        if z in c:\n",
        "                            if z not in str(row[\"short_description\"]):\n",
        "                                users_comments.append(c[c.find(z):].split('\\n')[0])\n",
        "                else:\n",
        "                    agents_comments.append(c)\n",
        "                    agent_check = True\n",
        "                break\n",
        "\n",
        "    if not agent_check:\n",
        "        users_comments.append(c)\n",
        "\n",
        "    users_text = '\\n'.join(users_comments)\n",
        "    agents_text = '\\n'.join(agents_comments)\n",
        "    user_comment_column.append(users_text)\n",
        "    agent_comment_column.append(agents_text)\n",
        "\n",
        "    problem = str(row['short_description']) + '\\n' + users_text\n",
        "    solution = agents_text + '\\n' + str(row['close_notes'])\n",
        "    problem_column.append(problem)\n",
        "    solution_column.append(solution)\n",
        "\n",
        "    if index % 1000 == 0:\n",
        "          print(index)"
      ],
      "metadata": {
        "colab": {
          "base_uri": "https://localhost:8080/"
        },
        "id": "m-OKmAiVteJ4",
        "outputId": "36468097-ccf0-4fb2-ce0b-0472a9a5f543"
      },
      "execution_count": 6,
      "outputs": [
        {
          "output_type": "stream",
          "name": "stdout",
          "text": [
            "0\n",
            "1000\n",
            "2000\n",
            "3000\n",
            "4000\n",
            "5000\n",
            "6000\n",
            "7000\n",
            "8000\n",
            "9000\n",
            "10000\n",
            "11000\n",
            "12000\n",
            "13000\n",
            "14000\n",
            "15000\n",
            "16000\n",
            "17000\n",
            "18000\n",
            "19000\n",
            "20000\n",
            "21000\n",
            "22000\n",
            "23000\n",
            "24000\n",
            "25000\n",
            "26000\n",
            "27000\n",
            "28000\n",
            "29000\n",
            "30000\n",
            "31000\n",
            "32000\n",
            "33000\n",
            "34000\n",
            "35000\n",
            "36000\n",
            "37000\n",
            "38000\n",
            "39000\n",
            "40000\n",
            "41000\n",
            "42000\n",
            "43000\n",
            "44000\n",
            "45000\n",
            "46000\n",
            "47000\n",
            "48000\n",
            "49000\n",
            "50000\n",
            "51000\n",
            "52000\n",
            "53000\n",
            "54000\n",
            "55000\n",
            "56000\n",
            "57000\n",
            "58000\n",
            "59000\n",
            "60000\n",
            "61000\n",
            "62000\n",
            "63000\n",
            "64000\n",
            "65000\n",
            "66000\n",
            "67000\n"
          ]
        }
      ]
    },
    {
      "cell_type": "code",
      "source": [
        "df['user_comment'] = user_comment_column\n",
        "df['agent_comment'] = agent_comment_column\n",
        "df['problem'] = problem_column\n",
        "df['solution'] = solution_column"
      ],
      "metadata": {
        "id": "PCb9TPkvwRDm"
      },
      "execution_count": 7,
      "outputs": []
    },
    {
      "cell_type": "code",
      "source": [
        "# TEST\n",
        "\n",
        "df.loc[5, \"solution\"]"
      ],
      "metadata": {
        "colab": {
          "base_uri": "https://localhost:8080/",
          "height": 105
        },
        "id": "xbklJesQy_ve",
        "outputId": "14148df8-4ae8-4bcd-ef90-bf568a513d60"
      },
      "execution_count": 8,
      "outputs": [
        {
          "output_type": "execute_result",
          "data": {
            "text/plain": [
              "'2021-01-01 05:19:34 - [name_1] (Work notes)\\n+6046325427\\n\\n\\n2021-01-01 05:17:58 - [name_1] (Work notes)\\nService Request has been created successfully. \\n \\nSoftware Assignment was successful \\nDevice: MY02-C0032 Software: I_CheckPoint_EndpointSecurity_82.20_EN-US_x32_01  \\n \\nWho called : [name_4825] \\nExt Number :   \\nCall time :   (UTC+8) \\nComputer [name_13918] :  MY02-C0032 \\nLocations : BMI MY \\nShort Description :  [name_11297] EndPoint | Unable to login \\n \\nIssue(s) : [name_7814] called on behalf of her. She cannot login via CheckPoint. \\n \\nMy action taken : I went to [name_7812] and pushed software.\\n\\n\\n\\n2021-01-01 05:18:30 - [name_1] (Close notes (Customer visible))\\nDear User, \\n \\nThank You for your call.  \\nThis ticket is the report of what we have assisted you by resolving your issue.   \\n \\nThank you and have a nice day.\\n\\n'"
            ],
            "application/vnd.google.colaboratory.intrinsic+json": {
              "type": "string"
            }
          },
          "metadata": {},
          "execution_count": 8
        }
      ]
    },
    {
      "cell_type": "code",
      "source": [
        "sorted_solution_column = []"
      ],
      "metadata": {
        "id": "kLZM5LCIycL6"
      },
      "execution_count": 9,
      "outputs": []
    },
    {
      "cell_type": "code",
      "source": [
        "for index, row in df.iterrows():\n",
        "    text = str(row['solution'])\n",
        "    split_list = text.split('\\n')\n",
        "\n",
        "    comment = \"\"\n",
        "    comments = {}\n",
        "    date = None\n",
        "    check = False\n",
        "\n",
        "    for t in split_list:\n",
        "        if bool(x := re.search('^[\\d]{4}-[\\d]{2}-[\\d]{2} [\\d]{2}:[\\d]{2}:[\\d]{2}', t)) and not check:\n",
        "            check = True\n",
        "            date = x.group(0)\n",
        "        elif bool(y := re.search('^[\\d]{4}-[\\d]{2}-[\\d]{2} [\\d]{2}:[\\d]{2}:[\\d]{2}', t)) and check:\n",
        "            try:\n",
        "                comments[date].append(comment)\n",
        "            except:\n",
        "                comments[date] = [comment]\n",
        "            comment = \"\"\n",
        "            date = y.group(0)\n",
        "\n",
        "        if check:\n",
        "            comment += t + '\\n'\n",
        "\n",
        "    try:\n",
        "        comments[date].append(comment)\n",
        "    except:\n",
        "        comments[date] = [comment]\n",
        "\n",
        "    try:\n",
        "        ordered = OrderedDict(sorted(comments.items(), key=lambda x: datetime.datetime.strptime(x[0], '%Y-%m-%d %H:%M:%S'), reverse=False))\n",
        "    except:\n",
        "        ordered = {}\n",
        "\n",
        "    ordered_text = \"\"\n",
        "    for val in ordered.values():\n",
        "        for val_text in val:\n",
        "            ordered_text += val_text\n",
        "\n",
        "    sorted_solution_column.append(ordered_text)\n",
        "\n",
        "    if index % 1000 == 0:\n",
        "          print(index)"
      ],
      "metadata": {
        "colab": {
          "base_uri": "https://localhost:8080/"
        },
        "id": "1g5zNFgoymTX",
        "outputId": "feadbef5-9ea4-4aca-ae51-16b535f109b4"
      },
      "execution_count": 10,
      "outputs": [
        {
          "output_type": "stream",
          "name": "stdout",
          "text": [
            "0\n",
            "1000\n",
            "2000\n",
            "3000\n",
            "4000\n",
            "5000\n",
            "6000\n",
            "7000\n",
            "8000\n",
            "9000\n",
            "10000\n",
            "11000\n",
            "12000\n",
            "13000\n",
            "14000\n",
            "15000\n",
            "16000\n",
            "17000\n",
            "18000\n",
            "19000\n",
            "20000\n",
            "21000\n",
            "22000\n",
            "23000\n",
            "24000\n",
            "25000\n",
            "26000\n",
            "27000\n",
            "28000\n",
            "29000\n",
            "30000\n",
            "31000\n",
            "32000\n",
            "33000\n",
            "34000\n",
            "35000\n",
            "36000\n",
            "37000\n",
            "38000\n",
            "39000\n",
            "40000\n",
            "41000\n",
            "42000\n",
            "43000\n",
            "44000\n",
            "45000\n",
            "46000\n",
            "47000\n",
            "48000\n",
            "49000\n",
            "50000\n",
            "51000\n",
            "52000\n",
            "53000\n",
            "54000\n",
            "55000\n",
            "56000\n",
            "57000\n",
            "58000\n",
            "59000\n",
            "60000\n",
            "61000\n",
            "62000\n",
            "63000\n",
            "64000\n",
            "65000\n",
            "66000\n",
            "67000\n"
          ]
        }
      ]
    },
    {
      "cell_type": "code",
      "source": [
        "df['solution_sorted'] = sorted_solution_column"
      ],
      "metadata": {
        "id": "Qud5WEpFyrHa"
      },
      "execution_count": 11,
      "outputs": []
    },
    {
      "cell_type": "code",
      "source": [
        "df.to_excel('/content/drive/MyDrive/output_user_agent_no_names.xlsx')"
      ],
      "metadata": {
        "id": "4-y7xHnAwoSD"
      },
      "execution_count": 12,
      "outputs": []
    }
  ]
}