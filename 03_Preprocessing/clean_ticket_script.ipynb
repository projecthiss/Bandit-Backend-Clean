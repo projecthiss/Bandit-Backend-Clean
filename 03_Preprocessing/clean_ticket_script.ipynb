{
  "nbformat": 4,
  "nbformat_minor": 0,
  "metadata": {
    "colab": {
      "provenance": []
    },
    "kernelspec": {
      "name": "python3",
      "display_name": "Python 3"
    },
    "language_info": {
      "name": "python"
    }
  },
  "cells": [
    {
      "cell_type": "code",
      "source": [
        "from google.colab import drive\n",
        "drive.mount('/content/drive')"
      ],
      "metadata": {
        "colab": {
          "base_uri": "https://localhost:8080/"
        },
        "id": "p27q1xqblvhF",
        "outputId": "ea77d429-aade-4b96-8e63-a9866c1589bc"
      },
      "execution_count": 1,
      "outputs": [
        {
          "output_type": "stream",
          "name": "stdout",
          "text": [
            "Drive already mounted at /content/drive; to attempt to forcibly remount, call drive.mount(\"/content/drive\", force_remount=True).\n"
          ]
        }
      ]
    },
    {
      "cell_type": "code",
      "execution_count": 2,
      "metadata": {
        "id": "7RFGA8-CW50C",
        "colab": {
          "base_uri": "https://localhost:8080/"
        },
        "outputId": "e62018dc-db1a-4f81-ef1f-beb23cb2198f"
      },
      "outputs": [
        {
          "output_type": "stream",
          "name": "stderr",
          "text": [
            "/usr/local/lib/python3.8/dist-packages/torch/cuda/__init__.py:497: UserWarning: Can't initialize NVML\n",
            "  warnings.warn(\"Can't initialize NVML\")\n"
          ]
        },
        {
          "output_type": "stream",
          "name": "stdout",
          "text": [
            "/usr/local/lib/python3.8/dist-packages/torch/cuda/__init__.py:497: UserWarning: Can't initialize NVML\n",
            "  warnings.warn(\"Can't initialize NVML\")\n",
            "2023-01-10 20:31:03.253089: E tensorflow/stream_executor/cuda/cuda_driver.cc:271] failed call to cuInit: CUDA_ERROR_NO_DEVICE: no CUDA-capable device is detected\n",
            "Looking in indexes: https://pypi.org/simple, https://us-python.pkg.dev/colab-wheels/public/simple/\n",
            "Collecting en-core-web-lg==3.4.1\n",
            "  Downloading https://github.com/explosion/spacy-models/releases/download/en_core_web_lg-3.4.1/en_core_web_lg-3.4.1-py3-none-any.whl (587.7 MB)\n",
            "\u001b[2K     \u001b[90m━━━━━━━━━━━━━━━━━━━━━━━━━━━━━━━━━━━━━━━\u001b[0m \u001b[32m587.7/587.7 MB\u001b[0m \u001b[31m2.0 MB/s\u001b[0m eta \u001b[36m0:00:00\u001b[0m\n",
            "\u001b[?25hRequirement already satisfied: spacy<3.5.0,>=3.4.0 in /usr/local/lib/python3.8/dist-packages (from en-core-web-lg==3.4.1) (3.4.4)\n",
            "Requirement already satisfied: cymem<2.1.0,>=2.0.2 in /usr/local/lib/python3.8/dist-packages (from spacy<3.5.0,>=3.4.0->en-core-web-lg==3.4.1) (2.0.7)\n",
            "Requirement already satisfied: preshed<3.1.0,>=3.0.2 in /usr/local/lib/python3.8/dist-packages (from spacy<3.5.0,>=3.4.0->en-core-web-lg==3.4.1) (3.0.8)\n",
            "Requirement already satisfied: thinc<8.2.0,>=8.1.0 in /usr/local/lib/python3.8/dist-packages (from spacy<3.5.0,>=3.4.0->en-core-web-lg==3.4.1) (8.1.6)\n",
            "Requirement already satisfied: pathy>=0.3.5 in /usr/local/lib/python3.8/dist-packages (from spacy<3.5.0,>=3.4.0->en-core-web-lg==3.4.1) (0.10.1)\n",
            "Requirement already satisfied: wasabi<1.1.0,>=0.9.1 in /usr/local/lib/python3.8/dist-packages (from spacy<3.5.0,>=3.4.0->en-core-web-lg==3.4.1) (0.10.1)\n",
            "Requirement already satisfied: typer<0.8.0,>=0.3.0 in /usr/local/lib/python3.8/dist-packages (from spacy<3.5.0,>=3.4.0->en-core-web-lg==3.4.1) (0.7.0)\n",
            "Requirement already satisfied: spacy-loggers<2.0.0,>=1.0.0 in /usr/local/lib/python3.8/dist-packages (from spacy<3.5.0,>=3.4.0->en-core-web-lg==3.4.1) (1.0.4)\n",
            "Requirement already satisfied: langcodes<4.0.0,>=3.2.0 in /usr/local/lib/python3.8/dist-packages (from spacy<3.5.0,>=3.4.0->en-core-web-lg==3.4.1) (3.3.0)\n",
            "Requirement already satisfied: smart-open<7.0.0,>=5.2.1 in /usr/local/lib/python3.8/dist-packages (from spacy<3.5.0,>=3.4.0->en-core-web-lg==3.4.1) (6.3.0)\n",
            "Requirement already satisfied: packaging>=20.0 in /usr/local/lib/python3.8/dist-packages (from spacy<3.5.0,>=3.4.0->en-core-web-lg==3.4.1) (21.3)\n",
            "Requirement already satisfied: requests<3.0.0,>=2.13.0 in /usr/local/lib/python3.8/dist-packages (from spacy<3.5.0,>=3.4.0->en-core-web-lg==3.4.1) (2.25.1)\n",
            "Requirement already satisfied: spacy-legacy<3.1.0,>=3.0.10 in /usr/local/lib/python3.8/dist-packages (from spacy<3.5.0,>=3.4.0->en-core-web-lg==3.4.1) (3.0.11)\n",
            "Requirement already satisfied: murmurhash<1.1.0,>=0.28.0 in /usr/local/lib/python3.8/dist-packages (from spacy<3.5.0,>=3.4.0->en-core-web-lg==3.4.1) (1.0.9)\n",
            "Requirement already satisfied: catalogue<2.1.0,>=2.0.6 in /usr/local/lib/python3.8/dist-packages (from spacy<3.5.0,>=3.4.0->en-core-web-lg==3.4.1) (2.0.8)\n",
            "Requirement already satisfied: numpy>=1.15.0 in /usr/local/lib/python3.8/dist-packages (from spacy<3.5.0,>=3.4.0->en-core-web-lg==3.4.1) (1.21.6)\n",
            "Requirement already satisfied: setuptools in /usr/local/lib/python3.8/dist-packages (from spacy<3.5.0,>=3.4.0->en-core-web-lg==3.4.1) (57.4.0)\n",
            "Requirement already satisfied: jinja2 in /usr/local/lib/python3.8/dist-packages (from spacy<3.5.0,>=3.4.0->en-core-web-lg==3.4.1) (2.11.3)\n",
            "Requirement already satisfied: tqdm<5.0.0,>=4.38.0 in /usr/local/lib/python3.8/dist-packages (from spacy<3.5.0,>=3.4.0->en-core-web-lg==3.4.1) (4.64.1)\n",
            "Requirement already satisfied: srsly<3.0.0,>=2.4.3 in /usr/local/lib/python3.8/dist-packages (from spacy<3.5.0,>=3.4.0->en-core-web-lg==3.4.1) (2.4.5)\n",
            "Requirement already satisfied: pydantic!=1.8,!=1.8.1,<1.11.0,>=1.7.4 in /usr/local/lib/python3.8/dist-packages (from spacy<3.5.0,>=3.4.0->en-core-web-lg==3.4.1) (1.10.4)\n",
            "Requirement already satisfied: pyparsing!=3.0.5,>=2.0.2 in /usr/local/lib/python3.8/dist-packages (from packaging>=20.0->spacy<3.5.0,>=3.4.0->en-core-web-lg==3.4.1) (3.0.9)\n",
            "Requirement already satisfied: typing-extensions>=4.2.0 in /usr/local/lib/python3.8/dist-packages (from pydantic!=1.8,!=1.8.1,<1.11.0,>=1.7.4->spacy<3.5.0,>=3.4.0->en-core-web-lg==3.4.1) (4.4.0)\n",
            "Requirement already satisfied: urllib3<1.27,>=1.21.1 in /usr/local/lib/python3.8/dist-packages (from requests<3.0.0,>=2.13.0->spacy<3.5.0,>=3.4.0->en-core-web-lg==3.4.1) (1.24.3)\n",
            "Requirement already satisfied: idna<3,>=2.5 in /usr/local/lib/python3.8/dist-packages (from requests<3.0.0,>=2.13.0->spacy<3.5.0,>=3.4.0->en-core-web-lg==3.4.1) (2.10)\n",
            "Requirement already satisfied: chardet<5,>=3.0.2 in /usr/local/lib/python3.8/dist-packages (from requests<3.0.0,>=2.13.0->spacy<3.5.0,>=3.4.0->en-core-web-lg==3.4.1) (4.0.0)\n",
            "Requirement already satisfied: certifi>=2017.4.17 in /usr/local/lib/python3.8/dist-packages (from requests<3.0.0,>=2.13.0->spacy<3.5.0,>=3.4.0->en-core-web-lg==3.4.1) (2022.12.7)\n",
            "Requirement already satisfied: blis<0.8.0,>=0.7.8 in /usr/local/lib/python3.8/dist-packages (from thinc<8.2.0,>=8.1.0->spacy<3.5.0,>=3.4.0->en-core-web-lg==3.4.1) (0.7.9)\n",
            "Requirement already satisfied: confection<1.0.0,>=0.0.1 in /usr/local/lib/python3.8/dist-packages (from thinc<8.2.0,>=8.1.0->spacy<3.5.0,>=3.4.0->en-core-web-lg==3.4.1) (0.0.3)\n",
            "Requirement already satisfied: click<9.0.0,>=7.1.1 in /usr/local/lib/python3.8/dist-packages (from typer<0.8.0,>=0.3.0->spacy<3.5.0,>=3.4.0->en-core-web-lg==3.4.1) (7.1.2)\n",
            "Requirement already satisfied: MarkupSafe>=0.23 in /usr/local/lib/python3.8/dist-packages (from jinja2->spacy<3.5.0,>=3.4.0->en-core-web-lg==3.4.1) (2.0.1)\n",
            "\u001b[38;5;2m✔ Download and installation successful\u001b[0m\n",
            "You can now load the package via spacy.load('en_core_web_lg')\n",
            "loaded\n"
          ]
        }
      ],
      "source": [
        "import re\n",
        "import spacy\n",
        "!python -m spacy download en_core_web_lg\n",
        "nlp = spacy.load(\"en_core_web_lg\")\n",
        "print(\"loaded\")"
      ]
    },
    {
      "cell_type": "code",
      "source": [
        "import pandas as pd"
      ],
      "metadata": {
        "id": "55MEqMtGl8oM"
      },
      "execution_count": 3,
      "outputs": []
    },
    {
      "cell_type": "code",
      "source": [
        "df = pd.read_excel(\"/content/drive/MyDrive/Ashkan/output_anonomization_no_names_only_english_version2.xlsx\")"
      ],
      "metadata": {
        "id": "wVZqCCzel-vT"
      },
      "execution_count": 4,
      "outputs": []
    },
    {
      "cell_type": "code",
      "source": [
        "print(df.shape)\n",
        "filt = df['isEnglish'] == 1\n",
        "df = df.loc[filt]\n",
        "df.shape"
      ],
      "metadata": {
        "colab": {
          "base_uri": "https://localhost:8080/"
        },
        "id": "bF4DTGrJmLPW",
        "outputId": "3e6186de-2622-429e-ef74-026e162f1612"
      },
      "execution_count": 5,
      "outputs": [
        {
          "output_type": "stream",
          "name": "stdout",
          "text": [
            "(67171, 37)\n"
          ]
        },
        {
          "output_type": "execute_result",
          "data": {
            "text/plain": [
              "(67171, 37)"
            ]
          },
          "metadata": {},
          "execution_count": 5
        }
      ]
    },
    {
      "cell_type": "code",
      "source": [
        "df.columns"
      ],
      "metadata": {
        "colab": {
          "base_uri": "https://localhost:8080/"
        },
        "id": "DGREsdUjQJ1b",
        "outputId": "eef9f628-d949-414f-9283-0a19aaefb933"
      },
      "execution_count": 6,
      "outputs": [
        {
          "output_type": "execute_result",
          "data": {
            "text/plain": [
              "Index(['Unnamed: 0', 'number', 'opened_by', 'short_description', 'priority',\n",
              "       'assignment_group', 'assigned_to', 'u_main_category_reporting',\n",
              "       'u_subcategory_1_reporting', 'u_subcategory_2_reporting',\n",
              "       'u_subcategory_3_reporting', 'u_resolver_group', 'u_resolver',\n",
              "       'u_first_assignment_group', 'u_country', 'sys_updated_on',\n",
              "       'sys_updated_by', 'sys_mod_count', 'u_vip', 'u_type', 'u_region',\n",
              "       'contact_type', 'location', 'u_resolved', 'closed_at',\n",
              "       'u_assignment_group_history', 'work_notes', 'comments', 'close_notes',\n",
              "       'u_assignee_history', 'merged', 'merged_string', 'business_duration',\n",
              "       'u_reassignment_count_assigne', 'reassignment_count', 'cleaned_string',\n",
              "       'isEnglish'],\n",
              "      dtype='object')"
            ]
          },
          "metadata": {},
          "execution_count": 6
        }
      ]
    },
    {
      "cell_type": "code",
      "source": [
        "def remove_lines_with_date_start(text):\n",
        "    try:\n",
        "        splitted_text = text.split(\"\\n\")\n",
        "    except:\n",
        "        splitted_text = []\n",
        "    new_text = \"\"\n",
        "    for i, sp_text in enumerate(splitted_text):\n",
        "        if not re.match(\"[0-9]{4}-[0-9]{2}-[0-9]{2} [0-9]{2}[0-9]{2}[0-9]{2}\", sp_text[0:19]):\n",
        "            new_text += sp_text + \"\\n\"\n",
        "        else:\n",
        "            if not re.match(\"[0-9]{4}-[0-9]{2}-[0-9]{2} [0-9]{2}[0-9]{2}[0-9]{2}\", splitted_text[i - 1]):\n",
        "                new_text += \"______________________________\" + \"\\n\"\n",
        "            else:\n",
        "                new_text += \"\\n\"\n",
        "                \n",
        "    return new_text.rstrip()\n",
        "\n",
        "\n",
        "def remove_lines_start(text, start):\n",
        "    greetings = [\"good day\", \"hi\", \"hello\", \"dear\", \"many thanks\", \"thank you\"]\n",
        "    try:\n",
        "        splitted_text = text.split(\"\\n\")\n",
        "    except:\n",
        "        splitted_text = []\n",
        "    new_text = \"\"\n",
        "    for sp_text in splitted_text:\n",
        "        cond = True\n",
        "        if not sp_text[0:len(start)] == start:\n",
        "            clean_sp_text = ''.join([d for d in sp_text if not d.isdigit()])\n",
        "            clean_sp_text = clean_sp_text.replace('.', '')\n",
        "            clean_sp_text = clean_sp_text.replace('-', '')\n",
        "            clean_sp_text_list = list(filter(None, clean_sp_text.strip().split(\" \")))\n",
        "            # print(clean_sp_text_list)\n",
        "            if len(clean_sp_text_list) <= 5:\n",
        "                for greeting in greetings:\n",
        "                    if clean_sp_text.lower().strip().startswith(greeting):\n",
        "                        cond = False\n",
        "                if len(clean_sp_text_list) <= 1:\n",
        "                    cond = False\n",
        "\n",
        "            if sp_text == \"______________________________\":\n",
        "                cond = True\n",
        "            if cond:\n",
        "                new_text += sp_text + \"\\n\"\n",
        "\n",
        "    return new_text.rstrip()\n",
        "\n",
        "\n",
        "def preprocess(ticket):\n",
        "    ticket = '\\n' + str(ticket)\n",
        "    ticket_list = ticket.split(\" \")\n",
        "\n",
        "    # remove names after @\n",
        "    for i, w in enumerate(ticket):\n",
        "        if w == '@':\n",
        "            y = ticket.find(' ', i)\n",
        "            z = ticket.find(' ', y+1)\n",
        "            ticket = ticket.replace(ticket[i:z], '')\n",
        "\n",
        "    index = [m.start() for m in re.finditer(re.escape('code]'), ticket)]\n",
        "    if len(index) > 0:\n",
        "        for i, ind in enumerate(index):\n",
        "            try:\n",
        "                index = [m.start() for m in re.finditer(re.escape('code]'), ticket)]\n",
        "                start_index = index[0] - 1\n",
        "                end_index = index[1] + 5\n",
        "                ticket = ticket[:start_index] + ticket[end_index + 1:]\n",
        "                index = [m.start() for m in re.finditer(re.escape('code]'), ticket)]\n",
        "                if len(index) < 2:\n",
        "                    break\n",
        "            except:\n",
        "                continue\n",
        "\n",
        "    extras = ['[', ']', 'cid', '+', '(', ')', ':', \"xD\",\n",
        "              '<', '>', '#', '~', '/', '{', '}', \"Issue description\", \"_x000D_\", ';', ',', \"Pvt  Limited\", \"Short Description\"\n",
        "              , \"My action taken\", \"Issues\", \"Action taken\", \"Directory Services Administrator\", \"PM\", \"AM\", \"nan\"]\n",
        "\n",
        "    for extra in extras:\n",
        "        ticket = ticket.replace(extra, '')\n",
        "\n",
        "    text = \"The information contained in this communication\"\n",
        "    if text in ticket:\n",
        "        extra_text_index = ticket.find(\"The information contained in this communication\")\n",
        "        extra_lines = ticket[extra_text_index:].split('\\n')[:9]\n",
        "        for line in extra_lines:\n",
        "            ticket = ticket.replace(line, '')\n",
        "\n",
        "    ticket = re.sub('(?:(?:https?|ftp):\\/\\/)?[\\w/\\-?=%.]+\\.[\\w/\\-&?=%.]+', '', ticket)\n",
        "\n",
        "    ticket = ticket = '\\n'.join(line.strip() for line in ticket.split('\\n') if line != '' and \"khayaban\" not in line.lower())\n",
        "    line_beginnings_remove = [\"Additional Location Information\", \"Affected Device\", \"received from\", \"Email\",\n",
        "                              \"Tel\", \"Subject\", \"From\", \"Sent\", \"To\", \"reply from\", \"Issue(s)\"\n",
        "                              , \"Who called\", \"Ext Number\", \"Locations\", \"Device\", \"Call time\", \"Computer\", \"Client Type\", \"Version VPN\", \"PC Name\", \"Keyword\",\n",
        "                              \"Sent\", \"From\"]\n",
        "\n",
        "\n",
        "    for beginning in line_beginnings_remove:\n",
        "        ticket = remove_lines_start(ticket, beginning)\n",
        "\n",
        "    ticket = remove_lines_with_date_start(ticket)\n",
        "\n",
        "    doc = nlp(ticket)\n",
        "    names = [i for i in doc.ents if i.label_.lower() in [\"person\", \"gpe\", \"location\"]]\n",
        "    for name in names:\n",
        "        ticket = ticket.replace(str(name), '')\n",
        "\n",
        "    ticket = '\\n '.join(line for i, line in enumerate(ticket.split('\\n')) if line != '' and (1 < i < len(ticket.split('\\n')) - 1 or line != \"______________________________\"))\n",
        "\n",
        "    return ticket.strip()"
      ],
      "metadata": {
        "id": "lDbLf_Q9mVkJ"
      },
      "execution_count": 7,
      "outputs": []
    },
    {
      "cell_type": "code",
      "source": [
        "clean_comments = []\n",
        "clean_work = []\n",
        "clean_close = []\n",
        "\n",
        "for index, row in df.iterrows():\n",
        "    comment = str(row['short_description']) + '\\n' + str(row['comments'])\n",
        "    clean_comments.append(preprocess(comment))\n",
        "    \n",
        "    w = str(row['work_notes'])\n",
        "    clean_work.append(preprocess(w))\n",
        "   \n",
        "\n",
        "    c = str(row['close_notes'])\n",
        "    clean_close.append(preprocess(c))\n",
        "   \n",
        "    if index%1000==0:\n",
        "        print(index)\n"
      ],
      "metadata": {
        "colab": {
          "base_uri": "https://localhost:8080/"
        },
        "id": "1XVhvmSqo86s",
        "outputId": "d8fc8a44-32b5-4007-f563-505d71b5fbee"
      },
      "execution_count": 8,
      "outputs": [
        {
          "output_type": "stream",
          "name": "stdout",
          "text": [
            "0\n",
            "1000\n",
            "2000\n",
            "3000\n",
            "4000\n",
            "5000\n",
            "6000\n",
            "7000\n",
            "8000\n",
            "9000\n",
            "10000\n",
            "11000\n",
            "12000\n",
            "13000\n",
            "14000\n",
            "15000\n",
            "16000\n",
            "17000\n",
            "18000\n",
            "19000\n",
            "20000\n",
            "21000\n",
            "22000\n",
            "23000\n",
            "24000\n",
            "25000\n",
            "26000\n",
            "27000\n",
            "28000\n",
            "29000\n",
            "30000\n",
            "31000\n",
            "32000\n",
            "33000\n",
            "34000\n",
            "35000\n",
            "36000\n",
            "37000\n",
            "38000\n",
            "39000\n",
            "40000\n",
            "41000\n",
            "42000\n",
            "43000\n",
            "44000\n",
            "45000\n",
            "46000\n",
            "47000\n",
            "48000\n",
            "49000\n",
            "50000\n",
            "51000\n",
            "52000\n",
            "53000\n",
            "54000\n",
            "55000\n",
            "56000\n",
            "57000\n",
            "58000\n",
            "59000\n",
            "60000\n",
            "61000\n",
            "62000\n",
            "63000\n",
            "64000\n",
            "65000\n",
            "66000\n",
            "67000\n"
          ]
        }
      ]
    },
    {
      "cell_type": "code",
      "source": [
        "df['clean_work_notes'] = clean_work\n",
        "df['clean_comments'] = clean_comments\n",
        "df['clean_close_notes'] = clean_close"
      ],
      "metadata": {
        "id": "av01DPOwpXAI"
      },
      "execution_count": 9,
      "outputs": []
    },
    {
      "cell_type": "code",
      "source": [
        "df.to_excel('/content/drive/MyDrive/Ashkan/output_clean_comments_no_name_version2.xlsx')"
      ],
      "metadata": {
        "id": "RKlXvcdo5vpt"
      },
      "execution_count": 10,
      "outputs": []
    }
  ]
}