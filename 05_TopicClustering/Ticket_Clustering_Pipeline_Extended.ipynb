{
  "cells": [
    {
      "cell_type": "code",
      "execution_count": null,
      "metadata": {
        "colab": {
          "base_uri": "https://localhost:8080/"
        },
        "id": "Um_enzL2YZAi",
        "outputId": "ca443f66-23fc-4dfd-f075-0c746ba4a7d9"
      },
      "outputs": [
        {
          "name": "stdout",
          "output_type": "stream",
          "text": [
            "Mounted at /content/gdrive\n"
          ]
        }
      ],
      "source": [
        "from google.colab import drive\n",
        "drive.mount('/content/gdrive')"
      ]
    },
    {
      "cell_type": "code",
      "execution_count": null,
      "metadata": {
        "id": "ykSRss4TY0po"
      },
      "outputs": [],
      "source": [
        "import sys\n",
        "\n",
        "from sklearn.feature_extraction.text import CountVectorizer, TfidfVectorizer\n",
        "\n",
        "import pandas as pd\n",
        "\n",
        "#import csv\n",
        "#import seaborn as sns\n",
        "from scipy.cluster import hierarchy\n",
        "\n",
        "import os\n",
        "\n",
        "import matplotlib.pyplot as plt\n",
        "\n",
        "import numpy as np\n",
        "\n",
        "from importlib import reload"
      ]
    },
    {
      "cell_type": "code",
      "execution_count": null,
      "metadata": {
        "id": "GtAFBgr-ZaUn"
      },
      "outputs": [],
      "source": [
        "df = pd.read_excel(\"/content/gdrive/My Drive/Colab Notebooks/Pipeline_Extended/output_Bert_topic_many_withStopwords_topics_v2.xlsx\", sheet_name=0, na_values=\"NaN\")\n"
      ]
    },
    {
      "cell_type": "code",
      "execution_count": null,
      "metadata": {
        "id": "Gc-eISw5bykj"
      },
      "outputs": [],
      "source": [
        "# Remove first row\n",
        "df = df.iloc[1:]"
      ]
    },
    {
      "cell_type": "code",
      "execution_count": null,
      "metadata": {
        "colab": {
          "base_uri": "https://localhost:8080/"
        },
        "id": "Mu_vO1Keb0BB",
        "outputId": "10beba3f-b020-48af-b9c3-278f1662f173"
      },
      "outputs": [
        {
          "name": "stdout",
          "output_type": "stream",
          "text": [
            "('perindustrian', 0.004730843714569534)\n"
          ]
        }
      ],
      "source": [
        "s = df.loc[2][3]\n",
        "print(s)"
      ]
    },
    {
      "cell_type": "code",
      "execution_count": null,
      "metadata": {
        "colab": {
          "base_uri": "https://localhost:8080/"
        },
        "id": "XZkJOLrucW_h",
        "outputId": "6755a828-9aa1-425c-e607-b191033324f0"
      },
      "outputs": [
        {
          "name": "stdout",
          "output_type": "stream",
          "text": [
            "['(', 'perindustrian', ', 0.004730843714569534)']\n",
            "perindustrian\n"
          ]
        }
      ],
      "source": [
        "s = s.\n",
        "keyword =s[1]\n",
        "print(keyword)"
      ]
    },
    {
      "cell_type": "code",
      "execution_count": null,
      "metadata": {
        "id": "coifYJnQbvEQ"
      },
      "outputs": [],
      "source": [
        "df1= df"
      ]
    },
    {
      "cell_type": "code",
      "execution_count": null,
      "metadata": {
        "colab": {
          "base_uri": "https://localhost:8080/",
          "height": 364
        },
        "id": "lg1JvQ6OlSE7",
        "outputId": "930af57f-316e-4a93-e2c9-a8e853f64e78"
      },
      "outputs": [
        {
          "ename": "ValueError",
          "evalue": "ignored",
          "output_type": "error",
          "traceback": [
            "\u001b[0;31m---------------------------------------------------------------------------\u001b[0m",
            "\u001b[0;31mValueError\u001b[0m                                Traceback (most recent call last)",
            "\u001b[0;32m<ipython-input-35-fedd21837b61>\u001b[0m in \u001b[0;36m<module>\u001b[0;34m\u001b[0m\n\u001b[0;32m----> 1\u001b[0;31m \u001b[0mdf1\u001b[0m\u001b[0;34m[\u001b[0m\u001b[0;34m'key 1'\u001b[0m\u001b[0;34m]\u001b[0m \u001b[0;34m=\u001b[0m\u001b[0;34m[\u001b[0m\u001b[0;34m]\u001b[0m\u001b[0;34m\u001b[0m\u001b[0;34m\u001b[0m\u001b[0m\n\u001b[0m\u001b[1;32m      2\u001b[0m \u001b[0mdf1\u001b[0m\u001b[0;34m[\u001b[0m\u001b[0;34m'key 2'\u001b[0m\u001b[0;34m]\u001b[0m \u001b[0;34m=\u001b[0m \u001b[0;34m[\u001b[0m\u001b[0;34m]\u001b[0m\u001b[0;34m\u001b[0m\u001b[0;34m\u001b[0m\u001b[0m\n\u001b[1;32m      3\u001b[0m \u001b[0;31m#for index, row in df1.iterrows():\u001b[0m\u001b[0;34m\u001b[0m\u001b[0;34m\u001b[0m\u001b[0;34m\u001b[0m\u001b[0m\n\u001b[1;32m      4\u001b[0m    \u001b[0;31m# print(row['c1'], row['c2'])\u001b[0m\u001b[0;34m\u001b[0m\u001b[0;34m\u001b[0m\u001b[0;34m\u001b[0m\u001b[0m\n",
            "\u001b[0;32m/usr/local/lib/python3.8/dist-packages/pandas/core/frame.py\u001b[0m in \u001b[0;36m__setitem__\u001b[0;34m(self, key, value)\u001b[0m\n\u001b[1;32m   3610\u001b[0m         \u001b[0;32melse\u001b[0m\u001b[0;34m:\u001b[0m\u001b[0;34m\u001b[0m\u001b[0;34m\u001b[0m\u001b[0m\n\u001b[1;32m   3611\u001b[0m             \u001b[0;31m# set column\u001b[0m\u001b[0;34m\u001b[0m\u001b[0;34m\u001b[0m\u001b[0;34m\u001b[0m\u001b[0m\n\u001b[0;32m-> 3612\u001b[0;31m             \u001b[0mself\u001b[0m\u001b[0;34m.\u001b[0m\u001b[0m_set_item\u001b[0m\u001b[0;34m(\u001b[0m\u001b[0mkey\u001b[0m\u001b[0;34m,\u001b[0m \u001b[0mvalue\u001b[0m\u001b[0;34m)\u001b[0m\u001b[0;34m\u001b[0m\u001b[0;34m\u001b[0m\u001b[0m\n\u001b[0m\u001b[1;32m   3613\u001b[0m \u001b[0;34m\u001b[0m\u001b[0m\n\u001b[1;32m   3614\u001b[0m     \u001b[0;32mdef\u001b[0m \u001b[0m_setitem_slice\u001b[0m\u001b[0;34m(\u001b[0m\u001b[0mself\u001b[0m\u001b[0;34m,\u001b[0m \u001b[0mkey\u001b[0m\u001b[0;34m:\u001b[0m \u001b[0mslice\u001b[0m\u001b[0;34m,\u001b[0m \u001b[0mvalue\u001b[0m\u001b[0;34m)\u001b[0m\u001b[0;34m:\u001b[0m\u001b[0;34m\u001b[0m\u001b[0;34m\u001b[0m\u001b[0m\n",
            "\u001b[0;32m/usr/local/lib/python3.8/dist-packages/pandas/core/frame.py\u001b[0m in \u001b[0;36m_set_item\u001b[0;34m(self, key, value)\u001b[0m\n\u001b[1;32m   3782\u001b[0m         \u001b[0mensure\u001b[0m \u001b[0mhomogeneity\u001b[0m\u001b[0;34m.\u001b[0m\u001b[0;34m\u001b[0m\u001b[0;34m\u001b[0m\u001b[0m\n\u001b[1;32m   3783\u001b[0m         \"\"\"\n\u001b[0;32m-> 3784\u001b[0;31m         \u001b[0mvalue\u001b[0m \u001b[0;34m=\u001b[0m \u001b[0mself\u001b[0m\u001b[0;34m.\u001b[0m\u001b[0m_sanitize_column\u001b[0m\u001b[0;34m(\u001b[0m\u001b[0mvalue\u001b[0m\u001b[0;34m)\u001b[0m\u001b[0;34m\u001b[0m\u001b[0;34m\u001b[0m\u001b[0m\n\u001b[0m\u001b[1;32m   3785\u001b[0m \u001b[0;34m\u001b[0m\u001b[0m\n\u001b[1;32m   3786\u001b[0m         if (\n",
            "\u001b[0;32m/usr/local/lib/python3.8/dist-packages/pandas/core/frame.py\u001b[0m in \u001b[0;36m_sanitize_column\u001b[0;34m(self, value)\u001b[0m\n\u001b[1;32m   4507\u001b[0m \u001b[0;34m\u001b[0m\u001b[0m\n\u001b[1;32m   4508\u001b[0m         \u001b[0;32mif\u001b[0m \u001b[0mis_list_like\u001b[0m\u001b[0;34m(\u001b[0m\u001b[0mvalue\u001b[0m\u001b[0;34m)\u001b[0m\u001b[0;34m:\u001b[0m\u001b[0;34m\u001b[0m\u001b[0;34m\u001b[0m\u001b[0m\n\u001b[0;32m-> 4509\u001b[0;31m             \u001b[0mcom\u001b[0m\u001b[0;34m.\u001b[0m\u001b[0mrequire_length_match\u001b[0m\u001b[0;34m(\u001b[0m\u001b[0mvalue\u001b[0m\u001b[0;34m,\u001b[0m \u001b[0mself\u001b[0m\u001b[0;34m.\u001b[0m\u001b[0mindex\u001b[0m\u001b[0;34m)\u001b[0m\u001b[0;34m\u001b[0m\u001b[0;34m\u001b[0m\u001b[0m\n\u001b[0m\u001b[1;32m   4510\u001b[0m         \u001b[0;32mreturn\u001b[0m \u001b[0msanitize_array\u001b[0m\u001b[0;34m(\u001b[0m\u001b[0mvalue\u001b[0m\u001b[0;34m,\u001b[0m \u001b[0mself\u001b[0m\u001b[0;34m.\u001b[0m\u001b[0mindex\u001b[0m\u001b[0;34m,\u001b[0m \u001b[0mcopy\u001b[0m\u001b[0;34m=\u001b[0m\u001b[0;32mTrue\u001b[0m\u001b[0;34m,\u001b[0m \u001b[0mallow_2d\u001b[0m\u001b[0;34m=\u001b[0m\u001b[0;32mTrue\u001b[0m\u001b[0;34m)\u001b[0m\u001b[0;34m\u001b[0m\u001b[0;34m\u001b[0m\u001b[0m\n\u001b[1;32m   4511\u001b[0m \u001b[0;34m\u001b[0m\u001b[0m\n",
            "\u001b[0;32m/usr/local/lib/python3.8/dist-packages/pandas/core/common.py\u001b[0m in \u001b[0;36mrequire_length_match\u001b[0;34m(data, index)\u001b[0m\n\u001b[1;32m    529\u001b[0m     \"\"\"\n\u001b[1;32m    530\u001b[0m     \u001b[0;32mif\u001b[0m \u001b[0mlen\u001b[0m\u001b[0;34m(\u001b[0m\u001b[0mdata\u001b[0m\u001b[0;34m)\u001b[0m \u001b[0;34m!=\u001b[0m \u001b[0mlen\u001b[0m\u001b[0;34m(\u001b[0m\u001b[0mindex\u001b[0m\u001b[0;34m)\u001b[0m\u001b[0;34m:\u001b[0m\u001b[0;34m\u001b[0m\u001b[0;34m\u001b[0m\u001b[0m\n\u001b[0;32m--> 531\u001b[0;31m         raise ValueError(\n\u001b[0m\u001b[1;32m    532\u001b[0m             \u001b[0;34m\"Length of values \"\u001b[0m\u001b[0;34m\u001b[0m\u001b[0;34m\u001b[0m\u001b[0m\n\u001b[1;32m    533\u001b[0m             \u001b[0;34mf\"({len(data)}) \"\u001b[0m\u001b[0;34m\u001b[0m\u001b[0;34m\u001b[0m\u001b[0m\n",
            "\u001b[0;31mValueError\u001b[0m: Length of values (0) does not match length of index (863)"
          ]
        }
      ],
      "source": [
        "df1['key 1'] =[]\n",
        "df1['key 2'] = []\n",
        "[]\n",
        "for index, row in df1.iterrows():\n",
        "   # print(row['c1'], row['c2'])"
      ]
    },
    {
      "cell_type": "code",
      "execution_count": null,
      "metadata": {
        "colab": {
          "base_uri": "https://localhost:8080/",
          "height": 681
        },
        "id": "kG7ZKQTYmWHS",
        "outputId": "be0d7d87-bf58-4f00-ddff-6ed7463b802e"
      },
      "outputs": [
        {
          "name": "stdout",
          "output_type": "stream",
          "text": [
            "['pulau', 'reset', 'mdm', 'groups', 'de', 'ims', 'ibm', 'onedrive', 'blocked', 'isihat', 'ecr', 'mailbox', 'fwrcr', 'signing', 'roles', 'teams', 'audio', 'outlook', 'excel', 'wf', 'software', 'print', 'binti', 'ess', 'xxxx', 'folder', 'bkc', 'recovery', 'scan', 'certificate', 'vpn', 'mfa', 'rsa', 'job', 'wifi', 'decomission', 'binding', 'bbkr', '112352', 'xxxx', 'paper', 'restore', 'bmi', 'rights', 'locked', 'pdf', 'toner', 'connected', 'unlockedreset', 'bi', 'drivers', 'monitor', 'pin', 'advice', 'name22096', 'website', 'backup', 'cellphone', 'reset', 'personnel', 'recording', 'storage', 'checkmk', 'call', 'commscope', 'filesharingfilehosting', 'package', 'analysis', 'r3', 'meeting', 'transport', 'inplace', 'dns', 'token', 'cartridge', 'drive', 'deu', 'citrix', 'binti', 'oss', 'citrix', 'loan', 'adobe', 'internet', 'voice', 'softphone', 'jira', 'citrix', 'apvn2field', 'bmi', 'name15384', 'checkpoint', '20h2', 'hana', 'networker', 'drive', 'checkpoint', 'document', 'battery', 'brb', 'printer', 'calendar', 'driver', 'camera', 'unlock', 'pushed', 'vpn', 'token', 'inc', 'phones', 'guest', '5661717623', 'reset', 'manufacturers', 'tagged', '', 'derive', 'termination', 'console', 'connected', 'workflow', 'pega', 'chrome', 'de6', 'rules', 'door', 'eis', 'grant', 'vpn', 'win10', 'finger', 'conversation', 'mfa', 'full', 'hold', 'database', 'extension', '365', 'discrepancy', 'name76', 'inbound', 'laptop', 'connected', 'mfa', 'vpn', 'database', 'reset', 'name11297', 'rooms', 'keyboard', 'onedrive', 'mailing', 'binti', 'litigation', 'visio', 'topobmi', 'lapmin', 'apjp2field', 'name15384', 'e3', 'antivirus', 'zone', 'chat', 'deb', 'dse', 'internet', 'print', 'powerpoint', 'ifrs', 'proper', 'reset', 'printer', 'df', 'enabler', 'submitting', 'language', 'validity', 'kb0017006', 'role', 'outagerestart', 'my01', 'updated', 'bmi15', 'membership', 'forwarding', 'name9974', 'zscaler', 'site', 'google', 'dns', 'ras', 'netapp', 'headset', 'mfa', 'vlan', 'permissions', '5661717623', 'admin', 'apin2mumbai', 'als', 'resign', '365', 'window', 'hired', 'mouse', 'slow', '5661717623', 'cisco', 'dialin', 'etr', 'method', 'driver', 'kpi', 'accountpassword', 'pro', 'instrument', 'airtime', 'tb', 'vlc', 'status', 'mfa', 'face', 'temporary', 'digital', 'verified', 'instructions', 'deletion', 'hostname', 'remote', 'label', 'name9016', 'creare', 'pw', 'thinkcell', 'confirmed', 'group', 'archive', 'nn', 'route', 'caller', 'device', 'zablokowane', 'memory', 'logout', '02242021', 'mfa', 'membership', 'reset', 'arcserve', '365', 'pxe', 'edit', 'apin2ahlcon', 'cctv', 'agent', 'info', 'reset', 'queue', 'bmi', 'autocad', 'e3', 'assignation', 'ldap', 'indirect', 'upload', 'fehlt', 'upgrade', 'binti', 'ln', 'unlockedreset', 'delay', 'gpo', 'data', 'assisted', 'binti', 'e3', 'australia', 'ip', 'mfa', '20h2', 'leaving', 'snapshot', 'gbbmaggpovirgodisablescreensaver', 'april', 'binti', 'blue', 'dc', 'ibm', 'mulesoft', 'calendar', 'vpnconnection', 'firewall', 'azure', 'apmy2bmi', 'ivanti', 'bmsmy', 'blocked', 'vim', 'e3', 'hired', 'citrix', 'binti', 'commvault', 'mfa', 'bkc', 'pro', 'meeting', 'hbs', 'mfa', 'nicelabel', 'braa', 'blockeddeactivated', 'membership', 'instalacja', 'nongerman', 'wifi', 'pushed', 'sql', 'membership', 'pwc', 'map', 'entsperrt', 'checkmk', 'certificate', 'fivimdea', 'selfservice', 'vpn', 'wsus', 'entsperrt', 'unlockedreset', 'rasuser', 'discrepancy', 'celonis', 'belgian', 'projector', 'dispatching', 'instrument', 'ping', 'snmp', 'fivimdea', 'litigation', 'name626', 'assignation', 'name12992', 'videos', 'drivers', 'easxx0071', 'powerplay', 'e3', 'theme', 'topobmi', 'blocked', 'her', 'ase', 'name9727', 'in2ahlcon', 'cable', 'remove', 'cable', 'softphone', 'name12458', 'eclaim', 'test', 'automate', 'pwd', 'ekiosk', 'name15136', 'isotrain', 'servicenow', 'v1709', 'drivers', 'nexadia', 'partner', 'driver', 'imaging', 'ink', 'mss', 'language', 'export', 'deu', 'cwindowssystem32', 'anmeldung', 'configuration', 'temporary', 'name15384', 'dr', 'sql', 'admin', 'emails', 'soft', 'locks', 'smtp', 'unlock', 'name15879', 'desligamento', 'hostname', 'laptop', 'lcd', 'java', 'min', 'drive', 'nfs', 'name15384', 'e3', 'groups', 'footer', 'cic', 'apmy2bmi', 'schliesse', 'pushed', 'collaboration', 'username', 'canon', 'teamviewer', 'caller', 'salesforce', 'escorted', 'driver', 'outlook', 'name10205', 'edge', 'boot', 'hasa', 'airtime', '84', 'fivim', 'ie11', 'name1077', 'mexico', 'bgfirewall', 'reset', 'drive', 'administration', 'photo', 'chile', 'save', 'xvs', 'vim', 'sccm', 'updater', 'apmy2bmi', 'cioccaro', 'myid', 'specially', 'exceeded', 'itir', 'cycle', 'name15384', 'docid', 'corrupted', 'blockeddeactivated', 'processor', 'changed', 'name7847', 'qm', 'port', 'instrument', 'ch05', 'printers', 'deptsitopdatacenterservices100server102serverdecomissionunixdoneabbau', 'firstname', 'clave', 'dad', 'picture', 'offline', 'bitbucket', 'retrieve', 'name11164', 'setup', 'lapmin', 'bmimygx', 'fechado', 'archive', 'deude6', 'partner', 'e3', 'overtake', 'office365', 'problme', 'outbox', 'creation', 'name8000', 'mfa', 'catalog', 'brazil', 'itir', 'cluster', 'ekiosk', 'credentials', 'updater', 'gw', '29', 'mailbox', '20h2', 'reseat', 'mfa', 'external', 'name9568', 'funktioniert', 'termination', 'inbound', 'templates', 'membership', 'termination', 'servidor', 'reset', 'smartsheet', 'endpoint', 'pad', 'leaving', 'checker', 'sbttape', 'airtime', 'ibum', 'latest', 'blockeddeactivated', 'e3', 'tnhh', 'nt', 'proxy', 'ras', 'accenture', 'view', 'firstname', 'ou', 'whiteboard', 'failed', 'r85646', 'caller', 'name11297', 'f3', 'name7829', 'irpf', '29', 'cancelado', 'apacmy', 'map', 'solidworks', 'clock', 'duplicate', '7623', 'chrome', 'xauthor', 'hasa', 'nt', 'expired', 'inbox', 'successfactors', 'resign', 'connected', 'unsubscribe', 'profile', 'sign', 'ou', 'name1077', 'connected', 'portaluser', '06082021', 'globe', 'deploy', 'mails', 'appname', 'plw1', 'router', 'softtokenuntil', 'his', 'obatsajp', 'dial', 'keyboard', 'qr', 'odbc', 'guidelines', 'unlockedreset', 'name2523', 'archive', 'acceptable', 'driver', 'validate', 'dudpofisis', 'processadas', 'apttus', 'mover', 'escalate', 'remap', 'uat', 'binding', 'wetransfer', 'email139mailtoemail139', 'meeting', 'mdm', 'mssql', 'iban', 'mdlp', 'cath', 'name12992', 'blue', 'de08windows', 'cellphone', 'regard', 'kb0016026', 'ekiosk', 'binti', 'message', 'remove', 'repairs', 'accpac', 'tunnel', 'hod', 'relationship', 'dropbox', 'dialin', 'dmz', '', 'name13935', 'aa01wterm002', 'obsolete', 'name11297', 'servicenow', 'chrome', 'mailing', 'e3', 'assisted', 'membership', 'profile', 'rdp', 'ext', 'canteen', 'feba', 'succeeded', 'modem', 'submitting', 'mails', 'window', 'uml', 'emergency', 'deactivated', 'penang', 'name8000', 'gateway', 'spam', 'desktops', 'extension', 'onenote', 'mfa', 'retention', 'keyin', 'shop', 'penang', 'zrd0', 'validate', 'rhel', 'scope', 'logs', 'srivarin', 'visio', 'name20390en', 'name857', 'locker', 'termination', 'telefono', 'name225', 'name28687', '64', 'spooler', 'globe', 'deude6', 'wp', 'update', 'name12789', 'query', 'energy', 'sofware', 'concurrent', 'vpn', 'clm', 'emea', 'cookies', 'reset', 'kir012345ab', 'bbmag36depts', 'apacmy', 'adicionada', 'dep', 'exchange', 'pushed', 'co11', 'font', 'pr', 'precision', 'udpated', 'ec', 'jd', 'thin', 'apacmy', 'outbound', 'familyname', 'edi', 'rpa', 'zoom', 'restore', 'dvd', 'sharedoffice16', 'drive', 'driver', 'suffix', 'toposted', 'cancel', 'configure', 'ekiosk', 'name19143', 'name12992', 'kb0017374', 'apacmy', 'learning', 'daylight', 'map', 'reactive', 'campaign', 'brb', 'assigment', 'name13183', '29', 'e3', 'resetunlock', 'laps', 'resend', 'dbit', 'signature', 'author', 'mfa', 'vulnerability', 'download', 'winrar', 'bmimygx', 'freezed', 'outlook', 'delete', 'name0', 'extensionattribute1', 'name20870', 'setup', 'name11297', 'bluetooth', 'workspace', 'attendance', 'ibm', 'beim', 'status', 'apph2field', 'drive', 'anmelden', 'apacmy', 'temp', 'tagged', 'zsdomicocrit', '5661717623', 'instrument', 'wants', 'airtime', 'scripting', 'letters', 'token', 'package', 'gdp', 'tracelink', 'aps', 'rfc', 'bbvnitall', 'reverse', '5661717623', 'printing', 'bbmagf11', 'airtel', 'wlan', 'protector', 'log', 'dpotxt', 'cartridge', 'ibm', 'char', 'epay', 'topoch', 'rsa', 'dell', 'search', 'v1709', 'card', 'drive', 'console', 'partner', 'messageconnection', 'desktops', 'apinit', 'name11155', 'tokens', 'activation', 'picklist', 'youtube', 'scanjet', 'ou', 'should', 'in82', 'pwd', 'pad', 'cellphone', 'ups', 'etf', 'hana', 'fax', 'cellphone', 'collection', 'servicesboon', 'mcda', 'removal', 'sydneyaustralia', 'recovered', 'vat', 'authenticate', 'specially', '29', 'desk', 'deletion', 'usuario', 'rsa', 'zscaler', 'vault', 'krub', 'owner', 'print', 'workflow', 'name9572', 'inbound', 'ou', 'unlocked', 'jdrive', '', 'panibiin', 'pro', 'current', 'hangs', 'submit', 'role', 'mfa', 'rj45', 'horizontal', 'vlan', 'zmm20sernpwerks', 'chanketw', 'unlockedreset', 'cost', 'name19749', 'pw', 'depts', 'bmi15', 'obs', 'guidelines', '5661717623', 'ariba', 'e3', 'deptrd', 'toner', 'kraudnde', 'kb0016026']\n",
            "['pig', 'sap', 'iphone', 'group', 'la', 'register', 'setup', 'sync', 'computers', 'sms', 'bank', 'shared', 'rule', 'bdocs', 'role', 'microsoft', 'sound', 'profile', 'file', 'fivim', 'install', 'printing', 'remove', 'essmss', 'unlockedreset', 'access', 'permitted', 'bitlocker', 'scanner', 'ssl', 'pin', '31102021', 'phone', 'variant', 'adapter', 'rules', 'legally', 'net', 'property', 'unlockedreset', 'jam', 'recycle', 'fulfilled', 'grant', 'unlock', 'adobe', 'black', 'admin', 'username', 'power', 'connected', 'hdmi', 'rsa', 'servicedesk', 'pem', 'name8055', 'de08wpo01', 'enduser', 'password', 'performed', 'meeting', 'increase', 'monitoring', 'write', 'port', 'name1380', 'office', 'excel', 'myid', 'outlook', 'import', 'upgrade', 'cne', 'vpn', 'ink', 'remap', 'remove', 'name8000', 'termination', 'stored', 'name8000', 'laptop', 'creative', 'name8055', 'termination', 'cisco', 'name8264', 'name8000', 'escalate', 'fulfilled', 'addresses', 'install', 'deployment', 'backup', 'backup', 'gb', 'vpn', 'rmf', 'charger', 'bra', 'connected', 'meeting', 'printer', 'webcam', 'resetunlock', '365', 'lost', 'mfa', 'installiert', 'phone', 'wifi', '7623', 'password', 'develops', 'ids', '', 'roles', 'leaving', 'rsa', 'admin', 'document', 'investworkflow', 'google', 'useraccount', 'name30107', 'eaccess', 'name8025', 'name8000', 'topo', 'upgrade', 'fingerprint', 'printer', 'name14388', 'space', 'litigation', 'databases', 'display', 'bbtw', 'workflow', 'toner', '24', 'dell', 'admin', 'name14388', 'gpupdate', 'sql', 'windows', 'disappeared', 'room', 'keypad', 'space', 'add', 'voice', 'placed', '2013', 'rasap01', 'laps', 'tokyo', 'addresses', 'license', 'virus', 'manual', 'others', 'storage', 'dsf', 'isp', 'printing', 'presentation', 'contract', 'covid19', 'windows', 'admin', 'fs', 'lease', 'attending', 'english', 'extend', 'updates', 'roles', 'slower', 'windows', 'ntprinterspointandprint', 'driver', 'relogin', 'transcare', 'portal', 'website', 'sharepoint', 'googledrive', 'ip', 'declaration', 'my01', 'headsets', 'acess', 'switch', 'adding', '7623', 'connected', 'assignee', 'name8857', 'removal', 'cycle', 'reset', 'colombia', 'name8775', 'ipconfig', '7623', 'voip', 'ras', 'receiver', 'authentication', 'my7q', 'name9629', 'blocked', 'bi', 'uv', 'receivable', 'cluster', 'player', 'ritm0245613', 'ras', 'scanner', 'windows', 'signature', 'reset', 'according', 'hard', 'program', 'rcviewer', 'labels', 'wifi', 'e3', 'wurde', 'cell', 'udpated', 'book', 'dhl', 'labeled', 'apinpacking', 'czeckpointa', 'mfa', 'konto', 'cpu', 'servicenow', 'servername', 'cet', 'relogin', 'bogosiro', 'ca', 'binti', 'deployment', 'editor', 'field', 'cctvs', 'name32271', 'objects', 'sap', 'print', 'fulfilled', 'dwg', 'name414', 'softtoken', 'name1085', 'hierarchies', 'store', 'treiber', '20h2', 'deu', 'o365', 'username', 'name8129', 'gpupdate', 'loaded', 'name76', 'deu', 'joiner', 'pty', 'platformandy', 'register', 'premise', 'termination', 'snapshots', 'saver', 'impact', 'termination', 'lenovo', 'name6926', 'setup', 'tunnel', 'factory', 'permanently', 'rein', 'subscription', 'field', 'mac', 'latitude', 'unlocked', 'ssc', 'joiner', 'name9727', 'name8000', 'name15931', 'ova', 'bbraunadap', 'kb0014553', 'licence', 'room', 'globalxx2cs', 'cet', 'label', 'br02wprint1', 'freezed', 'relogin', 'drukarki', 'requesters', 'unit', 'inbound', '2019', 'relogin', 'extract', 'mapped', 'konto', 'monitoring', 'ssl', 'rules', 'name24701', 'password', 'patches', 'logout', 'reset', 'wisxx0039', 'posted', 'training', 'globalxx2cs', 'room', 'routing', 'hptlc', 'lan', 'checkmk', 'wf', 'hold', 'proxy', 'softtoken', 'print', 'stream', 'connected', 'invoic', 'uninstalled', '0365', 'gui', 'modified', 'computers', 'ro01c0179', 'policy', 'name17538', 'singvpin', 'campus', 'termination', 'lenovo', 'setup', 'registration', 'claim', 'testing', 'zfn2', 'unlocked', 'mass', 'tq', 'name26508', 'rightfind', 'servicesboon', 'admin', 'name12962', 'customer', 'printer', 'viewer', 'black', 'ess', 'sharepoint', 'excel', 'remove', 'pro', 'pw', 'mfa', 'reset', 'addresses', 'celonis', 'server', 'controlador', 'folder', 'mfa', 'accpac', 'imap', 'unlocked', 'dimension', 'relao', 'security', 'replacement', 'dell', 'name29894', 'devices', 'retrieve', 'folders', 'addresses', 'joiner', 'wernulde', 'brief', 'move', 'field', 'gleich', 'inbound', 'channel', '422', 'instalare', 'viewer', 'closed', 'signon', 'escort', 'name15136', 'profile', 'pdf', 'name8391', 'startup', 'reset', 'top', '3357', 'end', 'browser', 'bpvn', 'hired', 'bg', 'tanchmmyas', 'remapped', 'shop', 'viewer', 'inforecords', 'succeeded', 'ta', 'rolled', 'primary', 'etr', 'name11089', 'stoilaro', 'explained', 'malfunction', 'mb', 'name26852', 'azure', 'addresses', 'aktuelle', 'cleared', 'freezed', 'fi', 'passwors', 'requesting', 'emeade2sap', 'network', 'vitek2', 'firstname', 'notably', 'decommission', 'country', 'pide', 'name11500', 'photo', 'outlook', 'name12524', 'isihat', 'arch', 'note', 'wifi', 'gateway', 'devices', 'full', 'update', 'customer', 'license', 'sicap', 'e3', 'connecter', 'unread', 'mfa', 'appcloud', 'token', 'guide', 'name6949', 'approver', 'evaluation', 'unlockedreset', 'driver', 'book', 'designed', 'exchange', '180', 'desktop', 'battery', 'firewall', 'sharepoint', 'prevented', 'einwahl', 'leaving', 'sydneyaustralia', 'template', 'relogin', 'leaving', 'es01wprint', 'password', 'smart', 'patch', 'logon', 'de6infotype0', 'promote', 'allocate', 'top', 'connection', 'anymorecant', 'freezed', 'licenses', 'eshop', 'prompts', 'fwrcr', 'argument', 'privacy', 'compact', 'ch', 'name24247', 'store', 'vpn', 'inc000001753391', 'muc', 'checkpoint', 'colombia', 'name8380', 'br02c0673', 'exchange', 'dea0225sdd7azmmr00sdv03v02', 'validity', 'video', '2018', 'timeware', 'duplicates', '5661717623', 'google', 'word', 'reset', 'checked', 'password', 'tp', 'sso', 'removal', 'admin', 'spain', 'rsa', 'apacmy', 'raabfrdela', 'bpvn', 'admin', 'edited', '06222021', 'name22150', 'mycareer', 'queues', 'name14744', 'plw2', 'fwrcr', 'zones', 'name18325', 'locked', 'speed', 'thin', 'code', 'setup', 'self', 'username', 'purchasing', 'emergency', 'aup', 'drivers', 'unlock', 'mohdnomy', 'matrculas', 'clm', 'jp', 'globalxx2ps', 'drive', 'projectmidsize', 'legally', 'granted', 'req0180793', 'join', 'mgt', 'policy', 'bank', 'attp', 'mask', 'printers', '0018201', 'de13windows', 'enduser', 'switch', 'kb0015509', 'deu', 'termination', 'true', 'termination', 'phone', 'name19346', 'gre', 'dept', 'domain', 'filesharingfilehosting', 'entering', 'wenzmrdeas', '', 'globalxx2dw', 'x86bbraun', 'bra', 'checkpoint', 'locked', 'google', 'zonal', 'joiner', 'credential', 'relogin', 'apinit', 'de08wsimlog01', 'softphone', 'plug', 'yue', 'save', 'dongle', 'attending', 'queues', 'resetunlock', 'cost', 'transport', 'adapter', 'globalxx2dw', 'session', 'pbi', 'oximeter', 'groups', 'small', 'section', 'name14388', 'de08w3dxdtf01', 'l2a', 'bbmaga357', 'pushed', 'hbs', 'temporary', 'decommission', 'dhcp', 'kb0015187', '422', 'kimsonkr', 'author', 'bj', 'bit', 'leaving', 'contrasea', 'e3', '27', 'ttl64', 'name1939', 'wsfc', 'de6deu', 'doesnt', 'regarding', 'name12106', 'power', 'lamp', 'removal', 'sessions', 'connect', 'salesforce', 'windows', 'adhoc', 'mya', 'changereset', 'accessed', 'map', 'impressora', 'soft', 'ordojope', 'inbound', 'inforecord', 'fonts', '1st', 'latitude', 'fiery', 'approver', 'name5603', 'client', 'installer', 'gmt', 'jp01', 'sdwisxx0071', 'fisas', 'ceremony', 'point', 'dvd100', 'filesmicrosoft', 'remap', 'install', 'autoconfiguration', 'paid', 'reject', 'profile', 'kiosk', '27', 'kb5005043', 'w10', 'driver', 'training', 'savings', 'punngnin', 'ou', 'phishing', 'bra', 'ifrs15', 'problme', 'exchange', 'globalxx2dw', 'mya', 'yapojopl', 'ritm020546', 'pulau', 'chelrain', 'ritm0246771', 'register', 'log4j', 'email446', 'unzip', 'gateway', 'resigned', 'asks', 'mfa', 'peg', 'distinguishedname', 'displayname', 'instructions', 'disappeared', 'shyamtiwari', 'premium', 'meeting', 'efarm', 'logout', 'ritm0255482', 'bitlocker', 'name13384', 'sich', 'guidelines', 'sms', 'ids', 'sm30', '7623', 'name335', 'admin', 'voucher', 'cooperate', 'characters', 'mfa', 'installation', 'apo', 'sit', 'co01', 'decomission', 'group', 'hostname', '7623', 'aa01wprnpt01', 'takeover', 'ill', 'adapter', 'screen', 'bbc', 'archive', 'ink', 'erf', 'indicator', 'log4j', '0805', 'locked', 'replace', 'engine', 'servicesboon', 'reader', 'remapped', 'rsa', 'customer', 'secure', 'prod', 'submitting', 'name11156', '714604', 'word', 'picklists', 'restricted', 'scanner', 'ts', 'created', 'toner', 'bra', 'logon', 'mfatoken', '5155', 'probation', 'weidkade', 'inc000002265249', 'enduser', 'test07my', 'name11089', 'clients', 'licence', 'e3', 'microsoft', 'range', 'idp', 'malfunction', 'exchange', 'solucionadoi', 'internal', 'acceso', 'register', 'sign', 'guys', 'vdo', 'ownership', 'pdf', 'stopped', 'transaccin', 'name414', 'od', 'confirmed', 'deptrd', '', 'yadaujin', 'workspace', 'softtoken', 'pc', 'efam', 'temporary', 'tiwavimy', 'connector', 'personnel', 'dmz', '1ec', 'ras', 'username', 'center', 'apply', 'ctrlalt', 'dept', 'printers', 'studio', 'apac', '7623', 'ebuy', 'joiner', 'joined', 'black', 'vpn', 'kb0015509']\n",
            "['sales', 'self', 'ipad', 'ldap', 'el', 'name12458', 'ln', 'drive', 'unlocked', 'temporary', 'cr', 'mailboxes', 'firewall', 'password', 'authorization', 'name8922', 'microphone', 'owa', 'name29397', 'pls', 'installation', 'printer', 'termination', 'de6', 'username', 'folders', 'page', 'key', 'scanning', 'csr', 'rsa', 'script', 'device', 'jobs', 'disabled', 'server', 'recipient', 'sharing', 'spam', 'reset', 'hp', 'folder', 'local', 'servers', 'unlocked', 'reader', 'cartridge', 'wants', 'reset', 'powerbi', 'admin', 'docking', 'unlocked', 'perform', 'project', 'url', 'failed', 'mfatoken', 'ibm', 'servicedesk', 'record', 'quota', 'remove', 'available', 'ports', 'exception', 'plus', 'ao', 'explained', 'addin', 'imported', '20h2', 'entries', 'mfa', 'vn41', 'remapped', 'binti', 'workspace', 'remove', 'connection', 'klick', 'borrow', 'name13484', 'zscaler', 'binti', 'setup', 'project', 'desktop', 'fulfilled', 'escalate', 'missing', 'endpoint', 'inplace', 'policy', 'include', 'disk', 'point', 'documents', 'dell', 'name8179', 'admin', 'calender', 'installed', 'integrated', 'shop', 'inbound', 'connectivity', 'expired', 'de08', 'mtn', 'bmiguest', '49', 'aa', 'evolving', 'binti', '', 'role', 'infotype0', 'ras', 'wants', 'rendition', 'workflows', 'software', 'cua', 'es04', 'da', 'collaboration', 'regular', 'topode', 'notebook', 'door', 'updates', 'rsa', 'profiles', 'meetings', 'dump', 'name24247', 'joiner', 'vim', 'replacement', '365', 'motherboard', 'printer', 'cet', 'name9958', 'my01wsql04s', 'thevkomy', 'reinstallation', 'resource', 'touchpad', 'quota', 'group', 'name8259', 'hold', 'microsoft', 'ldap', 'generate', 'comment', 'missing', 'o365', 'name12205', 'lock', 'shortly', 'dea', 'dee', 'name19143', 'printers', 'assistant', '15', 'implemented', 'password', 'connected', 'filesystem', 'name8000', 'prior', 'chinese', 'date', 'conversation', 'dee100', 'defect', 'reset', 'kb5005043', 'conversation', 'hours', 'forward', 'logout', 'whitelist', 'restored', 'granted', 'model', 'external', 'infra', 'jabra', 'token', 'port', 'addressbook', '49', 'wants', 'field', 'label', 'software', 'azure', 'done', 'license', 'keyboard', 'nicastro', '49', 'phone', 'instruction', 'requester', 'endpoint', 'my3z', 'plan', 'computers', 'power', 'hplc', 'topup', 'lun', 'video', 'priority', 'advice', 'recognition', 'reset', 'firma', 'desk', 'kb', 'token', 'installed', 'landesk', 'printing', 'disable', 'bbmro', 'funktioniert', 'think', 'updated', 'groups', 'emails', 'css', 'local', 'closed', 'old', 'brak', 'de08lm000', 'name9974', 'backup', 'script', 'activated', 'windows', 'my01', 'office', 'copy', 'opentext', 'name12258', 'apin', 'zjb7fzpx', 'master', 'password', 'clear', 'escalate', 'name25298', 'cn', 'name7896', 'change', 'sql', 'pdf', 'name15522', '10', 'remove', 'bg01', 'reset', 'rout', 'force', 'witbank', 'setup', 'remove', 'license', 'zealand', 'globalxx2ps', 'pls', 'update', 'de6infotype0', 'de08wnlat', 'lock', 'name8321', 'leaving', 'screen', 'provided', 'my01', 'inc000001496246', 'holiday', 'responding', 'analyzing', 'servicename', 'v1709', 'name7812', 'hardware', 'computers', 'rescan', 'apac', '5661717623', 'groups', '365', 'vsa', 'removal', 'down', 'bi', 'projector', 'integration', 'script', 'webclient', 'install', 'needful', '365', 'brak', 'email67', 'router', 'default', 'server', 'activated', 'dataextraction', 'printer', 'wurde', 'remove', 'certificates', 'apply', 'de4', 'name4068', 'patch', 'successfully', 'per', 'ch05', 'workflow', 'name16947', 'integration', 'name1344', 'according', 'hplc', 'internet', 'hosts', 'finally', 'f1', 'ipderror', 'name7896', 'driver', 'video', 'admin', 'kuphonenumber13786', 'uninstall', 'license', 'solidworks', 'synchronization', 'unlocked', 'name6203', 'backup', 'matrculas', 'field', 'network', 'extend', 'monitor', 'apac', 'register', 'staff', 'call', 'b536', 'successfully', 'creation', 'toner', 'name22827', 'name9974', 'name11089', 'wants', 'expert', 'edi', 'remote', 'proxima', 'deliver', 'accessing', 'select', 'navision', 'termination', 'ps', 'funktioniert', 'token', 'windows', 'email', 'training', 'studio', 'connected', 'mails', 'name8671', 'record', 'starttls', 'ad', 'name11204', 'processadas', 'vm', 'standby', 'laptop', 'jre', 'name7827', 'temporarily', 'groups', 'missing', 'apac', 'bbmchqkbcr', 'gmbh', 'moved', 'toner', 'ess', 'default', 'space', 'environment', 'imprimanta', 'name10757', 'pl0k', 'single', 'vendor', 'tq', 'ms', 'advanced', 'browser', 'name15136', 'pasword', 'name9669', 'eclaim', 'workflow', 'workaround', 'membership', 'license', 'bg01', 'password', 'network', 'login', 'photos', 'name8377', 'features', 'dvd', 'lowered', 'bmi02', 'ibm', 'servicesboon', 'name11366', 'r3', 'monitored', 'space', 'module', 'name15931', 'email', 'move', 'clear', 'resigned', 'ap', 'been', 'lapmin', 'enclosure', 'switch', 'manual', 'ch', 'ntprinterspointandprint', 'plan', 'ch05', 'permite', 'name13210', 'images', 'mode', 'git', 'apac', 'archiving', 'apac', 'disable', 'ras', 'assign', 'outlook', 'into', 'edi', 'f3', '1006', 'license', 'entrer', 'emails', 'account', 'session', 'register', 'ivangebg', 'lima', 'name26852', 'retro', 'reset', 'updated', 'etr', 'vpn', 'september', 'leaver', 'upgrade', 'reboot', 'rules', 'email1176', 'clients', 'nicht', 'de6infotype0', '365', 'word', 'apac', 'de6infotype0', 'impresora', 'forget', 'sheet', 'checkpoint', 'x1t', 'infotype0', 'swl', 'channel', 'up', '12170', 'bmi4383', 'resigned', 'joiner', 'name16184', 'checked', 'name8055', 'lbbmagmfainternal', 'compliance', 'appusrin', 'xxxxxxch', 'dept', 'microsoft', 'connection', 'imwflocalassetmanagementcn0422', 'vn23', 'disappeared', 'hired', 'pph', 'lbb0370', 'september', 'job', 'expired', 'drive', 'name11892', 'clocking', 'accounts', '49', 'default', 'plugin', '1630', 'reset', 'change', 'logically', 'signon', 'software', 'printer', 'token', 'enroll', 'checkpoint', 'planon', 'inbound', 'printer', 'eshop', '0649', 'detailed', 'mycareerservlet', 'smtp', 'r42220211101ga572810e5ee2037b', 'printouts', 'ports', 'unlocked', 'bangladesh', 'unlocked', '0410', 'english', 'byod', 'driver', 'apac', 'reset', 'name25086', 'within', 'logging', 'name14755', 'ad', 'tatshuch', 'temporary', 'agreement', '21', 'lcm', 'apac', 'myb', 'ru00361105', 'zscaler', 'automated', 'teams', 'md', '04132021', '3145', 'tt', 'labels', 'ntprinterspointandprint', 'kb0018201', 'domne', 'mfatoken', 'happend', 'hisher', 'it105', 'nur', 'words', 'windows', 'iphone', 'accpacc', 'grekeepalivetimecheck1720', 'qmcc', 'trust', 'exception', 'mind', 'my01whrweb1pangfamyaa', '', 'e3', 'agnexadia', 'fi', 'mix', 'name8029', 'name2867', 'updation', 'bhiwadi', 'driver', 'activated', 'configure', 'de08wcodab01', 'extension', 'onsite', 'upload', 'output', 'vivo', 'prior', 'smtp', 'unlockreset', 'center', 'name4348', 'wifi', 'pushed', 'appcloud', 'bi', 'threat', 'name12774', 'comprehension', 'revert', 'cet', 'saphanah1tdatah1t', 'admin', 'unlock', 'aad', 'name16378best', 'login', 'x8664', 'wms', 'name8922', 'reset', 'email3627mailtoemail3627', 'name20390n', '5661717623', 'recovery', 'binti', 'unlockedreset', 'joiner', 'wound', 'ttl126', 'gpo', 'availability', 'into', 'work', 'done', 'name3539', 'excel', 'testing', 'resign', 'ts', 'rasap01', 'name13549', 'locker', 'clearing', 'muelchmy', 'myp', 'de08wfile13', 'addmap', 'landesk', 'vpp', 'fileexchange', 'default', 'nd', 'name13234', 'roles', '7530', 'actualizar', 'name3903', 'approve', 'bbmuk', 'reinstall', 'delivered', 'agency', 'partner', 'accounts', 'awards', 'derapid', 'fahrho01', 'cprogram', 'apac', 'admin', 'connectionspecific', 'workflow', 'req0186304', 'outlook', 'essekiosk', 'name16803', 'restrictdriverinstallationtoadministrators', 'existed', 'update', 'trainings', 'time', 'folder', 'dept', '2x', 'transactions', 'ga', 'requestid', 'september', 'name1827', 'conversation', 'networkadapter', '63', 'pig', 'firmas', 'ritm0231563', 'wfh', 'my02c0064', 'wetransfer', '7zip', 'ras', 'needful', 'name824', 'fee', 'pushed', 'extensionattribute7', '19', 'gb02tc1500', 'reinstallation', 'apinprocrument', 'bi', 'download', 'regenerate', 'name27494', 'inc000002073012', 'name13183', 'rd', 'kann', 'self', 'isihat', 'network', 'text', 'sydneyaustralia', 'submitting', 'asked', 'vouches', 'bot', 'twelve', 'rsa', 'req0182837', 'integration', 'aws', 'airap1832iak9', 'cab', 'ln', 'aes', '49', 'citrix', 'downtime', 'complaint', 'resume', 'iphone', 'name25046', 'database', 'vn20', 'bmih1bmibbraun', 'lset', 'cve202145105', '0825', 'apacmy', 'ved', 'disruption', 'name11089', 'instalare', 'remap', 'name7982', 'edi', 'reflecting', 'standalone', 'attending', 'hoeyenmyca', 'name29832', 'expire', 'bpharmaceuticals', 'mediamanager', 'fn2', 'move', 'address', 'name8290', 'unlocked', 'taskbar', 'enduser', '063', 'resignation', 'he8', 'compiling', 'mfatoken', 'remove', 'lapmin', '20210813', 'ad', 'baus', 'impact', '0494', 'smbv23', 'monitored', 'september', 'service', 'rsa', 'en', 'mfa', 'outlook', 'vaulted', 'catalogue', 'transfer', 'printing', 'cancel', 'name16391', '24', 'ss2', 'access', 'rive', '', '422', 'premium', 'assignation', 'turned', 'ef', 'myb', 'name12564', 'rack', 'sharp', 'servers', 'vn31missing', 'bbkr', 'reset', 'centerphonenumber5946225', 'login', 'malaysia123456', 'stz', 'near', 'obsndi', 'reset', '49', 'name7829', 'name857', 'daily', 'name15136', 'zablokowane', 'hisher']\n",
            "['perindustrian', 'password', 'enrollment', 'ad', 'instruments', 'registration', 'notes', 'folder', 'directory', 'forgot', 'tax', 'smb', 'initiated', 'reset', 'authorizations', 'ms', 'hear', 'ost', 'macro', 'document', 'name12991', 'printers', 'windows', 'kiosk', 'reset', 'granted', 'bkcnot', 'name13183', 'scans', 'cert', 'token', 'cet', 'register', 'schedule', 'deactivated', 'servers', 'sender', 'expense', 'sender', 'username', 'printer', 'files', 'escalate', 'aa', 'account', 'name10205', 'toners', 'printer', 'per', 'debtors', 'wants', 'screen', 'token', 'action', '2016', 'site', 'networker', 'instruction', 'note', 'local', 'teams', 'space', 'mk', 'name7826', 'lan', 'name1606', 'installation', 'addin', 'locked', 'addins', 'transports', 'portal', 'entry', 'configure', 'refill', 'depts', 'termination', 'apps', 'network', 'launchpad', 'tm1', 'laptops', 'name8071', 'noninternet', 'extension', 'soft', 'extranet', 'wingsldt', 'services', 'desk', 'mail', 'name11297', 'desktop', '235959', 'filesystem', 'extent', 'connectivity', 'reserved', 'bloated', 'roles', 'wants', 'invitation', 'install', 'teams', '046323030', 'default', 'patch', 'hard', 'werden', 'deskphone', 'name14063', 'feel', 'bbraun2021', 'improving', 'network', '', 'cr', 'de6infotype0', 'remove', 'printer', 'pdf', 'investment', 'install', 'sso', 'wonderware', '3156', 'site', 'joining', 'topoch', 'collected', 'warehouse', 'manage', 'na', 'disk', '4015', 'migration', 'name', 'account', 'fi', 'black', 'hours', 'turn', 'wants', 'script', 'name14882', 'sainst', 'password', 'starts', 'booking', 'express', 'storage', 'bbmrobbphusers', 'name19922', 'deletion', 'software', 'name10237', 'campus', 'category', 'mail', 'f3', 'malware', 'block', 'contacting', 'inc000002061322', 'deh001', 'email3629mailtoemail3629', 'printer', 'slide', 'rar', 'control', 'resset', 'driver', 'mounted', 'citrix', 'tracking', 'german', 'deloitte', 'install', 'assign', 'failover', 'sr', 'b405dn', 'kb0017006', 'later', 'mailbox', 'successfully', 'recategorize', 'collaboration', 'drive', 'printer', 'initiated', 'retire', 'earphones', 'privileges', 'ports', 'rvice', 'feel', 'name15522', 'services', 'reactive', 'shop', 'book', 'password', 'name7896', 'pad', 'flushdns', 'feel', 'extension', 'discussed', 'verifier', 'checkpoint', 'printer', 'chart', 'unlocked', 'fulfillment', 'ftir', 'clerk', 'de08', 'media', 'escalation', 'servicedesk', 'clock', 'password', 'sign', 'windows', 'setup', 'hardtoken', 'deployed', 'desktop', 'print', 'detect', 'joiner', 'nicht', 'powerpoint', 'changed', 'ln', 'ibm', 'terminated', 'condot', 'dect', 'reregister', 'drukarka', '164925', 'portal', 'configure', 'name14388', 'refresh', 'casealie', 'backup', 'termination', 'pack', 'chrome', 'services', 'dvr', 'cprogramdatacheckmkagentplugins', '2492021', 'de5', 'my7j', '4601', 'lt', 'joiner', 'name8698', 'woermi01', 'iv', 'document', 'assist', 'windows', 'termination', 'e3', 'xxxx', 'appliances', 'bbraun', 'name8741', 'campus', 'termination', 'apac', 'ltd', 'technical', 'proceed', 'bind1932', 'infotype0', 'de08wnlms', 'sleep', 'microsoft', 'nur', 'vantage', 'reset', 'up', 'regrading', '2022', 'primary', 'designed', 'projectnumber', 'servicesboon', 'es22c0044', 'refreshing', 'directory', 'obsolete', 'license', '7623', 'remove', 'cycle', 'deploy', 'firstname', 'restart', 'fulfillment', 'mic', 'einvoicing', 'name14388', 'design', 'machine', 'earliest', 'activated', 'hp', 'automated', 'retief', 'aad', '64k', 'joiner', 'fimya', 'name14789', 'inc', 'retired', 'dhl', 'cocd', 'unlock', 'learning', 'servers', 'successful', 'username', 'firstname', 'vim', 'gpefsnsvqg1mck9jyh', 'customer', 'email626', 'therefore', 'qc', 'pc', 'esxhosts', 'approved', 'enabled', 'exhaustion', 'name8698', 'install', 'upload', 'wants', '225', 'remove', 'assigned', 'themes', 'wasnt', 'directory', 'log', '235959', 'processadas', 'escalate', 'replugin', 'windows', 'dell', 'apacmy', 'name8391', 'eregistration', 'normalle', '0209', 'unlock', 'added', 'black', 'naus', 'now', 'oh', 'connected', 'monitor', 'name15195', 'print', 'opentext', 'my1k', 'known', 'location', 'nav', 'done', 'bi', 'wurde', 'taukanin', 'password', 'should', 'name15793', 'install', 'imprimir', 'deleted', 'token', 'released', 'imappop3smtp', 'name8279', 'email4525mailtoemail4525', 'matrculas', 'mes', 'eol', 'screen', 'lisalims', 'mobile', 'back', 'bbmag65', 'mail', 'o365', 'permission', 'templates', 'moving', 'name12258', 'wieder', 'anymore', 'teams', '0365', 'ro15wsprint1', 'nagathmy', 'skany', 'unfreeze', 'name76', 'campus', 'name8922', 'nuance', 'microsoft', 'campus', 'windows', 'sa', 'vietnam', 'wfs', 'chrome', 'relogin', 'iblamx', 'name427', 'salesforce', 'remap', 'path', 'clr', '03351', 'host', 'import', 'name12006', 'redirect', 'location', 'oh', 'sap', 'locked', 'systems', 'storage', 'roles', 'book', 'should', 'ndern', 'records', 'needful', 'vim', 'password', 'ivanti', 'mass', 'cable', 'backup', 'country', 'm607', 'shutted', 'procedures', 'administrador', 'ivanti', 'pictures', 'online', 'repository', 'temp', 'copacbboc', 'apacmy', 'laps', 'cet', 'advance', 'mailbox', 'empid', 'name15195', '0365', '0084', 'assigned', 'rsolu', 'staying', 'mfarsa', 'does', 'bmi', 'service', 'quality', 'routing', 'rerun', 'name28664', 'admin', 'location', 'certificate', 'ex288106', 'conflictresolutionoption', 'apin2148', 'name76', 'register', 'guest', 'alles', 'name20362', 'infotype0', '24', 'name16396', 'joiner', 'infotype0', 'instalacin', 'resetted', 'name24841', 'client', 'sap', 'kb0016117', 'stamped', 'rman', 'voucher', 'svc7f6565264fb8', 'bmi4498', 'needful', 'license', 'customer', 'done', 'port', 'ude08rasinternalbbraun', 'laws', 'inbox', 'country', 'ad', 'app', 'connect', '4xx', 'closed', 'starts', 'name7896', 'triggering', 'install', 'ex288106', 'name24171', '20230808', 'disconnect', 'solid', 'clocks', 'name13586', 'pentru', 'browser', 'software', 'name19881', 'ananmain', 'shared', 'workitems', 'factors', 'employee', 'wants', 'mfa', 'phone', 'name11297', 'move', '24', 'cannot', 'completely', 'appname', 'restoring', 'hrit', 'alternative', 'servers', 'logistic', 'hr', 'tokens', 'nepal', 'signs', 'number', 'language', 'token', 'ai', 'reset', 'per', 'name804', 'sporadic', 'autonomously', 'inm7', 'meyefrdeas', 'ofisis', 'vargan06', 'global', 'process', 'fulfilled', 'name11679used', 'validity', 'recipient', 'although', 'pulau', 'name8922', 'mobil', '235959', 'dea100', 'tracelink', 'actreen', 'm501dn', 'weiterhin', 'windowsekiosk', 'mfa', 'site', 'forgotten', 'subrkvmy', 'ap', 'actions', 'account', 'insurers', 'log', 'err', 'approval', 'rejoin', 'name1380', 'vpn', 'my01wepay01pangfamyaa', '', 'pangkemy', 'expertadditionalusercontrols', 'document', 'digits', 'unlocked', 'tender', 'hrbp', 'apac', 'name76', 'refresh', 'apinscm', 'rds', 'name15108', 'cashier', 'name11833', 'command', 'portable', 'tracking', 'alternative', 'muhaarmy', 'tankaymy', 'email20', 'activated', 'collaboration', 'does', 'power', 'investigated', 'name12775', 'chrome', 'notebook', 'script', 'de08lh045', 'driver', 'name172', 'inbound', 'zoor', 'ad', 'hana', 'scopes', 'refereed', 'gaurpain', 'name29', 'name20388', '7623', 'key', 'nur', 'por', 'license', 'infection', 'ping', 'gpupdate', 'idp', 'updated', 'task0377745', 'clave', 'endusers', 'powerquerry', 'hplc', 'advanced', '2019', 'conectada', 'signon', 'bbmuk4046', 'chg0032841', 'informations', 'attacker', 'bbmag36', 'printer', 'impresora', 'vpn', 'reso', 'aad', 'mass', 'name10294', 'lev', '7400', 'starter', 'eclaim', 'email4645mailtoemail4645', 'log', 'teams', 'external', 'firewall', 'profiles', 'itsecurity', 'meeting', 'bbmagu34', 'sicf', 'officerootvfsprogramfilescommonx64microsoft', 'onedrive', 'printer', 'media', 'fi', 'ritm0269188', 'apin1067', 'ehs', 'c2', 'm501dn', 'name28193', 'printer', 'completed', 'hour', 'network', 'move', 'name1367', 'ravemaco', 'charged', 'yapojopl', 'owa', 'collaboration', 'link', 'servicenowreference', 'approval', 'industries', 'owa', 'itir', 'globalxx2ps', 'businessobjects', 'variablemybbraunmodulene', 'php', 'add', 'earliest', '957', 'ras', 'joiner', 'extensionattribute3', 'covid19callcentermy', 'gb02tc1453', 'starts', 'driver', 'pro', 'meetings', 'reset', 'entsperrt', 'provided', 'name7812', 'name310', 'nicht', 'reset', 'receive', 'termination', 'spreadsheet', 'baus', 'attending', 'enter', 'load', 'enable', 'complexity', 'conect', 'software', 'ghw', 'trace', 'ap', 'phase', 'book', 'zone', 'feel', 'duplicate', 'netapp', 'tata', 'name76', 'cracked', 'login', 'emergency', 'mc', 'kunzktde', 'report', 'tims', 'topode', 'apac', 'name8824', 'causing', 'oh', 'carduri', 'ro01c0165', 'albalaco', 'name15195', 'bkc', 'floor', 'prior', '1230', '5661', 'e1', 'gra', 'mode', 'n9120', 'objects', 'email', 'in85', 'successfully', 'onenote2013', 'mfa', '795', 'notification', 'jayasy', 'telefax', 'instruction', 'japan', 'patch', 'mes', 'raised', 'license', 'may', '0484', 'smb1', 'hosts', 'ex288106', 'registro', 'database', 'listo', 'briones', 'phonenumber4748775', 'id', 'subtitile', 'name8381', 'doublesided', 'document', 'complaint', '365', 'oqcm', 'account', 'grant', '', 'reset', 'dashboards', 'name7896', 'hung', 'client', 'aumy01sd04', 'lbbmagmfa', 'packed', 'performed', 'de08wmesdb01', 'efg', 'gateway', 'per', 'ebuy', 'syazaqistina', 'inc000002058488', 'drive', 'map', 'newtek', 'perform', 'feel', 'sync', 'bj', 'rd', 'tq', 'konto', 'forgotten']\n",
            "['taman', 'unlock', 'enroll', 'permission', 'usuario', 'bdocs', 'id', 'files', 'active', 'employee', 'fide', 'leaver', 'bdocs', 'usernamewindows', 'sap', 'reinstall', 'mic', 'whether', 'version', 'dea', 'minitab', 'printed', 'account', 'ekiosk', 'per', 'grant', 'comment', 'locker', 'scanned', 'format', 'passcode', 'name14388', 'old', 'background', 'disable', 'removed', 'intended', 'system', 'phishing', 'per', 'technician', 'bin', 'support', 'sudo', 'lock', 'nuance', 'waste', 'asked', 'password', 'report', 'printer', 'station', 'unlock', 'due', 'ms', 'web', 'globalxx2sh', 'set', 'forgot', 'action', 'ms', 'sharepoint', 'removed', 'name8922', 'vendor', 'name2468', 'upgrade', 'name29397', 'blocked', 'teams', 'dec', 'offpremise', 'record', 'soft', 'vn30', 'name28193', 'done', 'de08wfile01', 'siti', 'fiori', 'password', 'interns', 'sign', 'relogin', 'needed', 'ip', 'name22397', 'remote', 'apth2field', 'level', 'lotus', 'installed', 'os', 'succeeded', 'into', 'extended', 'lost', 'deleted', 'adapter', 'name981', 'asked', 'calendars', 'hp', 'cam', 'ithelpdesk', 'joiner', 'patches', 'expiring', 'nicht', 'landline', 'pw', 'name8129', 'azhealplaa', 'constructive', 'termination', '', 'deb', 'voice', '422', 'asked', 'workflows', 'roles', 'appswindows', 'creation', 'servers', 'b3', 'sharepoint', 'citrix', 'topobmi', 'email6', 'closing', 'allow', 'br', 'profile', 'litigationhold', 'db', 'change', 'office', 'price', 'campus', 'external', 'hang', 'asked', 'firewall', 'anyconnect', 'read', 'baumflde', 'checkpoint', 'meeting', 'tag', 'drive', 'email8869', 'nur', 'mailbox', 'o365pp', 'bmi', 'servicesboon', 'priority', 'lotus', 'assigned', 'mcafee', 'time', 'looking', 'moved', 'suser', 'name20581', 'ibn4', 'point', 'allocation', 'phisishing', 'grra01de', 'wants', 'avail', 'productive', 'purposes', 'pack', 'extended', 'kb', 'deb', 'hardware', 'password', 'm501dn', 'printer', 'activated', 'emails', 'reachable', 'name9758', 'concerning', 'zscaler', 'pic', 'token', 'migrate', 'headphones', 'give', '906', 'book', 'name8129', 'printer', 'pcr', 'load', 'employee', 'litigation', 'passwordkumrsvin', 'e3', 'mousepad', 'performance', 'name8129', 'name8129', 'name8128', 'revise', 'security', 'install', 'bowling', 'directory', 'licence', 'creation', 'aintree', 'vmware', 'videos', 'provided', 'perform', 'facial', 'name8279', 'adobe', 'recovered', 'set', 'account', 'ivanti', 'bmi4311', 'nicelabel', 'hotspot', 'colegii', 'kennwort', 'jbe', 'sgc', 'members', 'name13023', 'binti', 'back', 'brak', 'delete', 'drukuje', 'increase', 'successfully', 'networker', 'token', 'inform', 'password', 'name9107', 'remove', 'boot', 'bdocs', 'fulfilled', 'ina1', 'register', 'loaded', 'outils', 'printing', 'subcontracting', '2019', 'apac', 'hired', 'bitbucket', 'sales', 'name2213', 'further', 'upgraded', 'name13790', 'name9727', 'password', 'emailinternal', 'name8128', 'ext41', 'field', 'nurul', 'cn', 'abn', 'lau', 'token', 'bind1933', 'generate', 'de08wnlap', 'computers', '27', 'siti', 'checkpoint', 'local', 'done', 'lifetime', 'public', 'vpn', 'debug', 'accesstype', 'name11089', 'ism', '7320', 'active', 'posted', 'o365', '49', 'vuhuynvn', 'litigation', 'servers', 'singapore', 'kb0015085', 'power', 'conference', 'partner', 'active', 'acp', 'name12992', 'resigned', 'refresh', 'pl01c5337', 'ordered', 'madiba', 'anymore', 'gb', 'refresh', 'parameter', 'my48', 'caller', 'fulfilled', 'kep', '0102', 'de5', 'change', 'patchmode', 'wurde', 'try', 'xxxxxxch', 'quantity', 'trainings', 'dutch', 'pandkrin', 'kb', 'polarimeter', 'cable', 'monitoring', 'running', 'resolving', 'name30941', 'granting', 'machine', 'recording', 'printer', 'bp', 'au02c0020', 'info', 'sap', 'parameter', 'active', 'password', 'sybasede5', 'registration', 'instrument', 'b11', '2023', 'leds', 'configure', 'google', 'claimair', 'savador', 'nb', 'changed', 'due', 'sd', 'training', 'service', 'v1909', 'asked', 'nefunctional', 'chain', 'install', 'attachment', 'catridge', 'edge', 'choose', 'report', 'account', 'power', 'nicht', 'antoigin', 'malaysia2021', 'created', 'name15795', 'cores', 'wants', 'recover', 'installation', 'name19346', 'pop3', 'windows', 'name15877', 'em', 'aes', 'handover', 'name8824', 'javax86', 'ad', 'up', 'folder', 'lotus', 'license', 'remove', 'deutschland', 'warehouse', 'black', 'name29218', '24', 'create', 'niebjaco', 'configurare', 'remote', 'dhr', 'deblocat', 'campus', 'sd', 'mailshow', 'transfer', 'unikey', 'tq', 'uytkownika', 'telkom', '1414', 'fivimdoc', 'poll', 'joiner', 'e3', 'ad', 'marketing', 'my01c1152', 'catalog', 'generator', 'santiago', 'pseudosaveset', 'bmt', 'expect', 'degraded', 'sent', 'driver', 'reactive', 'reset', 'netscaler', 'profile', 'role', '365', 'missing', 'moved', 'md04', 'earliest', 'document', 'has', 'name12', 'operations', 'reader', 'lpc', '422', 'm501dn', 'located', 'ch03', 'que', 'kuzniglv', 'teams', 'pl01c5680', 'commit', 'sms', 'variant', 'done', 'activated', 'script', 'chamado', 'size', 'done', 'chain', 'assigned', 'leviclit', 'menesebr', 'cl', 'send', 'token', 'windowsstart', 'fulfilled', 'solucin', 'decision', 'tmcth', 'time', 'rozi', 'completed', 'ibm', 'renewed', '950', 'transcript', 'windows10', 'dell', 'pls', 'name14063', 'connecting', 'mehr', 'binti', 'hours', 'beanstandung', 'activated', 'voice', 'wterm', 'rathniin', 'smartsheets', 'versions', 'es04c4415', 'date', 'valued', 'format', 'kind', 'saprouter', '3841no', 'earliest', 'mso365', 'ty', 'reset', '9480', 'mfa', 'including', 'outlook', 'ch05', 'spga', 'viewer', 'name15658', 'name8919', 'budget', 'reinstallation', 'name20010', 'vendors', 'machine', '950', 'mtode01pyae', 'apac', 'remap', 'solidwork', 'kronos', 'ln', 'feel', 'zing', 'instal', 'navision', 'kaviin', 'assistance', 'requests', 'mypdr', 'shop', 'asked', 'ras', 'delete', 'rsa', 'ad', '365', 'password', 'soon', 'lnxfs03', 'happend', 'war', 'bbmagi4', 'veloclouds', 'critical', 'solman', 'name21578', 'he', 'apac', '0760', 'hungarian', 'loefdide', 'inc000001838203', 'perform', 'kasaaide', 'masisiza', 'uncontrolled', 'checeked', 'updated', 'login', 'chart', 'name8163', 'sr', 'nonpermanent', 'platform', 'my01c1681', 'month', 'rss', 'name1606', 'pig', 'inprivate', 'repush', 'nsrsqlsv', 'ficmsdelete', 'messages', 'hilite', 'm607', 'besteht', 'de28windows', 'set', 'whats', 'kb', 'creation', 'leaving', 'includes', 'done', 'damaged', 'password', 'down', 'deptoqqc', 'workstation', 'name1606', 'manufacturer', 'expired', '', '365', 'aa01wterm001', 'vim', 'package', 'unlock', 'webinar', 'queries', 'license', 'network', 'joiner', 'webc', 'incl', 'name8716', 'b3', 'zfi00glex01', 'backup', 'cablecord', 'purposes', 'bbmagi4', 'portal', 'seeyuemy', 'bbmagqstglobal', 'command', '365', 'occur', 'wangkatw', 'low', 'name8000', 'extensions', 'online', '1115', 'backup', 'campus', 'name9974', '365', 'sweden', 'create', 'servers', 'scales', 'shot', 'rayanmin', '2013', 'thanh', '49', 'retrieve', 'de6infotype0', 'se', 'escalated', 'johannesburg', 'bytes', 'rpcauthnlevelprivacyenabled', 'name11660', 'exist', 'changed', 'given', 'impacting', 'name11047', 'instrument', 'pdf', 'terminal', 'conta', 'name264', 'emeadk', 'sideeffect', 'name12499', 'guessing', 'de08wfile17', 'my31', 'driver', 'token', 'file', 'anymore', 'upload', 'schriftart', 'nfjic4uczz', '10', 'uptaded', 'name6674', 'eclaim', 'panic', 'push', 'zone', 'staffing', 'edirspcod', 'generic', 'join', 'database', '208659', 'filescommon', 'setup', 'rights', 'enabled', 'vim', 'req0196450', 'prakashqa', 'resides', 'africa', 'm607', 'detailed', 'bmi2408', 'cg', 'adjust', 'br02wfile1', 'activated', 'email1599', 'name8179', 'whom', 'recovery', 'ex288106', 'license', 'unlock', 'requestid', 'ritm0282829', '19051m', 'designation', 'speed', 'ritm0289399', 'name15020', 'reasons', 'zlib', 'mfa', 'pvt', 'suspicion', 'mfaap', '365', 'samaccountname', 'covid19taskforcemy', 'according', 'checkpoint', 'headphone', 'reports', 'participant', 'my01c1198', 'successfully', 'informations', 'key', 'disconnect', 'changed', 'perform', 'provide', 'action', 'table', '49', 'prior', 'printer', 'units', 'bsxxxxxguiscripting', 'uppercase', 'pasii', 'compact', 'models', 'mac', 'ghz', 'classified', 'bbmprcghsaall', 'entry', 'name8129', 'printers', 'ha', 'name12696', 'normal', 'collect', 'turning', 'within', 'vn05', 'applications', 'tables', 'burn', 'minutes', 'unlocked', 'old', 'bdocs', 'v19092009', 'omnikey', 'partition', 'rsaconsole', 'chain', 'different', 'four', 'tracking', 's03008de', 'hard', 'webbased', 'term', 'videos', 'name15136', 'placed', 'name15384', 'in81', 'changed', 'search', 'token', 'top', 'etfs', 'hem', 'lieferinformationphonenumber1985951', 'mfa', 'site', 'oh', 'integration', 'deletion', 'assigned', 'march', 'number', 'ntlm', 'systems', '950', 'best', 'drexmahu', 'brb', 'fourerca', 'teamsone', 'hand', 'equotation', 'inter', 'de13c0919', '201708', 'name20109', 'hours', 'prmsa', 'domain', 'name4608', '', 'kumasyin', 'licence', 'cl', 'turnonoff', 'location', 'roles', 'id01', 'connectivity', 'drumkit', 'ip', 'id02', 'terminate', 'schoside', 'ith024', 'administration', 'mohymsmy', 'remapped', 'search', 'camtasia', 'send', 'name8129', 'dongguan', 'apac', 'tc', 'campus', 'caller', 'kb']\n",
            "['cc', 'myid', 'ios', 'myid', 'na', '24', 'database', 'one', 'windows', 'receive', 'xxa', 'integrate', 'name11560', 'name7927', 'assign', 'reinstalled', 'speaker', 'persist', 'win32', 'posted', 'portal', 'sap', 'nur', 'name12499', 'then', 'drive', 'reactivated', 'bit', 'enterprise', 'signed', 'connect', '200', 'app', 'frequency', 'command', 'mk', 'avoidance', 'authority', 'compare', 'password', 'tray', 'deleted', 'desk', 'server', 'windows', 'name13484', 'email6', 'enter', 'then', 'reports', 'asked', 'display', 'locked', 'level', 'professional', 'proxy', 'rman', 'up', 'shopservice', 'knowledgebasekb', 'screen', 'limit', 'name32271', 'time', 'network', 'zscaler', '365', 'installed', 'reset', 'name8922', 'erp', 'premise', 'alias', 'expired', 'vn20', 'share', 'nur', 'app', 'ap', 'opening', 'name15466', 'intern', 'marks', 'name9758', 'checked', 'name8129', 'langstse', 'appcloud', 'serivces', 'rfi', 'email', 'reinstalled', '10', '12162021', 'server', 'space', 'endpoint', 'delete', 'laptop', 'assignation', 'enter', 'outlook', 'print', 'driver', 'inquiries', 'anymore', 'eppatch', 'hardtoken', 'druckertreiber', 'telephone', 'btc', 'extension', 'selzmade', 'progressive', 'action', '', 'derived', 'generate', 'deleted', 'enter', 'effective', 'claim', 'installation', 'myself', 'fw', 'room', 'templatehas', 'domainlocal', 'name14882', 'loaned', 'reader', 'driver', 'taken', 'delete', 'future', 'schema', 'dept', 'relogin', 'document', 'field', 'note', 'screen', 'enter', 'active', 'connection', 'my01wsql04', 'done', 'automatic', 'type', 'keys', 'increase', 'added', 'al', 'raise', 'uninstall', 'communication', 'name11089', 'member', 'registered', 'e1', 'threat', 'lab', 'question', 'plant', 'sap', 'name20037', 'driver', 'addin', 'ficing', 'name6', 'abusahmy', 'asked', 'hanadata', 'name363name1186', 'sn', 'vietnamese', '99991231', 'follow', 'ded100', 'concept', 'unlock', 'm607', 'my31', 'refresh', 'rule', 'servicenow', 'url', 'archived', 'although', 'zt230', 'bdocs', 'provision', 'name9591', 'name14388', 'switchport', 'name2102', 'extension', 'asked', 'inent', 'pit', 'remove', 'hold', 'dcafetsepl', 'assigning', 'touchpad', 'cmd', 'extension', 'ip', 'steps', 'verification', 'name11297', 'done', 'contributing', 'active', 'added', 'polarimeter', '666', 'datastores', 'mp4', 'inc000002022229', 'register', 'unit', 'germany2021', 'electronic', 'done', 'up', 'delete', 'pe01c0160', 'control', 'printed', 'name12844', 'asteptam', 'inc', 'name28598', 'password', 'forwarding', 'bbmaghd', 'voice', 'packing', 'telefon', 'guide', 'dostpu', 'gb', 'reachable', 'succeeded', 'active', 'license', 'hashzamy', 'mention', 'nur', 'tools', 'extension', 'proceed', 'camera', 'agents', 'creation', 'name21889', 'spools', 'it0105', '2022', 'bbraun', 'granting', 'alias', 'table', 'name3503', 'email13293', 'laptop', 'nor', 'create', 'per', 'successfull', 'wifi', 'aintreer', 'win10', 'siti', 'o365', 'nexadia', 'range', 'device', 'bind1964', 'date', 'agreed', 'gpo', 'name8922', 'de6infotype0', 'commercial', 'id', 'set', 'fwrcr', 'day', 'firewall', 'name9419', 'ownermail', 'oh', 'device', 'detachable', 'windows', 'workflow', 'assigned', 'name7896', 'removed', 'azure', 'vm', 'lastname', 'article', 'name8969', 'join', 'profile', 'groups', 'templates', 'printer', 'ids', 'hours', 'internetu', 'products', 'sonmed', '24', '2017', '365', 'data', 'done', 'de13', 'bmi', 'pse', '0179', 'pleased', 'lapmin', 'monsol', 'inc', 'password', 'country', 'stuck', 'kickstarter', 'enterprise', 'canteen', 'escalated', 'polarimetor', 'bbraunwlan', 'monitored', 'end', 'hence', 'nodes', 'hired', 'installed', 'training', 'asked', 'xml', 'au02c0036', 'assign', 'interactive', 'bmimyg2', 'windows', 'goodger', 'succeeded', 'hr', 'fulfilled', 'pc', 'account', 'yes', '4618', 'supported', 'tranunvn', 'serviceportal', 'purch', 'kactus', 'access', 'campus', 'gwi', 'entsperrt', 'apmy2bmi', 'printer', 'treatments', 'ytterligare', 'admin', 'upload', 'replace', 'explorer', 'languages', 'name29397', 'sap', 'fulfillment', 'passwort', 'soft', 'set', 'missing', 'mining', 'sockets', 'printer', 'folders', 'name14388', '010phonenumber2482', 'authentication', 'account', 'hotline', 'disable', 'ot', 'baladhin', 'technician', 'install', 'restart', 'one', 'lldown', 'email', 'assigned', 'bbmprchccaisccsales', 'spanish', 'staff', 'services', 'sso', '365', 'wiki', 'name', 'ro01p', 'name10932', 'checklist', 'log', 'hp', 'printer', 'panel', 'power', 'chrome', 'reseat', 'pl01c5271', 'voucher', '1616', 'doc', 'name8470', 'activated', 'mx', 'cet', 'icloud', 'common', 'raise', 'copyright', 'name1776', 'job', 's4', 'protocols', 'shutdown', 'ibmnotes', 'field', 'luontavn', 'blocked', 'few', '30', 'selection', 'litigation', 'mail', 'folder', 'nn801z', 'braun', 'role', 'passwort', 'homepage', 'cz01', 'pn02', 'incubator', 'xxxxxxch', 'b405dn', 'aem', 'cet', 'admin', 'name530', 'quit', 'verbindet', 'nginx', 'temporary', 'coitem', 'my01c0983', 'credentials', 'mfa', 'tmobile', 'compact', 'system', 'notera', 'assign', 'name8097', 'penasibr', 'la', 'outlook', 'creaded', 'workspace', 'pls', 'name1244', 'lean', 'workflow', 'hiring', 'windows', 'name12992', 'browse', 'inconvenience', 'delays', 'keepsourceitem', 'spaceview', 'boot', 'added', 'name14504', 'luft', 'wp', 'date', 'external', 'name2496', 'refresh', 'generate', 'landesk', 'forgetted', 'name19347', 'lower', '363', 'termination', 'status', 'ditscarc1nmo', 'topup', 'sap', 'bmi3724', 'bindhc', 'kz01', 'fullname', 'outlook', 'zscaler', 'active', 'instant', 'columns', 'ch03', 'pia', 'photos', 'inckirkwigb', '8002', 'wms', 'automatic', 'license', 'email812', 'instalado', 'delays', 'dea0224sddenszmmr00sdv03v02', 'windows', 'share', 'inc000001893399', 'adp', 'tw', 'name8129', 'devendra', 'grant', 'ad', 'outlook', 'assist', 'ded100', 'navigate', 'outlk', 'enter', 'delete', 'old', 'apac', 'replyurl', 'hours', 'eingerichtet', 'receive', 'cbk', 'adapted', 'name15508', 'depends', 'aem', 'regularly', 'oss', 'wlanlan', 'name11368', '1282021', 'change', 'clinets', 'mfa', 'odp', 'sap', 'kerkwach', 'hd1', 'freeze', 'mailwares', 'update', 'sesin', 'name2104', 'em', 'buttons', 'username', 'my01wbtrust02', 'bmi4650', 'ackebous', 'sender', 'name2468', 'name14454', 'townhall', 'name12003', 'backup', 'wrongly', 'phonenumber1400', 'name16533', 'notably', 'solution', 'ch03windows', 'up', 'softtoken', 'en', 'validity', 'name13790', 'stop', '3561649', 'claim', 'name20319', 'isp', 'jj', 'primary', 'zscaler', 'certain', 'applicationpwccie', '', 'e1', 'files', '0323', 'denied', 'taekr', 'link', 'generated', 'assigned', 'field', '365', 'dell', 'es04wmcda05', '4251', 'power', '051287802421', 'hanashared', '4g', 'sn', 'depends', 'unlock', 'od', 'name1034', 'rights', 'inbound', 'world', 'bw', 'respond', 'remote', 'email1013', 'crash', 'token', '01112022', 'printer', 'itshop', 'default', 'zbao', 'rewrite', 'fscmfiori', 'weighing', 'sign', 'id', 'ming', 'oai', 'feel', 'emeagb', 'infotype0', 'de', 'apac', 'africa', 'bytes32', 'subkey', 'name22150', 'number3521516', 'solstice', 'information', 'logon', 'sometime', '099', 'name10205', 'inc000001940765', 'name10981', 'filonaro', 'bit', 'arose', 'calls', 'leak', 'backend', 'my2n', 'sucesso', 'rp', 'unavailable', '24', 'enteroport', 'laptopdesktop', 'mmbmimypurchaseview0407', 'my01c1408', 'sathhamy', 'etanc7y32f', 'allowance', 'tc', 'microsoft', 'major', 'recruit', 'marcus', 'licenses', 'nsm', 'de08lo000', 'developer', 'analysis', 'restoration', 'drivers', 'dhcp', 'its', 'name20909', 'apin2111', 'order', 'johannesburg', 'b405dn', 'notebook', 'my01c0814', 'progress', 'behind', 'mapped', 'requester', 'clicked', 'mb90', 'colombia', 'bitlocker', '950', 'cn', 'suhanomy', 'problme', 'ritm0275078', 'epayroll', '3357', 'req0215133', 'escalate', 'name15019', 'summit', '7z', 'pls', 'bbc', 'vous', 'token', 'inbound', 'modifiedproperties', 'rename', 'kb', 'automatic', 'turn', 'power', 'list', 'yall', 'portal', 'inc000002132470', 'name12258', 'recycle', 'wp', 'my01c1660', 'unable', 'remove', 'z0288sd25dnf', 'feel', 'tracking', 'connected', 'name19143', 'dee', 'lowercase', 'florflro', 'pharmspec', 'snp', '3pm', 'controller', 'bwv', 'grouping', 'dns', 'extension', '8095', 'stable', 'coordinating', 'reboot', 'glove', 'blue', 'sporadic', 'bpvn15', 'finder', 'transport', 'index', 'identified', 'sign', 'qty4', 'considerable', 'apmy2bmi', 'siui', '22012021', 'adminroles', 'samband', 'displayed', 'initial', 'purposes', 'ziphboza', 'brought', 'license', 'wv', 'webinars', 'name12731', 'newly', 'addresses', 'replaced', 'brb', 'sap', 'device', 'vodacom', 'supervisor', 'schemata', 'faxes', 'set', 'karuloin', 'apmy2bmi', 'pc', 'disable', 'globalxx2dw', 'admins', 'clarification', 'pingfederate', 'preauthentication', 'owa', 'regards', 'old', 'para', 'giraanec', '3852', 'shows', 'done', 'iae', 'excel', 'itwis000068', 'zqm00qm12', 'cn', 'oasd', 'locked', 'granted', '', 'sarmbain', 'bi', 'ibla', 'my01', 'efarm', 'inc000001993796', 'token', 'apinfiace', 'qcmicro', '792', 'sfg', 'korea', 'schlbjde', 'name16359', 'catalog', 'resetlaptop', 'folder', 'apacmy', 'ndiplugin', 'sap', 'extension', 'kingpo', 'jp', 'muhaohmy', 'sd', 'einwahl', 'en']\n"
          ]
        },
        {
          "name": "stderr",
          "output_type": "stream",
          "text": [
            "<ipython-input-38-a2cccac77b29>:8: SettingWithCopyWarning: \n",
            "A value is trying to be set on a copy of a slice from a DataFrame.\n",
            "Try using .loc[row_indexer,col_indexer] = value instead\n",
            "\n",
            "See the caveats in the documentation: https://pandas.pydata.org/pandas-docs/stable/user_guide/indexing.html#returning-a-view-versus-a-copy\n",
            "  df[column_title]=keywords\n"
          ]
        },
        {
          "name": "stdout",
          "output_type": "stream",
          "text": [
            "['bayan', 'name21889', 'device', 'name21889', 'se', 'hours', 'lotus', 'sharepoint', 'application', 'birth', 'gpc', 'former', 'rules', 'name10974', 'assignment', 'sep', 'driver', 'emails', 'built', 'stucked', 'optional', 'dea', 'nor', 'apply', 'try', 'read', 'access', 'provided', 'enterprisescan', 'entrust', 'console', '700', 'deleted', 'run', 'adaptor', 'vcenter', 'obligations', 'cp', 'block', 'then', 'jammed', 'file', 'scale', 'granted', 'window', 'pdfs', 'low', 'caller', 'try', 'instalacin', 'enter', 'vga', 'unlockreset', 'kb', 'pemit', 'websites', 'nw', 'mfa', 'lotus', 'due', 'feature', 'increased', 'servers', 'am', 'patch', 'website', '2013', 'office', 'sap', 'calendar', 'xe2', 'run', 'internal', 'name14388', 'vn04', 'map', 'ap', 'tm1', 'nur', 'open', 'inform', 'collect', 'acrobat', 'ubmizscalernoninternetaccess', 'remove', 'ipsoftphone', 'name1989', 'space2', 'apau2field', 'service', 'registered', 'version', 'deployed', 'saphana', 'succeeded', 'extend', 'toolkit', 'bdocs', 'notebook', 'brabrb', 'connect', 'shared', 'inc7', 'reinstalled', '3030', 'peg', 'connection', 'expires', 'de13', 'dect', 'campus', 'name9727', 'alnaahdeaa', 'peoples', 'remove', '', 'xxa', 'date', 'avilyaar', 'connect', 'bdocs', 'idm', '710', 'initial', 'migration', 'owner', 'servicecatalog', 'advanced', 'dcinc', 'collect', 'entrance', 'admin', 'steps', 'drive', 'binti', 'oracle', 'phone', 'eclaim', 'restart', 'bmi', 'take', 'black', 'pc', '30062021', 'restablished', 'db', 'passwod', 'reinstalled', 'name19750', 'campus', 'gb', 'bbmzaall', 'nor', 'leaver', 'installation', 'topo', 'local', 'hs2', 'email', 'assign', 'scan', 'ou', 'welcome', 'transport', 'ded', 'email5952mailtoemail5952', 'tried', 'ppt', 'fide', 'oximeter', 'ibrajmmy', 'enter', 'size', 'srde08grant', 'name99', 'afrikaans', '110', 'proceed', 'bcxxxxxdatabrowse', 'manufacturer', 'eckhflde', 'restrictdriverinstallationtoadministrators', 'bmi', '365', 'rules', 'reach', 'name8055', 'readonly', 'exemption', 'b3', 'consultant', 'dmz', 'ebuy', 'activation', '903', 'gaonmico', 'free', 'name11294', 'resolved', 'orders', 'all', 'sync', 'hanmin58', 'name9727', 'logitech', 'very', 'free', 'ext', 'needs', 'post', 'autentication', 'my1k', 'planactivity', 'windows', 'license', 'id', '010phonenumber2032', 'size', 'movie', 'inc000002016506', 'token', 'datawise', 'name8903', 'tidak', 'service', 'notes', 'hord', 'bbmco1033', 'name13468', 'thermal', 'wireless', 'ln', 'bekannt', 'addon', 'granted', 'distribution', 'name31192', 'extension', 'civil', 'p534', 'register', 'nie', 'kernel', 'unlocked', 'server', 'groups', 'office365', 'pasword', 'job', 'name26079', 'drivermanager', 'browser', 'apin', 'apinit', 'https', '192021', 'technologist', 'stuck', 'desk', 'trueview', 'license', 'mfa', 'sharch17', 'hc', 'file', 'agar', 'win10', 'nur', 'license', 'zilcspde', 'impacts', 'connect', '010phonenumber2279', 'intranet', 'thi', 'assigned', 'name20010', 'dhcp', 'added', 'bind1940', 'confirm', 'de08wnlapb', 'my01c1446', '1158', 'infotype0', 'bluescreen', 'file', 'regenerate', 'initiated', 'holidays', 'reboot', 'cluster', 'dataclassification', 'v1909', 'delete', 'dell', 'application', 'name15689', 'comments', 'colombia', 'cruzjabr', 'hold', 'prd', 'delete', 'restarted', 'pbi', 'vtc', 'enterprise', 'advice', 'logistics', 'br54', 'pvt', 'later', 'zmiana', 'days', 'piet', '365', '2012', 'hours', 'extraction', 'venofix', 'closed', 'ru01ewterm001', 'anonym', 'code', 'd06', 'name24655', 'swsus', 'im', 'then', 'ch', 'qty', 'presentation', 'enclosed', 'portable', 'list', 'tiamo', 'pinged', 'community', 'completely', '5661717623', 'idp', 'member', 'br02c0684', 'chanjain', 'enter', 'partners', 'baus0464', 'name8279', 'classic', 'gateways', 'accountpassword', 'bester', 'bbmagv0e', 'corksagb', 'lbpc', 'loc', 'done', 'windows7', 'listen', 'chrome', 'name4410', 'incident', 'purchasing', 'account', 'previous', 'magenta', 'documentation', 'qa32', 'inplace', 'enter', 'pt07', 'rttigheter', 'printers', 'open', 'depleted', 'name8391', 'grayed', 'column', 'disabledjun2021', 'licence', 'inc', 'configured', 'provide', 'mail', 'scm', 'ssms', 'impresora', 'items', 'registartion', '073phonenumber2483', 'ssl', 'able', 'email4523mailtoemail4523', 'hr', 'group', 'handed', 'repair', 'jdk', '10', 'guides', 'aag31', 'registered', 'cn', 'kleimede', 'french', 'name5166', 'name15136', 'confused', 'home', 'team', 'penaseco', 'imprimante', 'reworked', 'zqm52finalrelease', 'sign', 'field', 'admin', 'teams', 'license', 'ie', 'sd', 'dla', 'issued', '24', 'released', 'mat', '365', 'assigning', 'script', 'changed', 'discovery', '046323030', 'corporation', 'cel', '05112021', 'convrev', 'insecure', 'redirected', 'outlook', 'servicesteam', 'reactivate', 'sap', 'noch', 'receives', 'add', 'hold', 'lotus', 'bdocs', 'generate', 'ids', 'workflow', 'succesfully', 'received', 'fields', 'face', 'agilent', 'location', 'kb5005043', 'rhel7', 'script', 'imprimir', 'mrp', 'pic', 'months', 'author', 'hr', 'object', 'my01c0473', 'train', 'name14388', 'new', 'emails', 'phonenumber4556', 'dina', 'list', 'meinst01aa', 'santyabr', 'serveur', 'mails', 'alrwady', 'providertelecom1', 'escalate', 'marksebg', '1092', 'pp', '3561268', 'password', 'printer', 'run', 'expiration', '800', 'kept', 'servicedesk', '7400', 'proceed', 'name8025', 'name8072', 'urlaubsplanner', 'voice', 'baus', 'c3', '365', 'date', 'es04wprint3', 'pinkbede', 'bbmp', 'clients', 'shortcut', '3556616', '45', 'ditscinc0arcnmo', 'za', 'tnsconnect', '3907no', 'ids', 'assigned', 'cong', 'password', '443', 'null', 'affiliates', 'settings', '422', 'od', 'web', 'succeded', 'ypu', '0169636968', 'reinstalled', 'member', 'saw', '2021', '800', 'arg0307mmarzmm00atpreport640', 'login', 'copy', 'installation', 'machines', 'stindach', 'name9727', 'apinhr', 'contracts', 'hr', 'done', 'changing', 'angl', 'attempting', 'sapisy29', 'connect', 'remote', 'guidelines', 'assist', 'bbmagserversws16ts', 'external', 'name11294', 'successfully', 'backup', 'bbmag538', 'name9711', 'ob1', 'policy', 'situation', 'de6', 'locked', 'email2114', 'apacmy', 'fromphonenumber1798020', 'ctrl', 'soft', 'dc', 'done', 'password', 'name1964', 'led', 'dialogue', 'printer', 'conta', 'name23943', 'ad', 'hisher', 'july', 'technical', 'ip', 'temporary', 'phonenumber3415536', 'name1380', 'product', 'my01c0596', 'remove', 'succeeded', 'tiban', 'batch', 'label', 'kb5005043', 'described', 'entsperrt', 'instruction', 'attention', 'reset', 'extend', 'siti', 'enabled', '3535527', 'name27258', 'name27687', 'backbone', 'chanlhmy', 'de08wtango1', 'name2468', 'prior', 'huetmideaa', '', 'apac', 'cprogram', 'payment', 'gettting', 'aa', 'browser', 'group', 'o365', 'install', 'apac', 'configured', 'licensing', '4331', 'cable', 'ec2', '04122021', 'program', 'ipqa', 'occur', 'windows', 'khoodamy', 'email21', 'been', 'anymore', 'workspace', 'inc000002036736', 'website', 'username', 'name842', 'inserting', 'name30722', 'incr', 'connected', 'servicenow', '24', 'customer', 'password', 'old', 'mqtt', 'kb0015180', 'password', 'thean', 'complex', 'name8129', 'name12649', 'voice', 'rosaes', 'e1', 'south', 'packets', 'eva', 'exisiting', 'addressemail1410', 'vergessen', 'affect', 'rollback', 'install', 'hplc099', 'delete', 'servicing', 'name14780', 'pedrleco', 'reset', 'underlying', 'name21889', 'suit', 'dfs', 'my34', 'mutare', 'czech', 'proprietario', '365', 'snp', '128', 'merry', 'solidworks', 'chagend', 'name2878', 'approving', 'holding', 'kb0017852', 'inbound', 'rule', '324', 'bookings', 'name9308', 'inc000001892160', 'sap', 'value', 'one', 'kr32', 'adapter', 'posted', 'approval', 'apin2072', 'name29761', 'name20037', 'notably', 'kb', 'my01c0622', 'explorer', '808', 'mapping', 'ishasumy', 'email1609', 'zpp00pocontrol', 'name11844', 'rsolu', 'online', 'escalate', 'selfreset', 'carte', 'name20357', 'lepas', 'outlook', 'ritm0251672', 'name1269', 'security', 'representative', 'trial', 'register', 'india', 'contacter', 'servicedesk', 'default', 'objectguid', 'name', 'pc', 'reinstalled', 'laptop', 'workspaces', 'reports', 'name22118', 'wurde', 'inc000002056847', 'received', 'bin', 'been', 'sap', 'semase', 'dharvin', 'column', 'name8129', 'purposes', 'connect', '063phonenumber2687', 'deb', 'categories', 'name14388', 'name23863', 'cifed', 'track', 'pe01nap04b00l2', 'server', 'email2909', 'ot', 'free', 'servers', 'storage', '20mbps', 'enable', 'guard', 'breaktime', 'archiving', 'bmi', 'application', 'boms', 'retrieved', 'became', 'my01c1515', 'apin212187', 'production', 'inplace', 'cititor', 'atphonenumber2765748', 'pushalru', 'notera', 'tes', 'essae', 'dell', 'nhs', 'name7825', 'excel', 'pageupdate', 'webinar', 'tq', 'object', 'missing', 'required', 'temporal2021', 'manage', 'set', 'airtime', 'confirmation', 'ude08sapadmin', 'line', 'up', 'rsabbming1', 'manual', 'production', 'disabled', 'first', 'azure', 'maintained', 'libraries', 'name14868', 'delays', 'global', 'account', 'la', 'briomicl', 'wongximy', 'generate', 'thai', 'yeejoemy', 'adobe', 'idet00ger0375', 'junio', 'external', 'oabq', 'been', 'acces', '', 'chugmoin', 'publish', 'mfa', 'fortshut', 'cms', 'ackebous', 'helpme', 'apinpacking', 'jam', 'name20010', 'sdpick', 'keunhee', 'schmaade', 'models', 'sap', 'changed', 'northriding', 'guided', 'newest', 'done', '0365', 'vendor', 'license', 'rmsa', 'magenta', 'down', 'reset']\n",
            "['lepas', 'guide', 'name10755', 'rights', 'que', 'name7927', 'configure', 'name9887', 'via', 'temp', 'fi', 'owner', 'workflow', 'name12458', 'dea', 'vlan0242', 'headset', 'updating', 'wordexcelppt', 'clerk', 'shop', 'label', 'done', 'login', 'password', 'gave', 'news', 'name27761', 'documents', 'intermediate', 'locked', 'securid', 'smartphone', 'scheduled', 'enable', '2008', 'represented', 'doa', 'malicious', 'try', 'printing', 'restored', 'service', 'admin', 'makes', 'advanced', 'yellow', 'connect', 'login', 'desktop', 'installed', 'cable', 'remote', 'refer', 'software', 'pac', 'bbmagwb0', 'device', 'administration', 'knowledgebase', 'meetings', 'site', 'server', 'name9532', 'walk', 'url', 'pro', 'installation', 'how', 'icon', '100', 'version', 'domain', 'softtoken', 'mc', 'drives', 'account', 'session', 'al', 'xfs', 'mobile', 'warranty', 'license', 'name9568', 'already', 'configured', 'ordered', 'name7957', 'krub', 'site', 'notes', 'installation', 'completed', 'full', 'named', 'tb', 'connect', 'agr', 'charging', 'attention', 'cannot', 'appointments', 'printers', 'name8922', 'windows', 'apac', 'connect', 'rsa', 'drucker', 'calls', 'ssid', 'free', 'forgotten', 'leading', 'nur', '', 'f110', 'confirm', 'left', 'inc', 'initiator', 'workflow', '046323030', 'braun', 'firewall', 'bf', 'browserchrome', 'desktops', 'robehach', '2009', 'print', 'connected', 'affected', 'storage', '240', '19c', 'deskphone', 'membership', 'approver', 'services', 'joiner', 'fan', 'connect', '1715', 'everything', 'databases', 'bogosiro', 'correctly', 'removed', 'case', 'bin', 'bahrusers', 'termination', '0365', 'faulting', 'firewall', 'oh', 'standard', 'notes', 'name9727', 'exclude', 'campus', 'session', 'name4873', 'del', 'email2046mailtoemail2046', 'drivers', 'power', 'oc', 'selftest', 'bmi4363', 'connect', 'root', 'priemaco', 'follow', 'change', 'jainks17', 'bmi', 'assignment', 'outage', 'name18503', 'notably', 'updates', '12', 'email2474', 'refresh', 'caution', 'deleted', 'email446', 'my7y', 'fwcr', 'bmi202', 'wired', 'ritm0281508', '206', 'iacoagco', 'name9727', 'enter', 'name12258', 'order', 'users', 'enabled', 'idmohhmmmy', 'ssc', 'usb', 'force', 'name9727', 'communicator', 'name8279', 'name7908', 'token', 'my3f', 'plans', 'application', 'name337', 'qc', '253', 'volume', 'play', 'mod', 'action', 'pulling', 'set', 'pdf', 'password', 'lotus', 'internal', 'br02c0644', 'solidworks', 'name17931', 'adapter', 'crearea', 'altes', 'addin', 'access', '68', 'archiv', 'internal', 'team', 'regisztrlva', 'smartphone', 'brakujcy', 'cores', 'reach', 'ip', 'escalate', 'o365', 'windowsaxhealth', '11', 'not', 'mapunmap', 'editing', 'apinproduction', 'fgs', 'checkmk', 'loading', 'mya', 'au12', 'salr87011964', 'license', 'o365', 'ssc', 'name23402', 'pharma', 'documents', 's01185my', '19h2', 'kb0016117', 'account', 'then', 'smtp', 'cmd', 'dongle', 'login', 'ap', 'name414', 'name12962', 'dns', 'tothb1hu', 'updated', 'binti', 'de08wnlsa', 'group', '205', 'erno', 'kb0018201', 'password', 'uml', 'ike', 'stream', 'connection', 'sehr', 'loginname', 'upgrade', 'bbalt0104', 'sn', 'via', 'approval', 'employee', 'license', 'ignobear', 'book', 'omit', 'ras', 'kb', 'premium', 'video', 'ghx', 'servicedesk', 'labels', 'print', 'instrument', 'joiner', 'drukarka', 'orderer', 'sonpark', 'home', 'sqlserver', 'apac', 'transferred', 'my13', 'nicht', 'removed', 'strust', '0101', 'd05', 'windows', 'automatic', 'portal', 'login', 'cet', 'price', 'learning', 'through', 'auditorium', 'second', 'reset', 'nonoffice', 'vmware', 'posted', '7623', 'potentially', 'mfa', 'br02c0612', 'downloaded', 'installed', 'pi', 'au02c0089', 'olivdsbr', 'plm', 'correctly', 'application', 'siebelde', 'full', 'licences', 'services', 'bms', 'siderumy', 'far', 'sepace2d301103f', 'helped', 'name20386', 'ecuador', 'medium', 'abke', 'to', 'cyan', 'their', 'costluit', 'upgrade', 'dcprinter', 'nu', 'notera', 'updates', 'attachments', 'campus', 'either', 'save', 'txt', '3561649', 'added', 'hat', 'setup', 'ecuador2021', 'lotus', 'wydzia', 'database', 'asked', 'owa', 'installed', 'cleared', 'username', 'locked', 'name82', 'ad', 'their', 'victmein', 'crack', 'oracle', 'password', 'mapping', 'share', 'notes', 'comments', 'removed', 'english', 'name25228', 'tq', 'es', 'name0', 'name8922', 'morafeco', 'si', 'licensed', 'de08anfrage', 'error', 'task', 'install', 'step', 'software', 'explorer', 'laptop', 'konto', 'up', 'hanoivietnam', 'inbox', 'microsoft', 'refresh', 'name9727', 'mfa', 'answer', 'shared', 'ithelpdesk', 'targets', '9phonenumber257375', '02102021', 'imported', 'analyzed', 'pde', 'my01', 'name12258', 'account', 'how', 'salesforce', 'less', 'into', 'sync', 'created', 'bitte', 'item', 'bipp', 'vimphonenumber7878', 'kann', 'serviceportal', 'materials', 'shifted', 'ina4', 'wisxx0039', 'restrictdriverinstallationtoadministrators', 'removed', 'xxxxxxch', 'connected', 'rights', 'profile', 'slider', 'unavailable', 'sihat', 'copa', 'my01c1479', 'enable', 'add', 'users', 'months', 'phonenumber4547', 'edipartner', 'users', 'goercrdeas', 'purianbr', 'au', 'inbox', 'pobllaes', 'searchfield', 'ras', 'espt', 'arsenal', 'module', 'delete', 'portal', 'impressora', 'books', 'senior', 'estimated', 'ctemp', 'win10', 'notebook', 'mobejese', 'woo', 'buildings', 'name31631', 'generate', 'note', 'brief', 'later', 'confirm', 'wprint0', 'forgotten', 'tracking', 'defined', 'software', 'name11711', 'zdvsswordchecker', 'exited', 'moving', 'srv55795b6b5610', 'name2935', 'pvt', 'primary', 'duoc', 'name280', 'traffic', 'addadgroupmember', 'assessment', 'preview', 'cet', 'department', 'ms', 'van', 'clue', 'revisarlo', 'correctly', 'co', 'chong', 'installed', 'estimated', 'dvp', 'extend', 'folder', '2020', 'clockwatch', 'name16816', 'fost', 'reinstalled', 'installation', '23', 'ipad', 'renewed', 'workitem', 'offices', 'remove', 'password', 'arbanasu', 'apacmy', 'my01c0754', 'ru01ewterm002', 'note', 'with', 'portalusers', 'name14744', 'name11660', 'globalxx2bis', 'faster', 'backup', 'printaurus', 'prd', 'name13785', 'email7530mailtoemail7530', 'my01lisepsn02', '0910', 'portuguese', 'rsa', '6046324810', 'send', 'then', 'tg', 'central', 'threads', 'usp7', 'desbloqueio', 'name9176', 'de6', 'agreements', 'perery', 'plato', 'share', 'small', 'intended', 'name15571', 'approved', 'name26331', 'ortipaco', 'namemssql', 'vendor', '313', 'mini', 'b405dn', 'jeder', 'entsperren', 'device', 'entered', 'de', 'limgohmy', 'infotype0', 'subject', '3562285', 'name8773', 'bbmaghelmaracza', 'assumption', 'folder', 'between', 'website', 'january', 'unexpired', '', 'bind', 'copy', 'coder', 'uddate', 'nastpuje', 'ie', 'employee', 'comments', 'campus', 'o365', 'laptop', 'server', '3443', 'pos', 'entry', 'usr', 'recognized', 'name99', 'solutions', 'careful', 'nouahamy', 'import', 'has', 'default', 'homeoffice', 'connector', 'clicked', 'citrix', 'browser', 'saved', 'active', 'backups', 'wants', 'successful', 'anymore', 'phonenumber22418', 'webmail', 'sbx', 'stringvalue', 'kb0015182', 'vermshin', 'visioproj', 'current', 'jp', 'apacmy', 'nurul', 'reset', 'second', '010phonenumber2502tel272001020222203067', 'loss', 'reapplied', 'singlesignon', 'update', 'incompliant', 'synchronize', '7am', 'addin', 'agilent', 'power', 'scada', 'name21571', 'purbst', 'done', 'five', 'resolving', 'tips', 'rebooted', 'my7j', 'de08wprint20', 'pin', 'expirou', 'home', 'bra', 'briefly', 'mmbmimypurchview0407', 'update', 'samoma01', 'manually', 'name27108', 'bbmagtc309', 'req0213039', '700', 'manpowergroup', 'target', 'itis', 'organizer', 'meddra', '147226', 'computerhkeyclassesroottypelib2df8d04c5bfa101bbde500aa0044de520win64', 'bmi4514', 'name29026', 'ethernet', 'wf', 'approver', 'name335', 'husaadmy', 'south', 'ntprinterspointandprint', 'drive', 'helpsoft', 'lernportal', 'saving', 'lbb89', 'phonenumber1134', 'name9040', 'transaccion', 'deb', 'requesttype', 'delays', 'joiner', 'sap', 'passe', 'req0176766approval', 'bayan', 'signatures', 'req0173322', 'pls', 'domain', 'link', 'zip', 'object', 'employee', 'mybbraun', 'advice', 'anymore', 'propertynames', 'old', 'name13929', 'correctly', 'earphone', 'report', 'msteams', 'forget', 'service', 'inc000001973733', 'keys', 'keys', 'has', 'password', 'kata', 'disabledjun2021', 'link', 'extension', 'sn', 'password', '500min', 'necessary', 'requirement', 'gorocaie', 'name30597', 'utf8', 'button', 'switchport', 'rules', 'bbraunapitall', 'register', '0365', 'profiles', 'archiving', 'ficus', 'assisted', 'sister', 'perutamy', 'uncontrolled', 'vn50', 'add', 'inc000001945904', 'card', 'root', 'name11010s', 'apin2138', 'down', 'upgrade', 'cititorul', 'nicoalro', 'rights', 'dina', 'displaying', 'allinone', 'sn', 'name37', 'name8617', 'office', 'potassium', 'proxy', 'hp', 'computer', 'mail', 'troca', 'name8279', 'find', 'up', 'finds', 'fulfilled', 'rigejo01', 'hse', 'starting', 'administrator', 'install', 'agree', 'global', 'escalate', 'multiple', 'j1ab', 'upgraded', 'mediamanager', 'estimated', 'caller', 'record', 'farredes', 'pls', 'incmy01bmi4565', 'wizard', 'solm', 'np', 'zuweisnut', 'sopesprs000369', 'bra', 'note', 'phxx', 'use', 'phonenumber712', '', 'singsdin', 'singlesentence', 'ar', 'turn', 'asset', 'viewing', 'ptbb', 'vidya', 'stripped', 'move', '3pl', 'chokeukr', 'scha35de', 'name942', '750', 'reseted', 'disconencted', 'afterwards', 'plugin', 'password', 'free', 'vendorphonenumber3962', 'assigned', 'effect', 'my72', 'topology', 'de']\n",
            "['11900', 'mya', 'hub', 'permissions', 'favor', 'name9619', 'conformity', 'resync', 'users', 'password', 'trading', 'members', 'implementation', 'approve', 'transaction', 'spantree2unblockconsistport', 'speakers', '20130365proplus', 'assembly', 'processable', 'installed', 'barcode', 'siti', 'name32049', 'login', 'caps', 'recently', 'w10', 'usb', 'keyfile', 'denied', 'active', 'qr', 'program', 'activated', 'deleted', 'implications', 'changing', 'conflict', 'login', 'roller', 'recover', 'weight', 'serviceuser', 'tests', 'plugin', 'name8290', 'closed', 'id', '0457', 'connect', 'screens', 'connect', 'knowledgebase', 'installation', 'government', 'platform', 'starting', 'shop', 'didnt', 'option', 'gb', 'from', 'tomorrow', 'supply', 'diff', 'install', 'microsoft', 'account', 'invitation', 'de9', 'failed', 'ip', 'hard', 'bbvn06', 'sharedrive', 'siti', 'profile', 'nurul', 'sap', 'reset', 'cost', 'signin', 'cess', 'users', 'configure', 'name642', 'chromium', 'desk', 'scheduler', 'with', 'inccheckpoint', 'bind4134', 'host', 'in01wetssql1', 'expand', 'reinstalled', 'version', 'charge', 'name20389', 'password', 'name8283', 'installation', 'video', 'reset', 'o365', 'hour', '31122021', 'treiber', 'unit', 'name9016', 'above', 'moham9myaa', 'worlds', 'nor', '', 'codes', 'account', 'username', 'cannot', 'stopped', 'name15073', 'ithelpdesk', 'cost', 'ww', 'b12', 'space', 'reference', 'connect', 'mac', 'front', 'connect', 'screenshot', 'clear', 'removed', 'dprapid', 'mac', 'purpose', 'approval', 'cyan', 'apac', 'power', 'cannot', 'groups', 'connected', 'dpmypdr', 'incmy', 'article', 'owners', 'button', '50gb', 'email15714', 'siti', 'environment', 'shop', 'connect', 'apmy2bmi', 'short', 'with', 'advance', 'detected', '3627', 'end', 'name218', 'erec', 'email12513mailtoemail12513', 'usb', 'template', '5967', 'kits', 'temporal', 'cannot', 'prd', 'grant', 'resolved', 'default', 'einvoice', 'drive', 'bcbbmdeauthview', 'activities', 'bondbrch', 'hklmsoftwarepoliciesmicrosoftwindows', 'proceed', 'joiner', 'smb', 'unlocked', 'shopping', 'reminder', 'email8671', 'my1i', 'fwrcr', 'bmi201', 'head', 'rodanapt', 'configuration', 'mulendaacpbbraun', 'above', 'connect', 'already', 'reactivate', 'do', 'person', 'jusomomy', 'iblaco', 'mouses', 'renew', 'above', 'mac', 'connection', 'name9845', 'pin', 'print', 'ao', 'via', '365', 'hptlc', 'hoogland', 'datastore', 'mov', 'ticket', 'pls', '604phonenumber5299', 'able', 'configurada', 'best', 'etp', 'of', 'equiment', 'name10156', 'printers', 'informations', 'license', 'ist', 'licence', 'wp', 'bmih1', 'mails', 'termination', 'networking', '671', 'mobile', 'zalogowaniu', 'mar', 'refresh', 'vlan140', 'globalxx2ps', 'hired', 'abubyamy', 'agent', 'nor', 'bios', 'document', 'apinqa', 'gate', 'ansible', 'data', 'myid', 'printer', 'tcode', 'licensing', 'wang', 'ibla', 'applicant', 'hierarchy', 'email6556mailtoemail6556', 's01195my', 'upgrading', 'siti', 'ad', 'try', 'isphonenumber297087', 'detect', 'bundle', 'profile', 'nguyen', 'employee', 'nzbnphonenumber1948713389', 'ips', 'mezeathu', 'bind1946', 'remove', 'de08wnldv', 'gbbmaggposerversdisablescreensaver', 'utc', 'nurul', 'bbmaga399', 'lotus', 'location', 'peer', 'national', '100', 'act', 'region', 'cpus', 'us38c0334', 'apmy1bms', 'users', 'item', 'name81', 'feel', 'username', 'enabled', 'spanned', 'chiacasg', 'putty', 'license', 'board', 'invoic', 'ras', 'handover', 'configure', 'india', 'apac', 'hasa', 'itemsmy', '086phonenumber2575', 'hours', 'pagefile', 'later', 'journal', 'my1b', 'werden', 'name32271', 'deb', '0149', 'dvg', 'changed', 'patched', 'service', 'id', 'script', 'status', 'ems', 'enter', 'training', 'wf', 'uv', 'name9061', 'fujitsuserver', 'workflow', '49', 'name17240', 'ibla', 'br02c0712', 'music', 'connect', 'copy', 'baus0458', 'serrsa06', 'reformat', 'name8071', 'caller', 'name25823', 'nsrdasv', 'hernndez', 'ipca', 'ping', 'window', 'brand', 'opponent', 'ims', 'account', 'mobile', 'transmission', 'ad', 'add', 'assign', 'na', 'name27729', 'field', 'plxy', 'aa01wterm001', 'samband', 'installation', 'outlooh', 'cartridge', 'google', 'asks', 'hospitals', '3562285', 'license', 'mehr', 'clef', 'name30797', 'registered', 'name15549', 'de08wmesdb03', 'enter', 'inbox', 'configuration', 'acwin', 'mailbox', 'same', 'icm126319218', 'disabled', 'plus', 'mainboard', 'quotation', '32bit', 'provide', 'map', 'infsdealldownlldownde0101', 'should', 'employee', 'these', 'angebot', 'name24636', 'campus', 'chrome', 'hours', 'groupteam', 'loaileco', 'printer', 'req0161189', 'by', 'unfrozen', 'bmi', 'update', 'connect', 'bbmus01fq', 'ritm0218016', 'bios', 'name5825', '937', 'protect', 'paid', 'google', 'apac', 'name7896', 'add', 'kbs', 'atbbmaga8pkgtest', 'inquiries', 'image', 'trade', 'backup', 'ewm', 'topics', 'clients', 'hod', 'assigned', 'maternity', 'shortly', 'reason', 'than', 'cs', 'enabled', 'registered', 'document', 'record', 'pvt', 'coder', 'signing', 'name7812', 'sk01', 'ge', 'data', 'rasuser', 'hklmsoftwarepoliciesmicrosoftwindows', 'server', 'name14388', 'wants', 'name8451', 'name21388', 'option', 'repositories', 'done', 'mentioned', 'my01c1749', 'globalr', '1215', 'stick', 'space', 'phonenumber4525', 'spara', 'licencia', 'name8035', 'freial06', 'connexion', 'sent', 'rsa', 'optic', 'proceed', 'groebe01', 'partial', 'name26675', '20210705', 'inactive', 'atualizar', 'note', 'receivable', 'online', 'former', 'apin2127', 'campus', 'inc000001971391', 'name10449', 'configuration', 'inc', 'account', 'take', 'passsettings', 'o365', 'account', 'actions', 'nitin', 'pods', 'reportedopened', 'log', 'name11712', '49', 'archivelog', 'candice', 'ora12170', '3909jelamumy', 'instrument', 'exchange', 'thiet', 'submitting', 'de08wbtrust02', 'script', 'designated', 'changed', 'script', 'oabvx', 'apps', 'difficult', 'email12475', 'podeis', 'article', 'assigning', 'email18531mailtoemail18531', 'rc', 'online', 'cancelation', 'done', 'run', 'instalation', 'kings', 'delete', 'extension', 'engine', 'browse', 'stay', 'kumralin', '0365', 'name8049', 'single', 'eur', 'cannot', 'deleted', 'apac', 'my01c0161', 'de03mwfile1', 'joiner', 'be', 'added', 'nsrmmd', 'idp', 'servlet', 'occur', 'build', 'printers', 'firewall', 'enabled', 'him', 'windows', '0551', 'indesign', 'invalid', '645', 'password', 'try', 'groups', 'netapp', 'policy', 'srde08c0682', 'desbloqueado', 'email490', 'dehoyn06', 'kb0016461', 'perercde', 'e1ns', 'yn', 'inc000001945361', 'mailagent', 'why', 'regphonenumber109601922', 'tes', 'lde08mdmbyodtw', '01192021', 'maintained', 'connector', 'references', 'restrictdriverinstallationtoadministrators', 'pause', 'zugang', 'starting', 'name8541', 'password', 'subrky', 'nor', 'rules', 'fatin', 'name3016', 'usernamae', 'stable', 'oqcc', 'select', 'glahsies', 'versions', 'email745', '', 'joiner', 'de08wterm121', 'vimphonenumber3785', 'pintoken', 'wejciu', 'goal', 'reply', 'apin', 'apmy2bmi', 'optional', 'apin2151pc', 'protocol', 'phone', 'cord', '128', 'name14744', 'dlink', 'apinqc', 'emailinternal', 'tas', 'gohhuimy', 'xxa', 'admin', 'joiner', 'providertelecom1', 'gateways', 'confluence', 'rihaco', 'project', 'synchronised', 'groups', '04202021', 'asked', 'locked', 'hours', 'partner', 'their', 'systems', 'option', 'upbanner', 'ranjarin', 'charging', 'email7260mailtoemail7260', 'extension', 'apac', 'ap', 'windows', 'o365', '3tel2720712039720075132', 'statistics', 'elevated', 'yesterdays', 'done', 'scrapped', 'ebuy', '16th', 'repushed', '213', 'software', 'server', '6046329161', 'single', 'emeagb', 'cache', 'name24587', 'middle', 'folders', '6046323698', 'nown', 'tokens', 'name14332', 'hours', 'name8179', 'sans', 'ppmy10', '7410', 'dotra1vn', 'changed', 'name27107', 'bmi0069tc', 'my01c0611', 'name9159', 'firstname', 'connections', 'name6896', 'oem', 'dtrapid', '653300', 'registry', 'bmi0064tc', 'kr22', 'dns', 'blocked', 'ritm0238923', 'teams', '1oo', '072phonenumber6478', 'hklmsoftwarepoliciesmicrosoftwindows', 'article', 'my01c1224', 'compliance', 'taskbar', 'folders', 'abdufemy', 'links', 'vl22n', 'activity', 'key', '800', 'apac', '600am', 'le', 'ritm0241240', '11900', '84', 'req0173321', 'fulfilled', 'troubleshoot', 'brochure', 'admservername', 'proceed', 'ltd', 'solves', 'perform', 'apac', 'objectclass', 'force', 'my01c1815', 'article', 'onoff', 'capacity', 'participation', 'password', 'name31270', 'inc000001877370', 'services', 'registry', 'user', 'provide', 'password', 'rajedhmy', '00', 'free', 'polarimeter', 'cannot', '100min', 'daq', 'four', 'authentication', 'inc000001893399', 'fr02', 'scanners', 'gigabitethernet1048', 'removed', 'groupbbmprcaestierii', 'forward', 'name9727', 'print', 'nfsshare', 'wan', 'field', 'iphone7', '0174425907', 'central', 'vn07', 'contract', 'excepted', 'colleaguesi', 'ras', 'my01c0957', 'apin2184', 'advanced', '28sprint2420210223', 'ro01c0233', 'unexpectedly', 'buskjonl', 'rttigheter', 'wi', 'desktop', 'configure', 'ngema', 'name82', 'star', 'substance', 'name8260', 'scanners', 'citrix', 'lotus', 'requiredprinter', 'deh001', 'reformat', 'instruction', 'cell', 'eetf', 'saindaus', 'ref', 'manual', 'combwpower', 'checkpoint', 'maximum', 'name10656', '365', '16', 'zfi30voffnumid', 'algorithm', 'netscaler', '800', 'closed', 'of', 'bra', 'anamaria', '4744', 'says', 'maharathaa', 'name8382', 'ausschalten', 'canceling', 'cantlico', 'take', 'dept', 'was', 'appreing', '', 'password12', 'countrypurposedivisionothers', 'name8698', 'my01c1317', 'update', 'bcxxxxxtabledispfunc', 'add', 'network', 'paper', 'servidores', 'pack', 'jabijeph', 'schmh5de', 'academy', 'link', 'de03', 'bbmro01', 'put', 'installation', 'provide', 'name9727', 'vendorphonenumber4400', 'o365', 'gtc', 'my56', 'closed', 'phonenumber6063336']\n",
            "['name22042', 'resetunlock', 'mobile', 'add', 'para', 'account', 'note', 'synchronize', 'access', 'sihat', 'deb', 'notice', 'push', 'lock', 'deb', 'compatibility', 'headphone', 'lanwifivpn', 'open', 'ap', 'manager', 'locl', 'ap', 'leave', 'id', 'fa', 'confluenceusers', 'kb0017536', 'unit', 'third', 'cant', 'groups', 'token', 'dea', 'network', 'fw', 'disclose', 'clm', 'received', 'id', 'repair', 'sharepoint', '4633', 'name728', 'confirms', 'acrobat', 'collect', 'cannot', 'again', '0458', 'cannot', 'laptop', 'console', 'need', 'portal', 'page', 'channel', 'manual', 'notes', 'related', 'name8922', 'departmental', 'hosts', 'voicemail', 'cable', 'assign', 'bundle', 'name27872', 'password', 'meetings', 'addon', 'push', 'names', 'rsa', 'fill', 'access', 'sap', 'desktop', 'nor', '2021', 'nguyh3vn', 'hire', 'quotation', 'kb0016435', 'no', 'macbook', 'licence', 'applications', 'level', 'by', 'should', 'software', 'upgrade', 'nsrsapsv', '01272021', 'desired', 'rebooted', 'aim', 'name8824', 'name7896', 'name', 'appointment', 'home', 'drivers', 'administration', '24', 'installer', 'name14388', 'im', 'name12984', 'bmi', 'assistance', 'hlodlaroaa', 'pharmaceutical', 'team', '', 'payment', 'binti', 'info', 'password', 'documents', 'role', 'optional', 'text', 'galaxy', 'name10464', 'accessapproval', 'member', 'displays', 'name49', 'technical', 'remote', 'creation', 'files', 'enabled', 'de08wlocsa04', 'ownership', 'o365', 'wf', 'assign', 'possible', 'reimage', 'password', 'rules', 'force', 'my01wsql01', 'montjegb', 'longer', 'b8', 'replacement', 'enough', 'email15713', 'name13790', 'raised', 'standard', 'endpoint', 'forward', 'name1834', 'should', 'lic', 'profiler', 'ipqc', 'apacmy', 'reopened', 'creation', 'email9615mailtoemail9615', 'pint', 'addins', '50307', 'comments', 'educate', 'password', 'space', 'srde08citrix', 'up', 'ess', 'sengso17', 'accessconnect', 'name15884', 'availability', 'kisslaro', 'ltsb', 'manage', 'inbound', 'mailweiterleitung', 'possible', 'category', 'space', 'why', 'my3i', 'consultants', 'bmi80', 'meetings', 'name22109', 'configure', 'idm', 'assistance', 'muss', 'ticket', 'webimport', 'request', 'directory', 'adumy', 'ibla', 'scroll', 'name10755', 'assistance', 'tftp', 'network', 'name2044', 'username', 'updated', 'aggregation', 'users', 'name8969', 'agilent', '41', 'bbmag003', 'maker', 'srde08', 'add', 'darren', 'name30303', 'reader', 'completed', 'etr', 'de13deletion', 'bbmco1125', 'workstation', 'dpd', 'connect', 'pentru', 'reset', 'starterprofessional', 'was', 'bmioae', 'bbmaghi', 'call', 'construction', 'name11294', 'previous', 'uruchamia', 'increased', 'page', 'filesystem', '1015', '365', 'dahazamy', 'weekly', 'nurul', 'osd', 'documents', 'qc', 'shifting', 'prd', '29122021', 'mya100', 'cancel', 'epf', 'activated', 'comments', 'cet', 'sharchin', 'anaesthesia', 'uploading', 's01193my', 'x260', 'dont', 'name2132', 'login', 'ticketnumber', 'wireless', '27', 'zscaler', 'name10319', 'comments', '563', 'pac', 'assignment', 'off', 'account', 'deleted', 'screen', 'channels', 'generate', 'de13c0240', 'new', 'detailed', 'downtime', 'chuseok', 'vpneinwahl', 'danke', 'ownerdepartment', 'escalate', 'my01c0636', 'hp', 'reset', 'structure', 'name167', 'name8129', 'info', 'sync', 'cv', 'deleted', 'seesion', 'name15283', 'camera', 'nl', 'perform', 'printed', 'br02c0667', 'ad', '12', 'pl01c5179', 'specified', 'e10', 'external', 'name2526', 'o365', 'fi', 'my29', 'ibib', 'pk01wprint01', 'libraries', '0407', 'de6', 'name9720', 'manual', 'loged', 'again', 'ch03', 'l2', 'online', 'application', 'crestron', 'problem', 'apinqc', 'ip', 'fujitsu', 'document', 'f3', 'tcp', 'pt', 'br02c0090', 'moving', 'caller', 'edi', 'baus0445', 'conche06', 'font', 'ping', 'via', 'suzelle', 'sybase', 'laboratrios', 'apinhr', '143559', 'terminate', 'ventilation', 'dwiku', '24', 'cost', 'colombia', 'fr01', 'change', '', 'hi', 'reset', 'inc000001966134', 'mesiniaga', 'plxs', 'name11189', 'spara', 'name303', 'loglevel', 'my35', 'chrome', 'greyed', 'name25802', 'from', 'email1629', 'initiales', 'phone', 'melsungen2021', 'notes', 'rejonowy', 'de08wmesdb02', 'pide', 'outlook', 'configure', '253', 'used', 'again', 'refmsg15800463', 'sucesso', '2012', 'apin1033', 'email6', 'efp', 'name10755', 'informations', 'heidstde', 'with', 'name414', 'group', 'vorstand', 'wiring', 'servicesteam', 'reopened', 'used', 'tutorial', 'bellelco', 'pe', 'finetuned', 'customised', 'singlesignonerror', 'assign', 'provided', 'name8055', 'taskorder', 'programmsbrowser', 'repair', 'resetok', 'kind', 'improve', 'workflows', 'essmss', 'o365', 'member', 'br', 'cloud', 'atbbmag303swd', 'sap', 'native', 'foreign', 'completed', 'transport', 'prio', 'decommissioned', 'submit', 'badge', 'left', 'sal', 'over', 'windows', 'reload', 'person', 'notes', 'aneurysm', 'nn586z', 'instrument', 'restart', 'change', 'requestid', 'solutions', 'room', 'bms', 'name', 'ltsb', 'excel', 'ch', 'buen', 'name7812', 'tes', 'work', 'external', 'didnt', 'pbs', 'bmi1550', 'username', 'active', 'thanks', 'box', 'idphonenumber4546', 'ytterligare', 'name18745', 'deblocat', 'todpaubr', 'chiffres', 'inc000002087048', 'creating', 'fiber', 'full', 'duarjopt', '51', 'wbs', '3557403', 'isman1my', 'update', 'bbmaghcbbmagbbraun', 'toolshop', 'issues', 'mailboxes', 'apin1061', 'power', 'yatesach', 'reactivate', 'fixed', 'incteams', 'nur', 'name24', 'de08c2194', 'hours', '365', 'impresoras', 'salesforce', 'name11001', 'lowermost', 'reinstalled', 'norfarahin', 'checkercheckdate', 'backup', 'issued', 'cor2', 'yahansmy', 'india', 'ms', 'name16970', 'attending', 'inc000001983517', 'email1073', 'proprietary', 'pane', 'mfa', 'oabjp', 'install', 'secure', 'about', 'democsjp', 'longer', 'name9727', 'inc000002130271', 'installer', 'issues', 'qa33', 'req0207997', 'cannot', 'reran', 'norton', 'book', 'free', 'search', 'install', 'hours', 'dasvipin', 'salesforce', 'ficmsdelete', 'success', 'binti', 'p653', 'name8279', 'devise', 'c1928', 'radovade', 'take', '', 'further', '129292nsrsqlsv', 'tomorrow', 'name22317', 'solutions', 'edge', 'known', 'performance', 'kb0014091', 'external', 'frequently', '0485', 'spanish', 'iphone', 'dcsetup', 'sent', 'login', 'vandj1za', 'freezes', 'signage', 'completed', 'inicio', '3510584', 'hr', 'affiliate', 'completed', 'bay', 'article', 'role', 'overtake', 'inc000001747050', 'lebuh', 'attendees', 'useremail2675', 'tue', 'key', 'serials', 'text', 'hklmsoftwarepoliciesmicrosoftwindows', 'screen', 'passwort', 'manual', 'together', 'has', 'ahmdndmy', 'de6infotype0', 'name3208', 'it', 'excess', 'assist', 'bigger', 'department', 'eltimadeaa', 'name22248', 'news', 'name24198', '', 'o365', 'aa01wterm003p', 'vimphonenumber3149', 'name8889', 'unocked', 'gmail', 'apte', 'employee', 'services', 'inform', 'apin2161', 'bbmag9165', 'cisco', 'campus', 'fico', 'host', 'plugin', 'dot', 'impacts', 'forget', 'update', 'email4330', 'again', 'apac', 'optic', 'warehouse', 'malicious', 'rihacoaa', 'handle', 'name26384', 'userid', 'db', 'enter', 'errorlogout', 'email408', 'funktion', 'unlock', 'decommissioned', 'options', 'recivecalljoin', 'ranaviin', '06194', 'name20385', 'free', 'provide', 'date', 'per', 'assigned', 'extxappledatadetectors1', 'ttl61', 'print', 'name11659', 'system', 'classic', 'sharepoint', 'promote', 'software', '214', 'uninstall', 'supporting', 'chanmnmy', 'lifecycle', 'emeaie', 'identified', 'called', 'alphanumeric', 'bbmag36deptsplhr', 'my01c1321', 'instalada', 'expired', 'ns', 'used', 'apo', 'barcodes', 'pulau', '20h2', 'ud', 'etr', 'email646mailtoemail646', 'bmi0068tc', 'apac', 'nonrelated', 'her', 'several', 'requestor', 'assisted', 'dprapid', 'fahr', 'sapdel', 'bmi4638', 'authorize', 'physical', 'status', 'req0201290', 'apin1083', 'eyelation', 'cell', 'ltsb', 'long', 'my01c1526', 'healthcare', 'asm', 'lbb6046', 'member', 'email1598', 'name981', 'name12463', 'signale', 'estimated', 'rrv', '200pm', 'rsolu', '1634', '10810', 'accures', 'ritm0275517', 'crate', 'present', 'descargar', 'name10471', 'added', 'disabled', 'disappears', 'charge', 'o365', 'shortname', 'ritm0261973', 'my01c0762', 'longer', 'bios', 'pbi', 'wo', 'configured', 'portallogout', 'inc000001890675', 'reentered', 'name657', 'caller', 'bookmark', 'laluan', 'rajendran', 'vkorgwerkspstyv', 'name9727', 'creation', 'my93', '943175299121', 'aumy01fi01', 'length', 'denied', 'rdcps', 'model', 'app', 'co', '2008', 'bbmprch9', 'ip', 'above', 'printserver', 'misconfiguration', 'logged', 'gpupdate', 'come', 'name1568', 'freeze', 'fulfilled', 'guided', 'name19499', 'chlhbwa2xv', 'cause', 'passcode', 'laptop', 'inc000001945640', '27sprint2320201207', 'ro15c0095', 'name13666', 'barrseco', 'ytterligare', 'sub', 'horizon', 'laptop', 'bonginkosi', 'inside', 'ms', 'advanc', 'deny', 'jusprint', 'name8000', 'registered', 'cartucho', 'sap', 'showup', 'ras', 'trust', 'approval', 'hel', '7081889', 'device', 'okubkojp', 'fix', 'accounts', 'abduhumy', 'location', 'utc', '2022', 'works', 'entry', 'online', 'by', 'caller', 'tardes', 'torrnipy', 'name5436', 'much', 'name12989', 'gee', 'hertmade', 'canceled', 'transaction', 'joiner', 'district', 'user', '3563360', '', 'windows', 'paragraph', 'granting', 'waited', 'resolved', 'assign', 'ad', 'drl', 'apinrd', '903', 'vl31n', 'inc000001844105', 'schnayde', 'hc', 'account', 'reset', 'plhr', 'pc', 'br02c0837', 'user', 'above', 'statement', 'comments', '20211108', 'yellow', 'tc', '6046321039']\n"
          ]
        },
        {
          "data": {
            "text/html": [
              "\n",
              "  <div id=\"df-a1ff1881-23d2-4d52-88a5-24162db019ec\">\n",
              "    <div class=\"colab-df-container\">\n",
              "      <div>\n",
              "<style scoped>\n",
              "    .dataframe tbody tr th:only-of-type {\n",
              "        vertical-align: middle;\n",
              "    }\n",
              "\n",
              "    .dataframe tbody tr th {\n",
              "        vertical-align: top;\n",
              "    }\n",
              "\n",
              "    .dataframe thead th {\n",
              "        text-align: right;\n",
              "    }\n",
              "</style>\n",
              "<table border=\"1\" class=\"dataframe\">\n",
              "  <thead>\n",
              "    <tr style=\"text-align: right;\">\n",
              "      <th></th>\n",
              "      <th>Unnamed: 0</th>\n",
              "      <th>0</th>\n",
              "      <th>1</th>\n",
              "      <th>2</th>\n",
              "      <th>3</th>\n",
              "      <th>4</th>\n",
              "      <th>5</th>\n",
              "      <th>6</th>\n",
              "      <th>7</th>\n",
              "      <th>8</th>\n",
              "      <th>...</th>\n",
              "      <th>keyword_0</th>\n",
              "      <th>keyword_1</th>\n",
              "      <th>keyword_2</th>\n",
              "      <th>keyword_3</th>\n",
              "      <th>keyword_4</th>\n",
              "      <th>keyword_5</th>\n",
              "      <th>keyword_6</th>\n",
              "      <th>keyword_7</th>\n",
              "      <th>keyword_8</th>\n",
              "      <th>keyword_9</th>\n",
              "    </tr>\n",
              "  </thead>\n",
              "  <tbody>\n",
              "    <tr>\n",
              "      <th>2</th>\n",
              "      <td>1</td>\n",
              "      <td>('pulau', 0.005680438824211229)</td>\n",
              "      <td>('pig', 0.005677890594610601)</td>\n",
              "      <td>('sales', 0.004923141302081199)</td>\n",
              "      <td>('perindustrian', 0.004730843714569534)</td>\n",
              "      <td>('taman', 0.004730249587641317)</td>\n",
              "      <td>('cc', 0.004720358959066131)</td>\n",
              "      <td>('bayan', 0.004715041340763676)</td>\n",
              "      <td>('lepas', 0.004714752436996077)</td>\n",
              "      <td>('11900', 0.004709811075260522)</td>\n",
              "      <td>...</td>\n",
              "      <td>pulau</td>\n",
              "      <td>pig</td>\n",
              "      <td>sales</td>\n",
              "      <td>perindustrian</td>\n",
              "      <td>taman</td>\n",
              "      <td>cc</td>\n",
              "      <td>bayan</td>\n",
              "      <td>lepas</td>\n",
              "      <td>11900</td>\n",
              "      <td>name22042</td>\n",
              "    </tr>\n",
              "    <tr>\n",
              "      <th>3</th>\n",
              "      <td>2</td>\n",
              "      <td>('reset', 0.025491175796658917)</td>\n",
              "      <td>('sap', 0.022486513735323135)</td>\n",
              "      <td>('self', 0.02034758767776046)</td>\n",
              "      <td>('password', 0.018289457859983142)</td>\n",
              "      <td>('unlock', 0.017951589733194172)</td>\n",
              "      <td>('myid', 0.014978245937975396)</td>\n",
              "      <td>('name21889', 0.012160392444738316)</td>\n",
              "      <td>('guide', 0.00962928677891222)</td>\n",
              "      <td>('mya', 0.009498906370575523)</td>\n",
              "      <td>...</td>\n",
              "      <td>reset</td>\n",
              "      <td>sap</td>\n",
              "      <td>self</td>\n",
              "      <td>password</td>\n",
              "      <td>unlock</td>\n",
              "      <td>myid</td>\n",
              "      <td>name21889</td>\n",
              "      <td>guide</td>\n",
              "      <td>mya</td>\n",
              "      <td>resetunlock</td>\n",
              "    </tr>\n",
              "    <tr>\n",
              "      <th>4</th>\n",
              "      <td>3</td>\n",
              "      <td>('mdm', 0.022490986930776724)</td>\n",
              "      <td>('iphone', 0.02217333516421278)</td>\n",
              "      <td>('ipad', 0.01846507609656412)</td>\n",
              "      <td>('enrollment', 0.015399719299124289)</td>\n",
              "      <td>('enroll', 0.012408337126096661)</td>\n",
              "      <td>('ios', 0.010894347773486725)</td>\n",
              "      <td>('device', 0.010045356246387511)</td>\n",
              "      <td>('name10755', 0.008388168043832052)</td>\n",
              "      <td>('hub', 0.007583104384720129)</td>\n",
              "      <td>...</td>\n",
              "      <td>mdm</td>\n",
              "      <td>iphone</td>\n",
              "      <td>ipad</td>\n",
              "      <td>enrollment</td>\n",
              "      <td>enroll</td>\n",
              "      <td>ios</td>\n",
              "      <td>device</td>\n",
              "      <td>name10755</td>\n",
              "      <td>hub</td>\n",
              "      <td>mobile</td>\n",
              "    </tr>\n",
              "    <tr>\n",
              "      <th>5</th>\n",
              "      <td>4</td>\n",
              "      <td>('groups', 0.026352187760888386)</td>\n",
              "      <td>('group', 0.01483761793404089)</td>\n",
              "      <td>('ldap', 0.01278014017418125)</td>\n",
              "      <td>('ad', 0.011535264371898958)</td>\n",
              "      <td>('permission', 0.01091966654072004)</td>\n",
              "      <td>('myid', 0.008893661096024682)</td>\n",
              "      <td>('name21889', 0.00887647439554848)</td>\n",
              "      <td>('rights', 0.008075207382975111)</td>\n",
              "      <td>('permissions', 0.007654903657510927)</td>\n",
              "      <td>...</td>\n",
              "      <td>groups</td>\n",
              "      <td>group</td>\n",
              "      <td>ldap</td>\n",
              "      <td>ad</td>\n",
              "      <td>permission</td>\n",
              "      <td>myid</td>\n",
              "      <td>name21889</td>\n",
              "      <td>rights</td>\n",
              "      <td>permissions</td>\n",
              "      <td>add</td>\n",
              "    </tr>\n",
              "    <tr>\n",
              "      <th>6</th>\n",
              "      <td>5</td>\n",
              "      <td>('de', 0.02367562800178401)</td>\n",
              "      <td>('la', 0.021016965396951963)</td>\n",
              "      <td>('el', 0.017568812611393016)</td>\n",
              "      <td>('instruments', 0.016917183433418734)</td>\n",
              "      <td>('usuario', 0.016361220365255374)</td>\n",
              "      <td>('na', 0.015574277932923998)</td>\n",
              "      <td>('se', 0.014938307582142313)</td>\n",
              "      <td>('que', 0.014643461004830162)</td>\n",
              "      <td>('favor', 0.01420749436163751)</td>\n",
              "      <td>...</td>\n",
              "      <td>de</td>\n",
              "      <td>la</td>\n",
              "      <td>el</td>\n",
              "      <td>instruments</td>\n",
              "      <td>usuario</td>\n",
              "      <td>na</td>\n",
              "      <td>se</td>\n",
              "      <td>que</td>\n",
              "      <td>favor</td>\n",
              "      <td>para</td>\n",
              "    </tr>\n",
              "  </tbody>\n",
              "</table>\n",
              "<p>5 rows × 21 columns</p>\n",
              "</div>\n",
              "      <button class=\"colab-df-convert\" onclick=\"convertToInteractive('df-a1ff1881-23d2-4d52-88a5-24162db019ec')\"\n",
              "              title=\"Convert this dataframe to an interactive table.\"\n",
              "              style=\"display:none;\">\n",
              "        \n",
              "  <svg xmlns=\"http://www.w3.org/2000/svg\" height=\"24px\"viewBox=\"0 0 24 24\"\n",
              "       width=\"24px\">\n",
              "    <path d=\"M0 0h24v24H0V0z\" fill=\"none\"/>\n",
              "    <path d=\"M18.56 5.44l.94 2.06.94-2.06 2.06-.94-2.06-.94-.94-2.06-.94 2.06-2.06.94zm-11 1L8.5 8.5l.94-2.06 2.06-.94-2.06-.94L8.5 2.5l-.94 2.06-2.06.94zm10 10l.94 2.06.94-2.06 2.06-.94-2.06-.94-.94-2.06-.94 2.06-2.06.94z\"/><path d=\"M17.41 7.96l-1.37-1.37c-.4-.4-.92-.59-1.43-.59-.52 0-1.04.2-1.43.59L10.3 9.45l-7.72 7.72c-.78.78-.78 2.05 0 2.83L4 21.41c.39.39.9.59 1.41.59.51 0 1.02-.2 1.41-.59l7.78-7.78 2.81-2.81c.8-.78.8-2.07 0-2.86zM5.41 20L4 18.59l7.72-7.72 1.47 1.35L5.41 20z\"/>\n",
              "  </svg>\n",
              "      </button>\n",
              "      \n",
              "  <style>\n",
              "    .colab-df-container {\n",
              "      display:flex;\n",
              "      flex-wrap:wrap;\n",
              "      gap: 12px;\n",
              "    }\n",
              "\n",
              "    .colab-df-convert {\n",
              "      background-color: #E8F0FE;\n",
              "      border: none;\n",
              "      border-radius: 50%;\n",
              "      cursor: pointer;\n",
              "      display: none;\n",
              "      fill: #1967D2;\n",
              "      height: 32px;\n",
              "      padding: 0 0 0 0;\n",
              "      width: 32px;\n",
              "    }\n",
              "\n",
              "    .colab-df-convert:hover {\n",
              "      background-color: #E2EBFA;\n",
              "      box-shadow: 0px 1px 2px rgba(60, 64, 67, 0.3), 0px 1px 3px 1px rgba(60, 64, 67, 0.15);\n",
              "      fill: #174EA6;\n",
              "    }\n",
              "\n",
              "    [theme=dark] .colab-df-convert {\n",
              "      background-color: #3B4455;\n",
              "      fill: #D2E3FC;\n",
              "    }\n",
              "\n",
              "    [theme=dark] .colab-df-convert:hover {\n",
              "      background-color: #434B5C;\n",
              "      box-shadow: 0px 1px 3px 1px rgba(0, 0, 0, 0.15);\n",
              "      filter: drop-shadow(0px 1px 2px rgba(0, 0, 0, 0.3));\n",
              "      fill: #FFFFFF;\n",
              "    }\n",
              "  </style>\n",
              "\n",
              "      <script>\n",
              "        const buttonEl =\n",
              "          document.querySelector('#df-a1ff1881-23d2-4d52-88a5-24162db019ec button.colab-df-convert');\n",
              "        buttonEl.style.display =\n",
              "          google.colab.kernel.accessAllowed ? 'block' : 'none';\n",
              "\n",
              "        async function convertToInteractive(key) {\n",
              "          const element = document.querySelector('#df-a1ff1881-23d2-4d52-88a5-24162db019ec');\n",
              "          const dataTable =\n",
              "            await google.colab.kernel.invokeFunction('convertToInteractive',\n",
              "                                                     [key], {});\n",
              "          if (!dataTable) return;\n",
              "\n",
              "          const docLinkHtml = 'Like what you see? Visit the ' +\n",
              "            '<a target=\"_blank\" href=https://colab.research.google.com/notebooks/data_table.ipynb>data table notebook</a>'\n",
              "            + ' to learn more about interactive tables.';\n",
              "          element.innerHTML = '';\n",
              "          dataTable['output_type'] = 'display_data';\n",
              "          await google.colab.output.renderOutput(dataTable, element);\n",
              "          const docLink = document.createElement('div');\n",
              "          docLink.innerHTML = docLinkHtml;\n",
              "          element.appendChild(docLink);\n",
              "        }\n",
              "      </script>\n",
              "    </div>\n",
              "  </div>\n",
              "  "
            ],
            "text/plain": [
              "   Unnamed: 0                                 0  \\\n",
              "2           1   ('pulau', 0.005680438824211229)   \n",
              "3           2   ('reset', 0.025491175796658917)   \n",
              "4           3     ('mdm', 0.022490986930776724)   \n",
              "5           4  ('groups', 0.026352187760888386)   \n",
              "6           5       ('de', 0.02367562800178401)   \n",
              "\n",
              "                                 1                                2  \\\n",
              "2    ('pig', 0.005677890594610601)  ('sales', 0.004923141302081199)   \n",
              "3    ('sap', 0.022486513735323135)    ('self', 0.02034758767776046)   \n",
              "4  ('iphone', 0.02217333516421278)    ('ipad', 0.01846507609656412)   \n",
              "5   ('group', 0.01483761793404089)    ('ldap', 0.01278014017418125)   \n",
              "6     ('la', 0.021016965396951963)     ('el', 0.017568812611393016)   \n",
              "\n",
              "                                         3  \\\n",
              "2  ('perindustrian', 0.004730843714569534)   \n",
              "3       ('password', 0.018289457859983142)   \n",
              "4     ('enrollment', 0.015399719299124289)   \n",
              "5             ('ad', 0.011535264371898958)   \n",
              "6    ('instruments', 0.016917183433418734)   \n",
              "\n",
              "                                     4                               5  \\\n",
              "2      ('taman', 0.004730249587641317)    ('cc', 0.004720358959066131)   \n",
              "3     ('unlock', 0.017951589733194172)  ('myid', 0.014978245937975396)   \n",
              "4     ('enroll', 0.012408337126096661)   ('ios', 0.010894347773486725)   \n",
              "5  ('permission', 0.01091966654072004)  ('myid', 0.008893661096024682)   \n",
              "6    ('usuario', 0.016361220365255374)    ('na', 0.015574277932923998)   \n",
              "\n",
              "                                     6                                    7  \\\n",
              "2      ('bayan', 0.004715041340763676)      ('lepas', 0.004714752436996077)   \n",
              "3  ('name21889', 0.012160392444738316)       ('guide', 0.00962928677891222)   \n",
              "4     ('device', 0.010045356246387511)  ('name10755', 0.008388168043832052)   \n",
              "5   ('name21889', 0.00887647439554848)     ('rights', 0.008075207382975111)   \n",
              "6         ('se', 0.014938307582142313)        ('que', 0.014643461004830162)   \n",
              "\n",
              "                                       8  ... keyword_0 keyword_1 keyword_2  \\\n",
              "2        ('11900', 0.004709811075260522)  ...     pulau       pig     sales   \n",
              "3          ('mya', 0.009498906370575523)  ...     reset       sap      self   \n",
              "4          ('hub', 0.007583104384720129)  ...       mdm    iphone      ipad   \n",
              "5  ('permissions', 0.007654903657510927)  ...    groups     group      ldap   \n",
              "6         ('favor', 0.01420749436163751)  ...        de        la        el   \n",
              "\n",
              "       keyword_3   keyword_4 keyword_5  keyword_6  keyword_7    keyword_8  \\\n",
              "2  perindustrian       taman        cc      bayan      lepas        11900   \n",
              "3       password      unlock      myid  name21889      guide          mya   \n",
              "4     enrollment      enroll       ios     device  name10755          hub   \n",
              "5             ad  permission      myid  name21889     rights  permissions   \n",
              "6    instruments     usuario        na         se        que        favor   \n",
              "\n",
              "     keyword_9  \n",
              "2    name22042  \n",
              "3  resetunlock  \n",
              "4       mobile  \n",
              "5          add  \n",
              "6         para  \n",
              "\n",
              "[5 rows x 21 columns]"
            ]
          },
          "execution_count": 38,
          "metadata": {},
          "output_type": "execute_result"
        }
      ],
      "source": [
        "keys = [0,1,2,3,4,5,6,7,8,9]\n",
        "for i in keys:\n",
        "    keywords = []\n",
        "    for index, row in df1.iterrows():\n",
        "        keywords.append(row[keys[i]].split(\"'\")[1])\n",
        "    column_title = \"keyword_\" + str(i)\n",
        "    df[column_title]=keywords"
      ]
    },
    {
      "cell_type": "code",
      "execution_count": null,
      "metadata": {
        "colab": {
          "base_uri": "https://localhost:8080/"
        },
        "id": "1asoBIv6l9qt",
        "outputId": "2f464828-6258-4ab3-d899-f2c42a19d740"
      },
      "outputs": [
        {
          "name": "stderr",
          "output_type": "stream",
          "text": [
            "<ipython-input-39-a7764f3cd8cf>:1: SettingWithCopyWarning: \n",
            "A value is trying to be set on a copy of a slice from a DataFrame.\n",
            "Try using .loc[row_indexer,col_indexer] = value instead\n",
            "\n",
            "See the caveats in the documentation: https://pandas.pydata.org/pandas-docs/stable/user_guide/indexing.html#returning-a-view-versus-a-copy\n",
            "  df1['keyword_string'] = df1['keyword_0'] + ' ' + df1['keyword_1'] + ' ' + df1['keyword_2'] + ' ' + df1['keyword_3'] + ' ' + df1['keyword_4'] + ' ' + df1['keyword_5'] + ' ' + df1['keyword_6'] + ' ' + df1['keyword_7'] + ' ' + df1['keyword_8'] + ' ' + df1['keyword_9']\n"
          ]
        }
      ],
      "source": [
        "df1['keyword_string'] = df1['keyword_0'] + ' ' + df1['keyword_1'] + ' ' + df1['keyword_2'] + ' ' + df1['keyword_3'] + ' ' + df1['keyword_4'] + ' ' + df1['keyword_5'] + ' ' + df1['keyword_6'] + ' ' + df1['keyword_7'] + ' ' + df1['keyword_8'] + ' ' + df1['keyword_9'] "
      ]
    },
    {
      "cell_type": "code",
      "execution_count": null,
      "metadata": {
        "colab": {
          "base_uri": "https://localhost:8080/"
        },
        "id": "8dgoZ_aqbkkj",
        "outputId": "3a803584-7c9c-420a-8994-23ed28c21c6f"
      },
      "outputs": [
        {
          "name": "stderr",
          "output_type": "stream",
          "text": [
            "/usr/local/lib/python3.8/dist-packages/sklearn/utils/deprecation.py:87: FutureWarning: Function get_feature_names is deprecated; get_feature_names is deprecated in 1.0 and will be removed in 1.2. Please use get_feature_names_out instead.\n",
            "  warnings.warn(msg, category=FutureWarning)\n"
          ]
        },
        {
          "name": "stdout",
          "output_type": "stream",
          "text": [
            "     00  0018201  0084  0101  0102  010phonenumber2032  010phonenumber2279  \\\n",
            "0     0        0     0     0     0                   0                   0   \n",
            "1     0        0     0     0     0                   0                   0   \n",
            "2     0        0     0     0     0                   0                   0   \n",
            "3     0        0     0     0     0                   0                   0   \n",
            "4     0        0     0     0     0                   0                   0   \n",
            "..   ..      ...   ...   ...   ...                 ...                 ...   \n",
            "858   0        0     0     0     0                   0                   0   \n",
            "859   0        0     0     0     0                   0                   0   \n",
            "860   0        0     0     0     0                   0                   0   \n",
            "861   0        0     0     0     0                   0                   0   \n",
            "862   0        0     0     0     0                   0                   0   \n",
            "\n",
            "     010phonenumber2482  010phonenumber2502tel272001020222203067  01112022  \\\n",
            "0                     0                                        0         0   \n",
            "1                     0                                        0         0   \n",
            "2                     0                                        0         0   \n",
            "3                     0                                        0         0   \n",
            "4                     0                                        0         0   \n",
            "..                  ...                                      ...       ...   \n",
            "858                   0                                        0         0   \n",
            "859                   0                                        0         0   \n",
            "860                   0                                        0         0   \n",
            "861                   0                                        0         0   \n",
            "862                   0                                        0         0   \n",
            "\n",
            "     ...  zoor  zpp00pocontrol  zqm00qm12  zqm52finalrelease  zrd0  zscaler  \\\n",
            "0    ...     0               0          0                  0     0        0   \n",
            "1    ...     0               0          0                  0     0        0   \n",
            "2    ...     0               0          0                  0     0        0   \n",
            "3    ...     0               0          0                  0     0        0   \n",
            "4    ...     0               0          0                  0     0        0   \n",
            "..   ...   ...             ...        ...                ...   ...      ...   \n",
            "858  ...     0               0          0                  0     0        0   \n",
            "859  ...     0               0          0                  0     0        0   \n",
            "860  ...     0               0          0                  0     0        0   \n",
            "861  ...     0               0          0                  0     0        0   \n",
            "862  ...     0               0          0                  0     0        0   \n",
            "\n",
            "     zsdomicocrit  zt230  zugang  zuweisnut  \n",
            "0               0      0       0          0  \n",
            "1               0      0       0          0  \n",
            "2               0      0       0          0  \n",
            "3               0      0       0          0  \n",
            "4               0      0       0          0  \n",
            "..            ...    ...     ...        ...  \n",
            "858             0      0       0          0  \n",
            "859             0      0       0          0  \n",
            "860             0      0       0          0  \n",
            "861             0      0       0          0  \n",
            "862             0      0       0          0  \n",
            "\n",
            "[863 rows x 4540 columns]\n",
            "[296  38 350 493 298 500 183 209  33 165 253 481 247  46 252 229 329 260\n",
            " 294 189 142 241  61 357  30 484 423 274 337 373 150  77  90 367 148 267\n",
            " 315 415 345  30 239 209 211 484 172 245 347   2  29 122   1 235 150 280\n",
            " 145 505 133  79 183 280 224 204 265 336 236 507 146 294  37 224 316 263\n",
            " 498  84 304 202  61 196  62 178 196 475 245 506  67 326 428 197 213 211\n",
            "  94 142 263 137 135 206 156 249 232 299   5 226 101 229 182  27 156  84\n",
            " 221 496 333  68  43 440  66 431 253  54 355   5 249 188 143 475 268 395\n",
            " 208 199 158 347 395  97  83 206 322 485 496  21 184 112  22 233   5  77\n",
            " 154 485  48 131 311 335 204 433  64 483 145 158 109 423  94  11 441 336\n",
            " 309 367 180 419 102 292 436 394  50   5 359 199 139 331 358  98 252 429\n",
            "  50 118  97  18 421 215 505 208 508 498 247 364 403  86 327 492  68   3\n",
            " 272 243 181 192  46 127 335 361  68 495 155 479 152 103 410  33 120 269\n",
            " 374 359 380 378  92 337  47 246  48 282 482 366 393 241 147  14 222 292\n",
            " 170 490 261  67 417 220  90 339 205 215 135  76  20  49 364  65 340 249\n",
            " 272 442 362 388  38 239 212 383   8 125 385 402 250 437 264  64  14  31\n",
            " 354 147 388 113  63   7 391 498  87 262  54 443 494 320  57 344  42 286\n",
            " 248 383 154 360 444 107 271 429  33 187   9  72 198 191 362  93 281 120\n",
            " 310 324  75 242  99 128  18 339 428 338  24 487  17 389 306 221 265 373\n",
            " 421 176 167 376 216  29  73 186 313 324 310 283 269 237 266 189 322 381\n",
            " 125  99 380   1 405 352  12 180 389  34 168 137 289 213 237  60 235 163\n",
            " 500 475 351 427 171 432 111 314 217 107   4 391 193 101 343 305 503 287\n",
            " 294  59 121 222  81  47  95 314 487   4 259  81 372 354 172 425 288 497\n",
            " 445 233 446 350 307 370  94   7 493 332 251 112 504  25 230 355 398 343\n",
            " 219 302 114 104 227 244 503 340  52 278 478 188 501  19 127  91  45 201\n",
            " 182 342 447 136 316 448 377 285 110 179  37 301 207 256 191  95 251 372\n",
            " 129 184 169 271 438 236 270  74 118 410  73 449 271 228 476 385 165 365\n",
            " 163 149  75 450 260 284 194  11 451  13 277 259  83 195  88 217 452 256\n",
            " 360  50 105 285 374 116 481 264 232  87 333 377 223  55  23 332  17  56\n",
            " 328  43 453 376 177  58 379 133 278 178 454 128  13 325  41 506  78 455\n",
            " 477  73 290 342 157 456 220 131 127 400 100 116 368 162 202 141 457 491\n",
            "  70 501 144  52  41 167 401 303 181   5  93 161 160 291  22   6 434 132\n",
            " 321 363 257 132 458 361 323 334 162 384 331  82 330  35  32 427 258 459\n",
            " 105 174 411 288 415 356 214 200 255 315 508 297 225 352 138 401 418 243\n",
            " 119 344 218  79 353  40 358  57 323  59 349 168 419 370 393 507 155 460\n",
            " 431  15 405 185 153 173 501 494   9 113  19 326 489 495 238 426 136 366\n",
            " 139 257 175 474 317 148  28 195 124 345 198 502 461  76 134   4 173  26\n",
            " 325 174 412 499 231  42 462 386  71 274  57  51  15 319 390 396 321 284\n",
            " 477 210 379 293 270 244 488 159 302 275 414  39 463 371 308 328 152 387\n",
            "  24 300 426 297 262 464 479 480 407 164 334 422 406 375 312 486 180 408\n",
            " 200 104 499 186 369 227 357 319 119 281 106 313 336 306 291 346 299 351\n",
            " 276 117  16 175 276 369 296 478 384  88 399 404 465  87 130 476  92  27\n",
            " 466 412 282 131 329 122 403  44 216 378 273 408 169  36 166  66 402  70\n",
            " 140   5 279 254 392  85 146 300 418 467 267 490 497  69 240 365 430 115\n",
            " 349 407 258 304 435 318 399 414 160 234 420 108 398 201 151 193 424 392\n",
            " 140 468 425 295 469 381 341 291  96 348 171 177  80 279 369 413 470  79\n",
            " 353 109 375 483  16 320 383 382 301 117 219 482 298  89 476 439 471 397\n",
            " 240 190 430  22 290 170 484 431  53 123 126 364 287 255  91 417 472 327\n",
            " 473 416  51 474 179 477 203 308 141  35  69 400  10 409 111 220  40]\n"
          ]
        }
      ],
      "source": [
        "CountVec = CountVectorizer(ngram_range=(1, 1))\n",
        "\n",
        "# transform\n",
        "\n",
        "Count_top_quality_data = CountVec.fit_transform(df1['keyword_string'])\n",
        "\n",
        "# create dataframe\n",
        "\n",
        "cv_top_quality_dataframe = pd.DataFrame(Count_top_quality_data.toarray(),\n",
        "                                        columns=CountVec.get_feature_names())\n",
        "\n",
        "print(cv_top_quality_dataframe)\n",
        "\n",
        "clustering_top_quality = hierarchy.linkage(cv_top_quality_dataframe, method='ward', metric='euclidean',\n",
        "                                           optimal_ordering=False)\n",
        "\n",
        "clusters=hierarchy.fcluster(clustering_top_quality, 0)\n",
        "print(clusters)"
      ]
    },
    {
      "cell_type": "code",
      "execution_count": null,
      "metadata": {
        "colab": {
          "base_uri": "https://localhost:8080/"
        },
        "id": "2wisD5svpUxg",
        "outputId": "76e84551-4119-44a0-8b75-80ab47c5f638"
      },
      "outputs": [
        {
          "name": "stdout",
          "output_type": "stream",
          "text": [
            "Data clustered\n"
          ]
        },
        {
          "name": "stderr",
          "output_type": "stream",
          "text": [
            "<ipython-input-43-d5b147393021>:1: SettingWithCopyWarning: \n",
            "A value is trying to be set on a copy of a slice from a DataFrame.\n",
            "Try using .loc[row_indexer,col_indexer] = value instead\n",
            "\n",
            "See the caveats in the documentation: https://pandas.pydata.org/pandas-docs/stable/user_guide/indexing.html#returning-a-view-versus-a-copy\n",
            "  df1['cluster']=clusters\n"
          ]
        }
      ],
      "source": [
        "df1['cluster']=clusters\n",
        "\n",
        "\n",
        "# try to experiment wiht other algorithms and metrics\n",
        "\n",
        "keywords_top_quality = df1['keyword_string'].tolist()\n",
        "print(\"Data clustered\")\n",
        "\n",
        "\n"
      ]
    },
    {
      "cell_type": "code",
      "execution_count": null,
      "metadata": {
        "colab": {
          "base_uri": "https://localhost:8080/"
        },
        "id": "j6KHIYrLpUqo",
        "outputId": "7862693e-4aa4-476a-cba6-fc43d7b8faa6"
      },
      "outputs": [
        {
          "name": "stderr",
          "output_type": "stream",
          "text": [
            "<ipython-input-46-613710b49c21>:2: SettingWithCopyWarning: \n",
            "A value is trying to be set on a copy of a slice from a DataFrame.\n",
            "Try using .loc[row_indexer,col_indexer] = value instead\n",
            "\n",
            "See the caveats in the documentation: https://pandas.pydata.org/pandas-docs/stable/user_guide/indexing.html#returning-a-view-versus-a-copy\n",
            "  df1['description'] = str(row[1])+\"_\"+row['keyword_string']\n"
          ]
        }
      ],
      "source": [
        "for index, row in df1.iterrows():\n",
        "    df1['description'] = str(row[0])+\"_\"+row['keyword_string']\n",
        "df1.to_excel(\"clusteredData.xlsx\")\n",
        "keywords_top_quality = df1['description'].tolist()\n",
        "fig, axes = plt.subplots(1, 2, figsize=(60, 400), dpi=150)\n",
        "\n",
        "\n",
        "\n",
        "plt.title(\"Dendograms of Top Quality Topics\")\n",
        "\n",
        "dend = hierarchy.dendrogram(clustering_top_quality, ax=axes[1], above_threshold_color='#bcbddc', orientation='right',\n",
        "                            labels=keywords_top_quality, leaf_font_size=12)\n",
        "\n",
        "plt.savefig(\"test.svg\")"
      ]
    },
    {
      "cell_type": "code",
      "execution_count": null,
      "metadata": {
        "id": "FIk0O81RqZ3c"
      },
      "outputs": [],
      "source": [
        "df1.to_excel(\"/content/gdrive/My Drive/Colab Notebooks/Pipeline_Extended/topic_cluster.xlsx\")"
      ]
    }
  ],
  "metadata": {
    "colab": {
      "provenance": []
    },
    "kernelspec": {
      "display_name": "Python 3",
      "name": "python3"
    },
    "language_info": {
      "name": "python"
    }
  },
  "nbformat": 4,
  "nbformat_minor": 0
}
